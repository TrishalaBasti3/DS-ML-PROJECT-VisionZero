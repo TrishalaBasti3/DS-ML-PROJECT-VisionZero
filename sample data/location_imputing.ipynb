{
 "cells": [
  {
   "cell_type": "markdown",
   "id": "6948f7cc",
   "metadata": {
    "ExecuteTime": {
     "end_time": "2021-11-11T04:49:45.896997Z",
     "start_time": "2021-11-11T04:49:45.883415Z"
    }
   },
   "source": [
    "# Impute location code"
   ]
  },
  {
   "cell_type": "code",
   "execution_count": 4,
   "id": "7c5172bc",
   "metadata": {
    "ExecuteTime": {
     "end_time": "2021-11-11T04:49:55.764785Z",
     "start_time": "2021-11-11T04:49:53.156933Z"
    }
   },
   "outputs": [
    {
     "name": "stderr",
     "output_type": "stream",
     "text": [
      "PROJ: proj_create_from_database: SQLite error on SELECT name, type, coordinate_system_auth_name, coordinate_system_code, datum_auth_name, datum_code, area_of_use_auth_name, area_of_use_code, text_definition, deprecated FROM geodetic_crs WHERE auth_name = ? AND code = ?: no such column: area_of_use_auth_name\n"
     ]
    }
   ],
   "source": [
    "import pandas as pd\n",
    "import numpy as np\n",
    "import seaborn as sns\n",
    "import matplotlib.pyplot as plt\n",
    "from matplotlib.pyplot import figure\n",
    "\n",
    "# Import libaries for handling location related information\n",
    "import geopy\n",
    "import geopandas as gpd\n",
    "from geopy.geocoders import Nominatim\n",
    "from geopy.extra.rate_limiter import RateLimiter\n",
    "\n",
    "import plotly_express as px\n",
    "from shapely.geometry import point\n",
    "from geopandas import GeoDataFrame\n",
    "import pylab\n",
    "\n",
    "from uszipcode import SearchEngine\n",
    "\n",
    "# To see all the columns \n",
    "pd.set_option('display.max_columns', 85)\n",
    "pd.set_option('display.max_rows', 300)"
   ]
  },
  {
   "cell_type": "code",
   "execution_count": 6,
   "id": "f7bf8bf1",
   "metadata": {
    "ExecuteTime": {
     "end_time": "2021-11-11T04:51:22.519937Z",
     "start_time": "2021-11-11T04:51:19.406809Z"
    }
   },
   "outputs": [],
   "source": [
    "crashes = pd.read_csv(\"C:\\\\CompletePython\\\\DataScience\\VisionZero\\\\2016\\\\full.csv\", low_memory=False)"
   ]
  },
  {
   "cell_type": "code",
   "execution_count": 7,
   "id": "072f94ef",
   "metadata": {
    "ExecuteTime": {
     "end_time": "2021-11-11T04:52:56.318236Z",
     "start_time": "2021-11-11T04:52:56.307265Z"
    }
   },
   "outputs": [
    {
     "data": {
      "text/plain": [
       "(518491, 40)"
      ]
     },
     "execution_count": 7,
     "metadata": {},
     "output_type": "execute_result"
    }
   ],
   "source": [
    "crashes.shape"
   ]
  },
  {
   "cell_type": "code",
   "execution_count": 8,
   "id": "3b5f36c3",
   "metadata": {
    "ExecuteTime": {
     "end_time": "2021-11-11T04:54:58.042469Z",
     "start_time": "2021-11-11T04:54:58.022488Z"
    },
    "scrolled": true
   },
   "outputs": [
    {
     "data": {
      "text/plain": [
       "Index(['Unnamed: 0', 'crash_date', 'crash_time', 'person_type',\n",
       "       'person_injury', 'person_age', 'ejection', 'emotional_status',\n",
       "       'bodily_injury', 'position_in_vehicle', 'safety_equipment', 'complaint',\n",
       "       'ped_role', 'person_sex', 'vehicle_type', 'vehicle_make',\n",
       "       'vehicle_year', 'vehicle_occupants', 'driver_sex',\n",
       "       'driver_license_status', 'pre_crash', 'point_of_impact',\n",
       "       'vehicle_damage', 'contributing_factor_1', 'contributing_factor_2',\n",
       "       'borough', 'zip_code', 'latitude', 'longitude', 'on_street_name',\n",
       "       'collision_id', 'number_of_contributing_vehicles',\n",
       "       'number_of_persons_injured', 'number_of_persons_killed',\n",
       "       'number_of_pedestrians_injured', 'number_of_pedestrians_killed',\n",
       "       'number_of_cyclist_injured', 'number_of_cyclist_killed',\n",
       "       'number_of_motorist_injured', 'number_of_motorist_killed'],\n",
       "      dtype='object')"
      ]
     },
     "execution_count": 8,
     "metadata": {},
     "output_type": "execute_result"
    }
   ],
   "source": [
    "crashes.columns"
   ]
  },
  {
   "cell_type": "code",
   "execution_count": 9,
   "id": "878c5878",
   "metadata": {
    "ExecuteTime": {
     "end_time": "2021-11-11T04:55:12.367011Z",
     "start_time": "2021-11-11T04:55:11.268188Z"
    }
   },
   "outputs": [
    {
     "data": {
      "text/plain": [
       "Unnamed: 0                         411098\n",
       "collision_id                       104878\n",
       "latitude                            34581\n",
       "longitude                           27380\n",
       "on_street_name                       5952\n",
       "crash_date                           2012\n",
       "crash_time                           1439\n",
       "vehicle_make                         1231\n",
       "vehicle_type                          309\n",
       "person_age                            288\n",
       "zip_code                              212\n",
       "vehicle_year                          100\n",
       "contributing_factor_2                  55\n",
       "contributing_factor_1                  55\n",
       "vehicle_occupants                      47\n",
       "complaint                              21\n",
       "point_of_impact                        19\n",
       "vehicle_damage                         19\n",
       "pre_crash                              19\n",
       "safety_equipment                       17\n",
       "number_of_motorist_injured             16\n",
       "number_of_persons_injured              16\n",
       "bodily_injury                          14\n",
       "position_in_vehicle                    11\n",
       "ped_role                               10\n",
       "emotional_status                        8\n",
       "number_of_pedestrians_injured           7\n",
       "ejection                                6\n",
       "number_of_contributing_vehicles         6\n",
       "borough                                 5\n",
       "number_of_cyclist_injured               4\n",
       "person_type                             4\n",
       "driver_license_status                   3\n",
       "person_injury                           3\n",
       "number_of_persons_killed                3\n",
       "driver_sex                              3\n",
       "person_sex                              3\n",
       "number_of_motorist_killed               3\n",
       "number_of_pedestrians_killed            2\n",
       "number_of_cyclist_killed                2\n",
       "dtype: int64"
      ]
     },
     "execution_count": 9,
     "metadata": {},
     "output_type": "execute_result"
    }
   ],
   "source": [
    "crashes.nunique().sort_values(ascending=False)"
   ]
  },
  {
   "cell_type": "code",
   "execution_count": 10,
   "id": "927dd2d1",
   "metadata": {
    "ExecuteTime": {
     "end_time": "2021-11-11T04:56:03.484410Z",
     "start_time": "2021-11-11T04:56:03.470140Z"
    }
   },
   "outputs": [
    {
     "data": {
      "text/plain": [
       "Unnamed: 0                           int64\n",
       "crash_date                          object\n",
       "crash_time                          object\n",
       "person_type                         object\n",
       "person_injury                       object\n",
       "person_age                         float64\n",
       "ejection                            object\n",
       "emotional_status                    object\n",
       "bodily_injury                       object\n",
       "position_in_vehicle                 object\n",
       "safety_equipment                    object\n",
       "complaint                           object\n",
       "ped_role                            object\n",
       "person_sex                          object\n",
       "vehicle_type                        object\n",
       "vehicle_make                        object\n",
       "vehicle_year                       float64\n",
       "vehicle_occupants                  float64\n",
       "driver_sex                          object\n",
       "driver_license_status               object\n",
       "pre_crash                           object\n",
       "point_of_impact                     object\n",
       "vehicle_damage                      object\n",
       "contributing_factor_1               object\n",
       "contributing_factor_2               object\n",
       "borough                             object\n",
       "zip_code                           float64\n",
       "latitude                           float64\n",
       "longitude                          float64\n",
       "on_street_name                      object\n",
       "collision_id                         int64\n",
       "number_of_contributing_vehicles      int64\n",
       "number_of_persons_injured          float64\n",
       "number_of_persons_killed           float64\n",
       "number_of_pedestrians_injured        int64\n",
       "number_of_pedestrians_killed         int64\n",
       "number_of_cyclist_injured            int64\n",
       "number_of_cyclist_killed             int64\n",
       "number_of_motorist_injured           int64\n",
       "number_of_motorist_killed            int64\n",
       "dtype: object"
      ]
     },
     "execution_count": 10,
     "metadata": {},
     "output_type": "execute_result"
    }
   ],
   "source": [
    "crashes.dtypes"
   ]
  },
  {
   "cell_type": "code",
   "execution_count": 11,
   "id": "2a2cede3",
   "metadata": {
    "ExecuteTime": {
     "end_time": "2021-11-11T04:56:28.418371Z",
     "start_time": "2021-11-11T04:56:28.001058Z"
    },
    "scrolled": true
   },
   "outputs": [
    {
     "data": {
      "text/plain": [
       "driver_license_status              321333\n",
       "driver_sex                         314014\n",
       "vehicle_make                       305494\n",
       "vehicle_year                       303963\n",
       "pre_crash                          301265\n",
       "contributing_factor_2              301209\n",
       "vehicle_occupants                  301131\n",
       "vehicle_type                       301038\n",
       "vehicle_damage                     300989\n",
       "point_of_impact                    300785\n",
       "contributing_factor_1              300532\n",
       "ejection                           292527\n",
       "safety_equipment                   292504\n",
       "position_in_vehicle                292483\n",
       "emotional_status                   286887\n",
       "bodily_injury                      286883\n",
       "complaint                          286877\n",
       "zip_code                           199771\n",
       "borough                            199673\n",
       "person_age                         135089\n",
       "person_sex                         127491\n",
       "on_street_name                     110174\n",
       "ped_role                            95760\n",
       "crash_date                          95755\n",
       "person_type                         95755\n",
       "crash_time                          95755\n",
       "person_injury                       95755\n",
       "latitude                            46800\n",
       "longitude                           46800\n",
       "number_of_persons_killed               13\n",
       "number_of_persons_injured              10\n",
       "number_of_pedestrians_killed            0\n",
       "number_of_motorist_injured              0\n",
       "number_of_cyclist_killed                0\n",
       "number_of_cyclist_injured               0\n",
       "Unnamed: 0                              0\n",
       "number_of_pedestrians_injured           0\n",
       "number_of_contributing_vehicles         0\n",
       "collision_id                            0\n",
       "number_of_motorist_killed               0\n",
       "dtype: int64"
      ]
     },
     "execution_count": 11,
     "metadata": {},
     "output_type": "execute_result"
    }
   ],
   "source": [
    "crashes.isnull().sum().sort_values(ascending=False)"
   ]
  },
  {
   "cell_type": "code",
   "execution_count": null,
   "id": "bc291b06",
   "metadata": {},
   "outputs": [],
   "source": [
    "ax = df['name'].value_counts().plot(kind='bar',\n",
    "                                    figsize=(14,8),\n",
    "                                    title=\"Number for each Owner Name\")\n",
    "ax.set_xlabel(\"Owner Names\")\n",
    "ax.set_ylabel(\"Frequency\")"
   ]
  },
  {
   "cell_type": "code",
   "execution_count": 12,
   "id": "52213a75",
   "metadata": {
    "ExecuteTime": {
     "end_time": "2021-11-11T04:59:56.618960Z",
     "start_time": "2021-11-11T04:59:56.309604Z"
    }
   },
   "outputs": [
    {
     "data": {
      "text/plain": [
       "Text(0, 0.5, 'Frequency')"
      ]
     },
     "execution_count": 12,
     "metadata": {},
     "output_type": "execute_result"
    },
    {
     "data": {
      "image/png": "[encoded data removed]",
      "text/plain": [
       "<Figure size 1008x576 with 1 Axes>"
      ]
     },
     "metadata": {
      "needs_background": "light"
     },
     "output_type": "display_data"
    }
   ],
   "source": [
    "ax = crashes['person_type'].value_counts().plot(kind='bar',\n",
    "                                    figsize=(14,8),\n",
    "                                    title=\"Number for each person_type\")\n",
    "ax.set_xlabel(\"person_type\")\n",
    "ax.set_ylabel(\"Frequency\")"
   ]
  },
  {
   "cell_type": "code",
   "execution_count": 13,
   "id": "ba596e2f",
   "metadata": {
    "ExecuteTime": {
     "end_time": "2021-11-11T05:01:15.234466Z",
     "start_time": "2021-11-11T05:01:15.004432Z"
    }
   },
   "outputs": [
    {
     "data": {
      "text/plain": [
       "Text(0, 0.5, 'Frequency')"
      ]
     },
     "execution_count": 13,
     "metadata": {},
     "output_type": "execute_result"
    },
    {
     "data": {
      "image/png": "[encoded data removed]",
      "text/plain": [
       "<Figure size 1008x576 with 1 Axes>"
      ]
     },
     "metadata": {
      "needs_background": "light"
     },
     "output_type": "display_data"
    }
   ],
   "source": [
    "ax = crashes['ped_role'].value_counts().plot(kind='bar',\n",
    "                                    figsize=(14,8),\n",
    "                                    title=\"Number for each ped_role\")\n",
    "ax.set_xlabel(\"ped_role\")\n",
    "ax.set_ylabel(\"Frequency\")"
   ]
  }
 ],
 "metadata": {
  "kernelspec": {
   "display_name": "Python 3",
   "language": "python",
   "name": "python3"
  },
  "language_info": {
   "codemirror_mode": {
    "name": "ipython",
    "version": 3
   },
   "file_extension": ".py",
   "mimetype": "text/x-python",
   "name": "python",
   "nbconvert_exporter": "python",
   "pygments_lexer": "ipython3",
   "version": "3.8.8"
  },
  "toc": {
   "base_numbering": 1,
   "nav_menu": {},
   "number_sections": true,
   "sideBar": true,
   "skip_h1_title": false,
   "title_cell": "Table of Contents",
   "title_sidebar": "Contents",
   "toc_cell": false,
   "toc_position": {},
   "toc_section_display": true,
   "toc_window_display": false
  }
 },
 "nbformat": 4,
 "nbformat_minor": 5
}
