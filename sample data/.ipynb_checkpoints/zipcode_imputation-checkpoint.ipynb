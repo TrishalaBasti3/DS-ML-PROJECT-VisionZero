{
 "cells": [
  {
   "cell_type": "code",
   "execution_count": 1,
   "id": "b1e382a0",
   "metadata": {
    "ExecuteTime": {
     "end_time": "2021-11-25T09:48:26.826070Z",
     "start_time": "2021-11-25T09:48:25.307821Z"
    }
   },
   "outputs": [],
   "source": [
    "import pandas as pd\n",
    "import numpy as np\n",
    "import geopy\n",
    "# https://gis.stackexchange.com/questions/330840/error-installing-geopandas\n",
    "# conda install -c conda-forge geopandas\n",
    "\n",
    "import geopandas as gpd\n",
    "from geopy.geocoders import Nominatim\n",
    "from geopy.extra.rate_limiter import RateLimiter\n",
    "import matplotlib.pyplot as plt\n",
    "from shapely.geometry import point\n",
    "from geopandas import GeoDataFrame\n",
    "import plotly_express as px\n",
    "\n",
    "#from uszipcode import ZipcodeSearchEngine\n",
    "from uszipcode import SearchEngine\n",
    "\n",
    "pd.set_option('display.max_columns', 85)\n",
    "pd.set_option('display.max_rows', 300)"
   ]
  },
  {
   "cell_type": "code",
   "execution_count": 11,
   "id": "85feebd0",
   "metadata": {
    "ExecuteTime": {
     "end_time": "2021-11-25T09:51:26.845671Z",
     "start_time": "2021-11-25T09:51:25.923462Z"
    }
   },
   "outputs": [
    {
     "data": {
      "text/html": [
       "<div>\n",
       "<style scoped>\n",
       "    .dataframe tbody tr th:only-of-type {\n",
       "        vertical-align: middle;\n",
       "    }\n",
       "\n",
       "    .dataframe tbody tr th {\n",
       "        vertical-align: top;\n",
       "    }\n",
       "\n",
       "    .dataframe thead th {\n",
       "        text-align: right;\n",
       "    }\n",
       "</style>\n",
       "<table border=\"1\" class=\"dataframe\">\n",
       "  <thead>\n",
       "    <tr style=\"text-align: right;\">\n",
       "      <th></th>\n",
       "      <th>Unnamed: 0</th>\n",
       "      <th>crash_date_new</th>\n",
       "      <th>person_type</th>\n",
       "      <th>person_injury</th>\n",
       "      <th>person_age</th>\n",
       "      <th>ejection</th>\n",
       "      <th>position_in_vehicle</th>\n",
       "      <th>safety_equipment</th>\n",
       "      <th>ped_role</th>\n",
       "      <th>person_sex</th>\n",
       "      <th>vehicle_type</th>\n",
       "      <th>vehicle_make</th>\n",
       "      <th>vehicle_year</th>\n",
       "      <th>vehicle_occupants</th>\n",
       "      <th>driver_sex</th>\n",
       "      <th>driver_license_status</th>\n",
       "      <th>pre_crash</th>\n",
       "      <th>point_of_impact</th>\n",
       "      <th>vehicle_damage</th>\n",
       "      <th>contributing_factor_1</th>\n",
       "      <th>contributing_factor_2</th>\n",
       "      <th>borough</th>\n",
       "      <th>zip_code</th>\n",
       "      <th>latitude</th>\n",
       "      <th>longitude</th>\n",
       "      <th>on_street_name</th>\n",
       "      <th>collision_id</th>\n",
       "      <th>number_of_contributing_vehicles</th>\n",
       "      <th>crash_date_year</th>\n",
       "      <th>crash_date_month</th>\n",
       "      <th>crash_date_day</th>\n",
       "      <th>Time</th>\n",
       "      <th>completedate</th>\n",
       "    </tr>\n",
       "  </thead>\n",
       "  <tbody>\n",
       "    <tr>\n",
       "      <th>0</th>\n",
       "      <td>0</td>\n",
       "      <td>2019-10-26 00:00:00</td>\n",
       "      <td>OCCUPANT</td>\n",
       "      <td>NOT INJURED</td>\n",
       "      <td>52.0</td>\n",
       "      <td>NOT EJECTED</td>\n",
       "      <td>DRIVER</td>\n",
       "      <td>LAP BELT &amp; HARNESS</td>\n",
       "      <td>DRIVER</td>\n",
       "      <td>M</td>\n",
       "      <td>UNSPECIFIED</td>\n",
       "      <td>UNSPECIFIED</td>\n",
       "      <td>UNSPECIFIED</td>\n",
       "      <td>UNSPECIFIED</td>\n",
       "      <td>M</td>\n",
       "      <td>UNSPECIFIED</td>\n",
       "      <td>NOT_AVALIBLE</td>\n",
       "      <td>NOT_AVALIBLE</td>\n",
       "      <td>NOT_AVALIBLE</td>\n",
       "      <td>NOT_AVALIBLE</td>\n",
       "      <td>NOT_AVALIBLE</td>\n",
       "      <td>QUEENS</td>\n",
       "      <td>11378.0</td>\n",
       "      <td>40.725560</td>\n",
       "      <td>-73.89849</td>\n",
       "      <td>LONG ISLAND EXPRESSWAY</td>\n",
       "      <td>4230635</td>\n",
       "      <td>2</td>\n",
       "      <td>2019</td>\n",
       "      <td>10</td>\n",
       "      <td>26</td>\n",
       "      <td>16:30:00</td>\n",
       "      <td>2019-10-26 16:30:00</td>\n",
       "    </tr>\n",
       "    <tr>\n",
       "      <th>1</th>\n",
       "      <td>8</td>\n",
       "      <td>2019-10-26 00:00:00</td>\n",
       "      <td>OCCUPANT</td>\n",
       "      <td>NOT INJURED</td>\n",
       "      <td>41.0</td>\n",
       "      <td>NOT EJECTED</td>\n",
       "      <td>DRIVER</td>\n",
       "      <td>LAP BELT</td>\n",
       "      <td>DRIVER</td>\n",
       "      <td>M</td>\n",
       "      <td>UNSPECIFIED</td>\n",
       "      <td>UNSPECIFIED</td>\n",
       "      <td>UNSPECIFIED</td>\n",
       "      <td>UNSPECIFIED</td>\n",
       "      <td>M</td>\n",
       "      <td>UNSPECIFIED</td>\n",
       "      <td>NOT_AVALIBLE</td>\n",
       "      <td>NOT_AVALIBLE</td>\n",
       "      <td>NOT_AVALIBLE</td>\n",
       "      <td>NOT_AVALIBLE</td>\n",
       "      <td>NOT_AVALIBLE</td>\n",
       "      <td>MANHATTAN</td>\n",
       "      <td>10025.0</td>\n",
       "      <td>40.793377</td>\n",
       "      <td>-73.97086</td>\n",
       "      <td>AMSTERDAM AVENUE</td>\n",
       "      <td>4230398</td>\n",
       "      <td>2</td>\n",
       "      <td>2019</td>\n",
       "      <td>10</td>\n",
       "      <td>26</td>\n",
       "      <td>20:00:00</td>\n",
       "      <td>2019-10-26 20:00:00</td>\n",
       "    </tr>\n",
       "    <tr>\n",
       "      <th>2</th>\n",
       "      <td>9</td>\n",
       "      <td>2019-10-26 00:00:00</td>\n",
       "      <td>OCCUPANT</td>\n",
       "      <td>NOT INJURED</td>\n",
       "      <td>35.0</td>\n",
       "      <td>NOT EJECTED</td>\n",
       "      <td>DRIVER</td>\n",
       "      <td>LAP BELT</td>\n",
       "      <td>DRIVER</td>\n",
       "      <td>M</td>\n",
       "      <td>UNSPECIFIED</td>\n",
       "      <td>UNSPECIFIED</td>\n",
       "      <td>UNSPECIFIED</td>\n",
       "      <td>UNSPECIFIED</td>\n",
       "      <td>M</td>\n",
       "      <td>UNSPECIFIED</td>\n",
       "      <td>NOT_AVALIBLE</td>\n",
       "      <td>NOT_AVALIBLE</td>\n",
       "      <td>NOT_AVALIBLE</td>\n",
       "      <td>NOT_AVALIBLE</td>\n",
       "      <td>NOT_AVALIBLE</td>\n",
       "      <td>MANHATTAN</td>\n",
       "      <td>10025.0</td>\n",
       "      <td>40.793377</td>\n",
       "      <td>-73.97086</td>\n",
       "      <td>AMSTERDAM AVENUE</td>\n",
       "      <td>4230398</td>\n",
       "      <td>2</td>\n",
       "      <td>2019</td>\n",
       "      <td>10</td>\n",
       "      <td>26</td>\n",
       "      <td>20:00:00</td>\n",
       "      <td>2019-10-26 20:00:00</td>\n",
       "    </tr>\n",
       "  </tbody>\n",
       "</table>\n",
       "</div>"
      ],
      "text/plain": [
       "   Unnamed: 0       crash_date_new person_type person_injury  person_age  \\\n",
       "0           0  2019-10-26 00:00:00    OCCUPANT   NOT INJURED        52.0   \n",
       "1           8  2019-10-26 00:00:00    OCCUPANT   NOT INJURED        41.0   \n",
       "2           9  2019-10-26 00:00:00    OCCUPANT   NOT INJURED        35.0   \n",
       "\n",
       "      ejection position_in_vehicle    safety_equipment ped_role person_sex  \\\n",
       "0  NOT EJECTED              DRIVER  LAP BELT & HARNESS   DRIVER          M   \n",
       "1  NOT EJECTED              DRIVER            LAP BELT   DRIVER          M   \n",
       "2  NOT EJECTED              DRIVER            LAP BELT   DRIVER          M   \n",
       "\n",
       "  vehicle_type vehicle_make vehicle_year vehicle_occupants driver_sex  \\\n",
       "0  UNSPECIFIED  UNSPECIFIED  UNSPECIFIED       UNSPECIFIED          M   \n",
       "1  UNSPECIFIED  UNSPECIFIED  UNSPECIFIED       UNSPECIFIED          M   \n",
       "2  UNSPECIFIED  UNSPECIFIED  UNSPECIFIED       UNSPECIFIED          M   \n",
       "\n",
       "  driver_license_status     pre_crash point_of_impact vehicle_damage  \\\n",
       "0           UNSPECIFIED  NOT_AVALIBLE    NOT_AVALIBLE   NOT_AVALIBLE   \n",
       "1           UNSPECIFIED  NOT_AVALIBLE    NOT_AVALIBLE   NOT_AVALIBLE   \n",
       "2           UNSPECIFIED  NOT_AVALIBLE    NOT_AVALIBLE   NOT_AVALIBLE   \n",
       "\n",
       "  contributing_factor_1 contributing_factor_2    borough  zip_code   latitude  \\\n",
       "0          NOT_AVALIBLE          NOT_AVALIBLE     QUEENS   11378.0  40.725560   \n",
       "1          NOT_AVALIBLE          NOT_AVALIBLE  MANHATTAN   10025.0  40.793377   \n",
       "2          NOT_AVALIBLE          NOT_AVALIBLE  MANHATTAN   10025.0  40.793377   \n",
       "\n",
       "   longitude                    on_street_name  collision_id  \\\n",
       "0  -73.89849  LONG ISLAND EXPRESSWAY                 4230635   \n",
       "1  -73.97086  AMSTERDAM AVENUE                       4230398   \n",
       "2  -73.97086  AMSTERDAM AVENUE                       4230398   \n",
       "\n",
       "   number_of_contributing_vehicles  crash_date_year  crash_date_month  \\\n",
       "0                                2             2019                10   \n",
       "1                                2             2019                10   \n",
       "2                                2             2019                10   \n",
       "\n",
       "   crash_date_day      Time         completedate  \n",
       "0              26  16:30:00  2019-10-26 16:30:00  \n",
       "1              26  20:00:00  2019-10-26 20:00:00  \n",
       "2              26  20:00:00  2019-10-26 20:00:00  "
      ]
     },
     "execution_count": 11,
     "metadata": {},
     "output_type": "execute_result"
    }
   ],
   "source": [
    "#longlat = pd.read_csv(\"longlat.csv\",encoding = 'utf-8', sep = '\\t')\n",
    "longlat =pd.read_csv(\"C://CompletePython//DataScience/VisionZero//2016/crashes_datetime5.csv\")\n",
    "longlat.head(3)"
   ]
  },
  {
   "cell_type": "code",
   "execution_count": 8,
   "id": "cd4e7f74",
   "metadata": {
    "ExecuteTime": {
     "end_time": "2021-11-25T09:50:09.679456Z",
     "start_time": "2021-11-25T09:50:09.631905Z"
    }
   },
   "outputs": [],
   "source": [
    "search = SearchEngine()"
   ]
  },
  {
   "cell_type": "code",
   "execution_count": 39,
   "id": "824e97dc",
   "metadata": {
    "ExecuteTime": {
     "end_time": "2021-11-25T10:36:29.470234Z",
     "start_time": "2021-11-25T10:36:29.443278Z"
    }
   },
   "outputs": [
    {
     "data": {
      "text/plain": [
       "SimpleZipcode(zipcode='11378', zipcode_type='Standard', major_city='Maspeth', post_office_city='Maspeth, NY', common_city_list=['Maspeth', 'Flushing'], county='Queens County', state='NY', lat=40.73, lng=-73.91, timezone='Eastern', radius_in_miles=2.0, area_code_list=['347', '718'], population=34981, population_density=13697.0, land_area_in_sqmi=2.55, water_area_in_sqmi=0.06, housing_units=13668, occupied_housing_units=12762, median_home_value=538600, median_household_income=57474, bounds_west=-73.93742, bounds_east=-73.886122, bounds_north=40.736826, bounds_south=40.712857)"
      ]
     },
     "execution_count": 39,
     "metadata": {},
     "output_type": "execute_result"
    }
   ],
   "source": [
    "# borough_info = search.by_zipcode(\"11378\")\n",
    "# #borough_info = borough_info.county.replace(\" County\", \"\")\n",
    "# # borough_info.lat\n",
    "# borough_info\n"
   ]
  },
  {
   "cell_type": "code",
   "execution_count": null,
   "id": "43debb0c",
   "metadata": {},
   "outputs": [],
   "source": [
    "# Population density"
   ]
  },
  {
   "cell_type": "code",
   "execution_count": 37,
   "id": "a12a09d5",
   "metadata": {
    "ExecuteTime": {
     "end_time": "2021-11-25T10:21:13.691496Z",
     "start_time": "2021-11-25T10:19:54.135937Z"
    }
   },
   "outputs": [],
   "source": [
    "search = SearchEngine()\n",
    "def get_population_density(x):\n",
    "    pd_info = search.by_zipcode(\"{}\".format(x['zip_code']))\n",
    "    new_pd_info = pd_info.population_density\n",
    "    return new_pd_info\n",
    "\n",
    "longlat['population_density_info'] = longlat.apply(lambda x: get_population_density(x), axis=1)"
   ]
  },
  {
   "cell_type": "code",
   "execution_count": 40,
   "id": "7c93f487",
   "metadata": {
    "ExecuteTime": {
     "end_time": "2021-11-25T10:40:19.408519Z",
     "start_time": "2021-11-25T10:38:58.301501Z"
    }
   },
   "outputs": [],
   "source": [
    "# Major City\n",
    "search = SearchEngine()\n",
    "def get_major_city(x):\n",
    "    pd_info = search.by_zipcode(\"{}\".format(x['zip_code']))\n",
    "    new_pd_info = pd_info.major_city\n",
    "    return new_pd_info\n",
    "\n",
    "longlat['city_info'] = longlat.apply(lambda x: get_major_city(x), axis=1)"
   ]
  },
  {
   "cell_type": "code",
   "execution_count": 42,
   "id": "9fce018b",
   "metadata": {
    "ExecuteTime": {
     "end_time": "2021-11-25T10:42:31.742533Z",
     "start_time": "2021-11-25T10:41:10.966012Z"
    }
   },
   "outputs": [],
   "source": [
    "# Population\n",
    "def get_population(x):\n",
    "    pd_info = search.by_zipcode(\"{}\".format(x['zip_code']))\n",
    "    new_pd_info = pd_info.population\n",
    "    return new_pd_info\n",
    "\n",
    "longlat['population'] = longlat.apply(lambda x: get_population(x), axis=1)"
   ]
  },
  {
   "cell_type": "code",
   "execution_count": 43,
   "id": "03f5f26a",
   "metadata": {
    "ExecuteTime": {
     "end_time": "2021-11-25T10:44:38.743380Z",
     "start_time": "2021-11-25T10:43:13.586280Z"
    }
   },
   "outputs": [],
   "source": [
    "# Median household income\n",
    "search = SearchEngine()\n",
    "def get_median_income(x):\n",
    "    pd_info = search.by_zipcode(\"{}\".format(x['zip_code']))\n",
    "    new_pd_info = pd_info.median_household_income\n",
    "    return new_pd_info\n",
    "\n",
    "longlat['median_household_income'] = longlat.apply(lambda x: get_median_income(x), axis=1)"
   ]
  },
  {
   "cell_type": "code",
   "execution_count": 49,
   "id": "804d8d87",
   "metadata": {
    "ExecuteTime": {
     "end_time": "2021-11-25T11:23:51.381381Z",
     "start_time": "2021-11-25T11:23:51.318516Z"
    }
   },
   "outputs": [
    {
     "data": {
      "text/html": [
       "<div>\n",
       "<style scoped>\n",
       "    .dataframe tbody tr th:only-of-type {\n",
       "        vertical-align: middle;\n",
       "    }\n",
       "\n",
       "    .dataframe tbody tr th {\n",
       "        vertical-align: top;\n",
       "    }\n",
       "\n",
       "    .dataframe thead th {\n",
       "        text-align: right;\n",
       "    }\n",
       "</style>\n",
       "<table border=\"1\" class=\"dataframe\">\n",
       "  <thead>\n",
       "    <tr style=\"text-align: right;\">\n",
       "      <th></th>\n",
       "      <th>Unnamed: 0</th>\n",
       "      <th>crash_date_new</th>\n",
       "      <th>person_type</th>\n",
       "      <th>person_injury</th>\n",
       "      <th>person_age</th>\n",
       "      <th>ejection</th>\n",
       "      <th>position_in_vehicle</th>\n",
       "      <th>safety_equipment</th>\n",
       "      <th>ped_role</th>\n",
       "      <th>person_sex</th>\n",
       "      <th>vehicle_type</th>\n",
       "      <th>vehicle_make</th>\n",
       "      <th>vehicle_year</th>\n",
       "      <th>vehicle_occupants</th>\n",
       "      <th>driver_sex</th>\n",
       "      <th>driver_license_status</th>\n",
       "      <th>pre_crash</th>\n",
       "      <th>point_of_impact</th>\n",
       "      <th>vehicle_damage</th>\n",
       "      <th>contributing_factor_1</th>\n",
       "      <th>contributing_factor_2</th>\n",
       "      <th>borough</th>\n",
       "      <th>zip_code</th>\n",
       "      <th>latitude</th>\n",
       "      <th>longitude</th>\n",
       "      <th>on_street_name</th>\n",
       "      <th>collision_id</th>\n",
       "      <th>number_of_contributing_vehicles</th>\n",
       "      <th>crash_date_year</th>\n",
       "      <th>crash_date_month</th>\n",
       "      <th>crash_date_day</th>\n",
       "      <th>Time</th>\n",
       "      <th>completedate</th>\n",
       "      <th>population_density_info</th>\n",
       "      <th>city_info</th>\n",
       "      <th>population</th>\n",
       "      <th>median_household_income</th>\n",
       "    </tr>\n",
       "  </thead>\n",
       "  <tbody>\n",
       "    <tr>\n",
       "      <th>0</th>\n",
       "      <td>0</td>\n",
       "      <td>2019-10-26 00:00:00</td>\n",
       "      <td>OCCUPANT</td>\n",
       "      <td>NOT INJURED</td>\n",
       "      <td>52.0</td>\n",
       "      <td>NOT EJECTED</td>\n",
       "      <td>DRIVER</td>\n",
       "      <td>LAP BELT &amp; HARNESS</td>\n",
       "      <td>DRIVER</td>\n",
       "      <td>M</td>\n",
       "      <td>UNSPECIFIED</td>\n",
       "      <td>UNSPECIFIED</td>\n",
       "      <td>UNSPECIFIED</td>\n",
       "      <td>UNSPECIFIED</td>\n",
       "      <td>M</td>\n",
       "      <td>UNSPECIFIED</td>\n",
       "      <td>NOT_AVALIBLE</td>\n",
       "      <td>NOT_AVALIBLE</td>\n",
       "      <td>NOT_AVALIBLE</td>\n",
       "      <td>NOT_AVALIBLE</td>\n",
       "      <td>NOT_AVALIBLE</td>\n",
       "      <td>QUEENS</td>\n",
       "      <td>11378</td>\n",
       "      <td>40.725560</td>\n",
       "      <td>-73.89849</td>\n",
       "      <td>LONG ISLAND EXPRESSWAY</td>\n",
       "      <td>4230635</td>\n",
       "      <td>2</td>\n",
       "      <td>2019</td>\n",
       "      <td>10</td>\n",
       "      <td>26</td>\n",
       "      <td>16:30:00</td>\n",
       "      <td>2019-10-26 16:30:00</td>\n",
       "      <td>13697.0</td>\n",
       "      <td>Maspeth</td>\n",
       "      <td>34981.0</td>\n",
       "      <td>57474.0</td>\n",
       "    </tr>\n",
       "    <tr>\n",
       "      <th>1</th>\n",
       "      <td>8</td>\n",
       "      <td>2019-10-26 00:00:00</td>\n",
       "      <td>OCCUPANT</td>\n",
       "      <td>NOT INJURED</td>\n",
       "      <td>41.0</td>\n",
       "      <td>NOT EJECTED</td>\n",
       "      <td>DRIVER</td>\n",
       "      <td>LAP BELT</td>\n",
       "      <td>DRIVER</td>\n",
       "      <td>M</td>\n",
       "      <td>UNSPECIFIED</td>\n",
       "      <td>UNSPECIFIED</td>\n",
       "      <td>UNSPECIFIED</td>\n",
       "      <td>UNSPECIFIED</td>\n",
       "      <td>M</td>\n",
       "      <td>UNSPECIFIED</td>\n",
       "      <td>NOT_AVALIBLE</td>\n",
       "      <td>NOT_AVALIBLE</td>\n",
       "      <td>NOT_AVALIBLE</td>\n",
       "      <td>NOT_AVALIBLE</td>\n",
       "      <td>NOT_AVALIBLE</td>\n",
       "      <td>MANHATTAN</td>\n",
       "      <td>10025</td>\n",
       "      <td>40.793377</td>\n",
       "      <td>-73.97086</td>\n",
       "      <td>AMSTERDAM AVENUE</td>\n",
       "      <td>4230398</td>\n",
       "      <td>2</td>\n",
       "      <td>2019</td>\n",
       "      <td>10</td>\n",
       "      <td>26</td>\n",
       "      <td>20:00:00</td>\n",
       "      <td>2019-10-26 20:00:00</td>\n",
       "      <td>125860.0</td>\n",
       "      <td>New York</td>\n",
       "      <td>94600.0</td>\n",
       "      <td>68516.0</td>\n",
       "    </tr>\n",
       "    <tr>\n",
       "      <th>2</th>\n",
       "      <td>9</td>\n",
       "      <td>2019-10-26 00:00:00</td>\n",
       "      <td>OCCUPANT</td>\n",
       "      <td>NOT INJURED</td>\n",
       "      <td>35.0</td>\n",
       "      <td>NOT EJECTED</td>\n",
       "      <td>DRIVER</td>\n",
       "      <td>LAP BELT</td>\n",
       "      <td>DRIVER</td>\n",
       "      <td>M</td>\n",
       "      <td>UNSPECIFIED</td>\n",
       "      <td>UNSPECIFIED</td>\n",
       "      <td>UNSPECIFIED</td>\n",
       "      <td>UNSPECIFIED</td>\n",
       "      <td>M</td>\n",
       "      <td>UNSPECIFIED</td>\n",
       "      <td>NOT_AVALIBLE</td>\n",
       "      <td>NOT_AVALIBLE</td>\n",
       "      <td>NOT_AVALIBLE</td>\n",
       "      <td>NOT_AVALIBLE</td>\n",
       "      <td>NOT_AVALIBLE</td>\n",
       "      <td>MANHATTAN</td>\n",
       "      <td>10025</td>\n",
       "      <td>40.793377</td>\n",
       "      <td>-73.97086</td>\n",
       "      <td>AMSTERDAM AVENUE</td>\n",
       "      <td>4230398</td>\n",
       "      <td>2</td>\n",
       "      <td>2019</td>\n",
       "      <td>10</td>\n",
       "      <td>26</td>\n",
       "      <td>20:00:00</td>\n",
       "      <td>2019-10-26 20:00:00</td>\n",
       "      <td>125860.0</td>\n",
       "      <td>New York</td>\n",
       "      <td>94600.0</td>\n",
       "      <td>68516.0</td>\n",
       "    </tr>\n",
       "  </tbody>\n",
       "</table>\n",
       "</div>"
      ],
      "text/plain": [
       "   Unnamed: 0       crash_date_new person_type person_injury  person_age  \\\n",
       "0           0  2019-10-26 00:00:00    OCCUPANT   NOT INJURED        52.0   \n",
       "1           8  2019-10-26 00:00:00    OCCUPANT   NOT INJURED        41.0   \n",
       "2           9  2019-10-26 00:00:00    OCCUPANT   NOT INJURED        35.0   \n",
       "\n",
       "      ejection position_in_vehicle    safety_equipment ped_role person_sex  \\\n",
       "0  NOT EJECTED              DRIVER  LAP BELT & HARNESS   DRIVER          M   \n",
       "1  NOT EJECTED              DRIVER            LAP BELT   DRIVER          M   \n",
       "2  NOT EJECTED              DRIVER            LAP BELT   DRIVER          M   \n",
       "\n",
       "  vehicle_type vehicle_make vehicle_year vehicle_occupants driver_sex  \\\n",
       "0  UNSPECIFIED  UNSPECIFIED  UNSPECIFIED       UNSPECIFIED          M   \n",
       "1  UNSPECIFIED  UNSPECIFIED  UNSPECIFIED       UNSPECIFIED          M   \n",
       "2  UNSPECIFIED  UNSPECIFIED  UNSPECIFIED       UNSPECIFIED          M   \n",
       "\n",
       "  driver_license_status     pre_crash point_of_impact vehicle_damage  \\\n",
       "0           UNSPECIFIED  NOT_AVALIBLE    NOT_AVALIBLE   NOT_AVALIBLE   \n",
       "1           UNSPECIFIED  NOT_AVALIBLE    NOT_AVALIBLE   NOT_AVALIBLE   \n",
       "2           UNSPECIFIED  NOT_AVALIBLE    NOT_AVALIBLE   NOT_AVALIBLE   \n",
       "\n",
       "  contributing_factor_1 contributing_factor_2    borough  zip_code   latitude  \\\n",
       "0          NOT_AVALIBLE          NOT_AVALIBLE     QUEENS     11378  40.725560   \n",
       "1          NOT_AVALIBLE          NOT_AVALIBLE  MANHATTAN     10025  40.793377   \n",
       "2          NOT_AVALIBLE          NOT_AVALIBLE  MANHATTAN     10025  40.793377   \n",
       "\n",
       "   longitude                    on_street_name  collision_id  \\\n",
       "0  -73.89849  LONG ISLAND EXPRESSWAY                 4230635   \n",
       "1  -73.97086  AMSTERDAM AVENUE                       4230398   \n",
       "2  -73.97086  AMSTERDAM AVENUE                       4230398   \n",
       "\n",
       "   number_of_contributing_vehicles  crash_date_year  crash_date_month  \\\n",
       "0                                2             2019                10   \n",
       "1                                2             2019                10   \n",
       "2                                2             2019                10   \n",
       "\n",
       "   crash_date_day      Time         completedate  population_density_info  \\\n",
       "0              26  16:30:00  2019-10-26 16:30:00                  13697.0   \n",
       "1              26  20:00:00  2019-10-26 20:00:00                 125860.0   \n",
       "2              26  20:00:00  2019-10-26 20:00:00                 125860.0   \n",
       "\n",
       "  city_info  population  median_household_income  \n",
       "0   Maspeth     34981.0                  57474.0  \n",
       "1  New York     94600.0                  68516.0  \n",
       "2  New York     94600.0                  68516.0  "
      ]
     },
     "execution_count": 49,
     "metadata": {},
     "output_type": "execute_result"
    }
   ],
   "source": [
    "longlat.head(3)"
   ]
  },
  {
   "cell_type": "code",
   "execution_count": 45,
   "id": "e968e202",
   "metadata": {
    "ExecuteTime": {
     "end_time": "2021-11-25T10:45:44.362225Z",
     "start_time": "2021-11-25T10:45:44.202260Z"
    }
   },
   "outputs": [
    {
     "data": {
      "text/plain": [
       "median_household_income            3317\n",
       "population_density_info            3263\n",
       "population                         2532\n",
       "city_info                            16\n",
       "collision_id                          0\n",
       "borough                               0\n",
       "zip_code                              0\n",
       "latitude                              0\n",
       "longitude                             0\n",
       "on_street_name                        0\n",
       "crash_date_year                       0\n",
       "number_of_contributing_vehicles       0\n",
       "contributing_factor_1                 0\n",
       "crash_date_month                      0\n",
       "crash_date_day                        0\n",
       "Time                                  0\n",
       "completedate                          0\n",
       "contributing_factor_2                 0\n",
       "Unnamed: 0                            0\n",
       "crash_date_new                        0\n",
       "point_of_impact                       0\n",
       "person_type                           0\n",
       "person_injury                         0\n",
       "person_age                            0\n",
       "ejection                              0\n",
       "position_in_vehicle                   0\n",
       "safety_equipment                      0\n",
       "ped_role                              0\n",
       "person_sex                            0\n",
       "vehicle_type                          0\n",
       "vehicle_make                          0\n",
       "vehicle_year                          0\n",
       "vehicle_occupants                     0\n",
       "driver_sex                            0\n",
       "driver_license_status                 0\n",
       "pre_crash                             0\n",
       "vehicle_damage                        0\n",
       "dtype: int64"
      ]
     },
     "execution_count": 45,
     "metadata": {},
     "output_type": "execute_result"
    }
   ],
   "source": [
    "longlat.isnull().sum().sort_values(ascending=False)"
   ]
  },
  {
   "cell_type": "code",
   "execution_count": 48,
   "id": "f2c41235",
   "metadata": {
    "ExecuteTime": {
     "end_time": "2021-11-25T10:47:34.728060Z",
     "start_time": "2021-11-25T10:47:34.683179Z"
    }
   },
   "outputs": [
    {
     "data": {
      "text/plain": [
       "Brooklyn               48216\n",
       "New York               30573\n",
       "Bronx                  27068\n",
       "Staten Island           6947\n",
       "Jamaica                 6476\n",
       "Flushing                4195\n",
       "Astoria                 2454\n",
       "Long Island City        2386\n",
       "Queens Village          1613\n",
       "Woodside                1523\n",
       "Corona                  1441\n",
       "Ridgewood               1423\n",
       "South Ozone Park        1358\n",
       "Ozone Park              1302\n",
       "Rosedale                1296\n",
       "Forest Hills            1250\n",
       "East Elmhurst           1209\n",
       "Bayside                 1129\n",
       "Springfield Gardens     1104\n",
       "Little Neck             1096\n",
       "Far Rockaway            1045\n",
       "Kew Gardens              975\n",
       "Elmhurst                 968\n",
       "Maspeth                  906\n",
       "Fresh Meadows            886\n",
       "South Richmond Hill      855\n",
       "Saint Albans             834\n",
       "Richmond Hill            733\n",
       "Howard Beach             727\n",
       "Woodhaven                647\n",
       "Cambria Heights          618\n",
       "Whitestone               618\n",
       "Bellerose                595\n",
       "Hollis                   567\n",
       "Jackson Heights          555\n",
       "Rego Park                547\n",
       "Oakland Gardens          537\n",
       "Sunnyside                535\n",
       "Middle Village           398\n",
       "College Point            329\n",
       "Arverne                  274\n",
       "Glen Oaks                264\n",
       "Floral Park              199\n",
       "Rockaway Park            189\n",
       "Breezy Point              90\n",
       "New Hyde Park             48\n",
       "Great Neck                39\n",
       "Cedarhurst                 9\n",
       "Berkshire                  8\n",
       "Perkinston                 5\n",
       "Pelham                     3\n",
       "Elmont                     2\n",
       "Whitehouse Station         1\n",
       "Name: city_info, dtype: int64"
      ]
     },
     "execution_count": 48,
     "metadata": {},
     "output_type": "execute_result"
    }
   ],
   "source": [
    "longlat['city_info'].value_counts()"
   ]
  },
  {
   "cell_type": "code",
   "execution_count": null,
   "id": "32c46074",
   "metadata": {},
   "outputs": [],
   "source": []
  },
  {
   "cell_type": "code",
   "execution_count": null,
   "id": "92c113cb",
   "metadata": {},
   "outputs": [],
   "source": [
    "search = SearchEngine()\n",
    "def get_latitude_longitude(x):\n",
    "    borough_info = search.by_zipcode(\"{}\".format(x['zip_code']))   \n",
    "    new_borough_info = borough_info.county\n",
    "    if (new_borough_info is None):\n",
    "        return None\n",
    "    else:\n",
    "        borough_info1 = new_borough_info.replace(\" County\", \"\")\n",
    "        return borough_info1\n",
    "\n",
    "longlat['new_borough'] = longlat.apply(lambda x: np.nan  if(pd.isnull(x['zip_code'])) else get_borough(x), axis=1)\n",
    "longlat[\"borough\"] = longlat[\"borough\"] .fillna(longlat[\"new_borough\"])\n",
    "longlat = longlat.applymap(lambda s: s.upper() if type(s) == str else s)"
   ]
  },
  {
   "cell_type": "code",
   "execution_count": null,
   "id": "9957e419",
   "metadata": {
    "ExecuteTime": {
     "end_time": "2021-11-04T20:38:49.771843Z",
     "start_time": "2021-11-04T20:38:49.728286Z"
    }
   },
   "outputs": [],
   "source": [
    "search = SearchEngine()\n",
    "def get_borough(x):\n",
    "    borough_info = search.by_zipcode(\"{}\".format(x['zip_code']))   \n",
    "    new_borough_info = borough_info.county\n",
    "    if (new_borough_info is None):\n",
    "        return None\n",
    "    else:\n",
    "        borough_info1 = new_borough_info.replace(\" County\", \"\")\n",
    "        return borough_info1\n",
    "\n",
    "longlat['new_borough'] = longlat.apply(lambda x: np.nan  if(pd.isnull(x['zip_code'])) else get_borough(x), axis=1)\n",
    "longlat[\"borough\"] = longlat[\"borough\"] .fillna(longlat[\"new_borough\"])\n",
    "longlat = longlat.applymap(lambda s: s.upper() if type(s) == str else s)"
   ]
  },
  {
   "cell_type": "code",
   "execution_count": 50,
   "id": "68033a8e",
   "metadata": {
    "ExecuteTime": {
     "end_time": "2021-11-25T11:24:53.492212Z",
     "start_time": "2021-11-25T11:24:53.413761Z"
    }
   },
   "outputs": [],
   "source": [
    "#longlat.drop(['imputezipcode','new_borough'], axis=1, inplace=True)\n",
    "longlat.drop(['population_density_info'], axis=1, inplace=True)"
   ]
  },
  {
   "cell_type": "code",
   "execution_count": 52,
   "id": "e83e9d2b",
   "metadata": {
    "ExecuteTime": {
     "end_time": "2021-11-25T12:06:07.906596Z",
     "start_time": "2021-11-25T12:06:05.094859Z"
    }
   },
   "outputs": [],
   "source": [
    "longlat.to_csv(\"C://CompletePython//DataScience/VisionZero//2016/crashes_datetime6.csv\",header=True)"
   ]
  },
  {
   "cell_type": "code",
   "execution_count": 53,
   "id": "987f77b8",
   "metadata": {
    "ExecuteTime": {
     "end_time": "2021-11-25T16:43:13.565900Z",
     "start_time": "2021-11-25T16:43:03.034329Z"
    }
   },
   "outputs": [],
   "source": [
    "longlat = longlat[longlat['median_household_income'].notna()]"
   ]
  },
  {
   "cell_type": "code",
   "execution_count": 57,
   "id": "d02336f0",
   "metadata": {
    "ExecuteTime": {
     "end_time": "2021-11-25T16:44:32.529100Z",
     "start_time": "2021-11-25T16:44:32.449315Z"
    }
   },
   "outputs": [],
   "source": [
    "longlat=longlat[longlat['city_info'].notna()]"
   ]
  },
  {
   "cell_type": "code",
   "execution_count": 58,
   "id": "e1519717",
   "metadata": {
    "ExecuteTime": {
     "end_time": "2021-11-25T16:44:45.519745Z",
     "start_time": "2021-11-25T16:44:45.357257Z"
    }
   },
   "outputs": [
    {
     "data": {
      "text/plain": [
       "Unnamed: 0                         0\n",
       "crash_date_new                     0\n",
       "contributing_factor_2              0\n",
       "borough                            0\n",
       "zip_code                           0\n",
       "latitude                           0\n",
       "longitude                          0\n",
       "on_street_name                     0\n",
       "collision_id                       0\n",
       "number_of_contributing_vehicles    0\n",
       "crash_date_year                    0\n",
       "crash_date_month                   0\n",
       "crash_date_day                     0\n",
       "Time                               0\n",
       "completedate                       0\n",
       "city_info                          0\n",
       "population                         0\n",
       "contributing_factor_1              0\n",
       "vehicle_damage                     0\n",
       "point_of_impact                    0\n",
       "ped_role                           0\n",
       "person_type                        0\n",
       "person_injury                      0\n",
       "person_age                         0\n",
       "ejection                           0\n",
       "position_in_vehicle                0\n",
       "safety_equipment                   0\n",
       "person_sex                         0\n",
       "pre_crash                          0\n",
       "vehicle_type                       0\n",
       "vehicle_make                       0\n",
       "vehicle_year                       0\n",
       "vehicle_occupants                  0\n",
       "driver_sex                         0\n",
       "driver_license_status              0\n",
       "median_household_income            0\n",
       "dtype: int64"
      ]
     },
     "execution_count": 58,
     "metadata": {},
     "output_type": "execute_result"
    }
   ],
   "source": [
    "longlat.isnull().sum().sort_values(ascending=False)"
   ]
  },
  {
   "cell_type": "code",
   "execution_count": 59,
   "id": "2a23e8d3",
   "metadata": {
    "ExecuteTime": {
     "end_time": "2021-11-25T16:45:03.169131Z",
     "start_time": "2021-11-25T16:45:00.300783Z"
    }
   },
   "outputs": [],
   "source": [
    "longlat.to_csv(\"C://CompletePython//DataScience/VisionZero//2016/crashes_datetime7.csv\",header=True)"
   ]
  },
  {
   "cell_type": "code",
   "execution_count": null,
   "id": "5bda558c",
   "metadata": {},
   "outputs": [],
   "source": []
  },
  {
   "cell_type": "code",
   "execution_count": null,
   "id": "10a11572",
   "metadata": {},
   "outputs": [],
   "source": []
  }
 ],
 "metadata": {
  "kernelspec": {
   "display_name": "Python 3",
   "language": "python",
   "name": "python3"
  },
  "language_info": {
   "codemirror_mode": {
    "name": "ipython",
    "version": 3
   },
   "file_extension": ".py",
   "mimetype": "text/x-python",
   "name": "python",
   "nbconvert_exporter": "python",
   "pygments_lexer": "ipython3",
   "version": "3.8.8"
  },
  "toc": {
   "base_numbering": 1,
   "nav_menu": {},
   "number_sections": true,
   "sideBar": true,
   "skip_h1_title": false,
   "title_cell": "Table of Contents",
   "title_sidebar": "Contents",
   "toc_cell": false,
   "toc_position": {},
   "toc_section_display": true,
   "toc_window_display": false
  }
 },
 "nbformat": 4,
 "nbformat_minor": 5
}
