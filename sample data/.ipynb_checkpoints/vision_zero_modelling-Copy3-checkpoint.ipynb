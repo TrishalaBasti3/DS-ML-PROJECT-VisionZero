{
 "cells": [
  {
   "cell_type": "code",
   "execution_count": 1,
   "id": "f007e65b",
   "metadata": {
    "ExecuteTime": {
     "end_time": "2021-11-25T16:53:38.247173Z",
     "start_time": "2021-11-25T16:53:34.933308Z"
    }
   },
   "outputs": [],
   "source": [
    "import pandas as pd\n",
    "import numpy as np\n",
    "import seaborn as sns\n",
    "import matplotlib.pyplot as plt\n",
    "from matplotlib.pyplot import figure\n",
    "\n",
    "# To see all the columns \n",
    "pd.set_option('display.max_columns', 85)\n",
    "pd.set_option('display.max_rows', 600)\n",
    "\n",
    "from sklearn.ensemble import RandomForestClassifier\n",
    "from sklearn.model_selection import train_test_split"
   ]
  },
  {
   "cell_type": "code",
   "execution_count": 3,
   "id": "add1b7bc",
   "metadata": {
    "ExecuteTime": {
     "end_time": "2021-11-25T16:53:54.802883Z",
     "start_time": "2021-11-25T16:53:53.706561Z"
    }
   },
   "outputs": [],
   "source": [
    "df= pd.read_csv(\"C:\\\\CompletePython\\\\DataScience\\VisionZero\\\\2016\\\\crashes_datetime7.csv\")"
   ]
  },
  {
   "cell_type": "code",
   "execution_count": 7,
   "id": "f907a63c",
   "metadata": {
    "ExecuteTime": {
     "end_time": "2021-11-25T16:54:57.809736Z",
     "start_time": "2021-11-25T16:54:57.785798Z"
    }
   },
   "outputs": [
    {
     "data": {
      "text/plain": [
       "NOT INJURED    132175\n",
       "INJURED         23589\n",
       "Name: person_injury, dtype: int64"
      ]
     },
     "execution_count": 7,
     "metadata": {},
     "output_type": "execute_result"
    }
   ],
   "source": [
    "df['person_injury'].value_counts()"
   ]
  },
  {
   "cell_type": "code",
   "execution_count": 12,
   "id": "e55f992e",
   "metadata": {
    "ExecuteTime": {
     "end_time": "2021-11-25T17:00:32.470932Z",
     "start_time": "2021-11-25T17:00:32.433032Z"
    }
   },
   "outputs": [],
   "source": [
    "df=df.drop(['collision_id','Unnamed: 0','completedate','Unnamed: 0.1','crash_date_new','collision_id'], axis=1)"
   ]
  },
  {
   "cell_type": "code",
   "execution_count": 13,
   "id": "5a715f4b",
   "metadata": {
    "ExecuteTime": {
     "end_time": "2021-11-25T17:00:35.576521Z",
     "start_time": "2021-11-25T17:00:35.567577Z"
    }
   },
   "outputs": [
    {
     "data": {
      "text/plain": [
       "Index(['person_type', 'person_injury', 'person_age', 'ejection',\n",
       "       'position_in_vehicle', 'safety_equipment', 'ped_role', 'person_sex',\n",
       "       'vehicle_type', 'vehicle_make', 'vehicle_year', 'vehicle_occupants',\n",
       "       'driver_sex', 'driver_license_status', 'pre_crash', 'point_of_impact',\n",
       "       'vehicle_damage', 'contributing_factor_1', 'contributing_factor_2',\n",
       "       'borough', 'zip_code', 'latitude', 'longitude', 'on_street_name',\n",
       "       'number_of_contributing_vehicles', 'crash_date_year',\n",
       "       'crash_date_month', 'crash_date_day', 'Time', 'city_info', 'population',\n",
       "       'median_household_income'],\n",
       "      dtype='object')"
      ]
     },
     "execution_count": 13,
     "metadata": {},
     "output_type": "execute_result"
    }
   ],
   "source": [
    "df.columns"
   ]
  },
  {
   "cell_type": "code",
   "execution_count": 16,
   "id": "4efc9343",
   "metadata": {
    "ExecuteTime": {
     "end_time": "2021-11-25T17:02:07.095663Z",
     "start_time": "2021-11-25T17:02:07.091710Z"
    }
   },
   "outputs": [],
   "source": [
    "data = df"
   ]
  },
  {
   "cell_type": "code",
   "execution_count": 17,
   "id": "7acfa17f",
   "metadata": {
    "ExecuteTime": {
     "end_time": "2021-11-25T17:02:08.712882Z",
     "start_time": "2021-11-25T17:02:07.891494Z"
    }
   },
   "outputs": [],
   "source": [
    "from sklearn.preprocessing import LabelEncoder\n",
    "gle = LabelEncoder()\n",
    "data=data.apply(LabelEncoder().fit_transform)"
   ]
  },
  {
   "cell_type": "code",
   "execution_count": 21,
   "id": "464a729c",
   "metadata": {
    "ExecuteTime": {
     "end_time": "2021-11-25T17:05:50.802454Z",
     "start_time": "2021-11-25T17:05:50.784503Z"
    },
    "scrolled": true
   },
   "outputs": [
    {
     "data": {
      "text/html": [
       "<div>\n",
       "<style scoped>\n",
       "    .dataframe tbody tr th:only-of-type {\n",
       "        vertical-align: middle;\n",
       "    }\n",
       "\n",
       "    .dataframe tbody tr th {\n",
       "        vertical-align: top;\n",
       "    }\n",
       "\n",
       "    .dataframe thead th {\n",
       "        text-align: right;\n",
       "    }\n",
       "</style>\n",
       "<table border=\"1\" class=\"dataframe\">\n",
       "  <thead>\n",
       "    <tr style=\"text-align: right;\">\n",
       "      <th></th>\n",
       "      <th>person_type</th>\n",
       "      <th>person_injury</th>\n",
       "      <th>person_age</th>\n",
       "      <th>ejection</th>\n",
       "      <th>position_in_vehicle</th>\n",
       "      <th>safety_equipment</th>\n",
       "      <th>ped_role</th>\n",
       "      <th>person_sex</th>\n",
       "      <th>vehicle_type</th>\n",
       "      <th>vehicle_make</th>\n",
       "      <th>vehicle_year</th>\n",
       "      <th>vehicle_occupants</th>\n",
       "      <th>driver_sex</th>\n",
       "      <th>driver_license_status</th>\n",
       "      <th>pre_crash</th>\n",
       "      <th>point_of_impact</th>\n",
       "      <th>vehicle_damage</th>\n",
       "      <th>contributing_factor_1</th>\n",
       "      <th>contributing_factor_2</th>\n",
       "      <th>borough</th>\n",
       "      <th>zip_code</th>\n",
       "      <th>latitude</th>\n",
       "      <th>longitude</th>\n",
       "      <th>on_street_name</th>\n",
       "      <th>number_of_contributing_vehicles</th>\n",
       "      <th>crash_date_year</th>\n",
       "      <th>crash_date_month</th>\n",
       "      <th>crash_date_day</th>\n",
       "      <th>Time</th>\n",
       "      <th>city_info</th>\n",
       "      <th>population</th>\n",
       "      <th>median_household_income</th>\n",
       "    </tr>\n",
       "  </thead>\n",
       "  <tbody>\n",
       "    <tr>\n",
       "      <th>0</th>\n",
       "      <td>1</td>\n",
       "      <td>1</td>\n",
       "      <td>52</td>\n",
       "      <td>2</td>\n",
       "      <td>2</td>\n",
       "      <td>11</td>\n",
       "      <td>0</td>\n",
       "      <td>1</td>\n",
       "      <td>142</td>\n",
       "      <td>636</td>\n",
       "      <td>77</td>\n",
       "      <td>41</td>\n",
       "      <td>1</td>\n",
       "      <td>3</td>\n",
       "      <td>11</td>\n",
       "      <td>9</td>\n",
       "      <td>9</td>\n",
       "      <td>24</td>\n",
       "      <td>24</td>\n",
       "      <td>3</td>\n",
       "      <td>157</td>\n",
       "      <td>10799</td>\n",
       "      <td>9908</td>\n",
       "      <td>2955</td>\n",
       "      <td>2</td>\n",
       "      <td>3</td>\n",
       "      <td>9</td>\n",
       "      <td>25</td>\n",
       "      <td>986</td>\n",
       "      <td>29</td>\n",
       "      <td>78</td>\n",
       "      <td>90</td>\n",
       "    </tr>\n",
       "    <tr>\n",
       "      <th>1</th>\n",
       "      <td>1</td>\n",
       "      <td>1</td>\n",
       "      <td>41</td>\n",
       "      <td>2</td>\n",
       "      <td>2</td>\n",
       "      <td>10</td>\n",
       "      <td>0</td>\n",
       "      <td>1</td>\n",
       "      <td>142</td>\n",
       "      <td>636</td>\n",
       "      <td>77</td>\n",
       "      <td>41</td>\n",
       "      <td>1</td>\n",
       "      <td>3</td>\n",
       "      <td>11</td>\n",
       "      <td>9</td>\n",
       "      <td>9</td>\n",
       "      <td>24</td>\n",
       "      <td>24</td>\n",
       "      <td>2</td>\n",
       "      <td>23</td>\n",
       "      <td>15494</td>\n",
       "      <td>4523</td>\n",
       "      <td>892</td>\n",
       "      <td>2</td>\n",
       "      <td>3</td>\n",
       "      <td>9</td>\n",
       "      <td>25</td>\n",
       "      <td>1196</td>\n",
       "      <td>32</td>\n",
       "      <td>181</td>\n",
       "      <td>117</td>\n",
       "    </tr>\n",
       "    <tr>\n",
       "      <th>2</th>\n",
       "      <td>1</td>\n",
       "      <td>1</td>\n",
       "      <td>35</td>\n",
       "      <td>2</td>\n",
       "      <td>2</td>\n",
       "      <td>10</td>\n",
       "      <td>0</td>\n",
       "      <td>1</td>\n",
       "      <td>142</td>\n",
       "      <td>636</td>\n",
       "      <td>77</td>\n",
       "      <td>41</td>\n",
       "      <td>1</td>\n",
       "      <td>3</td>\n",
       "      <td>11</td>\n",
       "      <td>9</td>\n",
       "      <td>9</td>\n",
       "      <td>24</td>\n",
       "      <td>24</td>\n",
       "      <td>2</td>\n",
       "      <td>23</td>\n",
       "      <td>15494</td>\n",
       "      <td>4523</td>\n",
       "      <td>892</td>\n",
       "      <td>2</td>\n",
       "      <td>3</td>\n",
       "      <td>9</td>\n",
       "      <td>25</td>\n",
       "      <td>1196</td>\n",
       "      <td>32</td>\n",
       "      <td>181</td>\n",
       "      <td>117</td>\n",
       "    </tr>\n",
       "  </tbody>\n",
       "</table>\n",
       "</div>"
      ],
      "text/plain": [
       "   person_type  person_injury  person_age  ejection  position_in_vehicle  \\\n",
       "0            1              1          52         2                    2   \n",
       "1            1              1          41         2                    2   \n",
       "2            1              1          35         2                    2   \n",
       "\n",
       "   safety_equipment  ped_role  person_sex  vehicle_type  vehicle_make  \\\n",
       "0                11         0           1           142           636   \n",
       "1                10         0           1           142           636   \n",
       "2                10         0           1           142           636   \n",
       "\n",
       "   vehicle_year  vehicle_occupants  driver_sex  driver_license_status  \\\n",
       "0            77                 41           1                      3   \n",
       "1            77                 41           1                      3   \n",
       "2            77                 41           1                      3   \n",
       "\n",
       "   pre_crash  point_of_impact  vehicle_damage  contributing_factor_1  \\\n",
       "0         11                9               9                     24   \n",
       "1         11                9               9                     24   \n",
       "2         11                9               9                     24   \n",
       "\n",
       "   contributing_factor_2  borough  zip_code  latitude  longitude  \\\n",
       "0                     24        3       157     10799       9908   \n",
       "1                     24        2        23     15494       4523   \n",
       "2                     24        2        23     15494       4523   \n",
       "\n",
       "   on_street_name  number_of_contributing_vehicles  crash_date_year  \\\n",
       "0            2955                                2                3   \n",
       "1             892                                2                3   \n",
       "2             892                                2                3   \n",
       "\n",
       "   crash_date_month  crash_date_day  Time  city_info  population  \\\n",
       "0                 9              25   986         29          78   \n",
       "1                 9              25  1196         32         181   \n",
       "2                 9              25  1196         32         181   \n",
       "\n",
       "   median_household_income  \n",
       "0                       90  \n",
       "1                      117  \n",
       "2                      117  "
      ]
     },
     "execution_count": 21,
     "metadata": {},
     "output_type": "execute_result"
    }
   ],
   "source": [
    "data.head(3)"
   ]
  },
  {
   "cell_type": "code",
   "execution_count": 82,
   "id": "5ad918e6",
   "metadata": {
    "ExecuteTime": {
     "end_time": "2021-11-19T08:36:21.915427Z",
     "start_time": "2021-11-19T08:36:21.906488Z"
    }
   },
   "outputs": [
    {
     "data": {
      "text/plain": [
       "(159081, 29)"
      ]
     },
     "execution_count": 82,
     "metadata": {},
     "output_type": "execute_result"
    }
   ],
   "source": [
    "data.shape"
   ]
  },
  {
   "cell_type": "code",
   "execution_count": 19,
   "id": "69e34522",
   "metadata": {
    "ExecuteTime": {
     "end_time": "2021-11-25T17:04:33.812542Z",
     "start_time": "2021-11-25T17:04:33.791597Z"
    }
   },
   "outputs": [],
   "source": [
    "X=data.drop(columns=['person_injury'])\n",
    "y=data['person_injury']  # Labels"
   ]
  },
  {
   "cell_type": "code",
   "execution_count": 57,
   "id": "6cfd3d63",
   "metadata": {
    "ExecuteTime": {
     "end_time": "2021-11-25T20:03:34.736522Z",
     "start_time": "2021-11-25T20:03:34.686609Z"
    }
   },
   "outputs": [],
   "source": [
    "X_train, X_test, y_train, y_test = train_test_split(X, y, test_size=0.25) # 75% training and 25% test"
   ]
  },
  {
   "cell_type": "markdown",
   "id": "ae3e344d",
   "metadata": {},
   "source": [
    "# Build a model"
   ]
  },
  {
   "cell_type": "code",
   "execution_count": 22,
   "id": "708e7703",
   "metadata": {
    "ExecuteTime": {
     "end_time": "2021-11-25T17:06:08.187283Z",
     "start_time": "2021-11-25T17:06:08.181300Z"
    }
   },
   "outputs": [],
   "source": [
    "#Create a Gaussian Classifier\n",
    "clf=RandomForestClassifier(n_estimators=100)"
   ]
  },
  {
   "cell_type": "code",
   "execution_count": 23,
   "id": "75288476",
   "metadata": {
    "ExecuteTime": {
     "end_time": "2021-11-25T17:07:40.441745Z",
     "start_time": "2021-11-25T17:07:07.419163Z"
    }
   },
   "outputs": [],
   "source": [
    "#Train the model using the training sets y_pred=clf.predict(X_test)\n",
    "clf.fit(X_train,y_train)\n",
    "y_pred=clf.predict(X_test)"
   ]
  },
  {
   "cell_type": "code",
   "execution_count": 24,
   "id": "cd66dbf9",
   "metadata": {
    "ExecuteTime": {
     "end_time": "2021-11-25T17:07:40.458703Z",
     "start_time": "2021-11-25T17:07:40.442743Z"
    }
   },
   "outputs": [
    {
     "name": "stdout",
     "output_type": "stream",
     "text": [
      "Accuracy: 0.8872139903957269\n"
     ]
    }
   ],
   "source": [
    "#Import scikit-learn metrics module for accuracy calculation\n",
    "from sklearn import metrics\n",
    "# Model Accuracy, how often is the classifier correct?b\n",
    "print(\"Accuracy:\",metrics.accuracy_score(y_test, y_pred))"
   ]
  },
  {
   "cell_type": "code",
   "execution_count": 25,
   "id": "76753446",
   "metadata": {
    "ExecuteTime": {
     "end_time": "2021-11-25T17:08:27.748474Z",
     "start_time": "2021-11-25T17:08:27.699367Z"
    }
   },
   "outputs": [
    {
     "name": "stdout",
     "output_type": "stream",
     "text": [
      "              precision    recall  f1-score   support\n",
      "\n",
      "           0       0.79      0.35      0.49      5918\n",
      "           1       0.89      0.98      0.94     33023\n",
      "\n",
      "    accuracy                           0.89     38941\n",
      "   macro avg       0.84      0.67      0.71     38941\n",
      "weighted avg       0.88      0.89      0.87     38941\n",
      "\n"
     ]
    }
   ],
   "source": [
    "from sklearn .metrics import classification_report\n",
    "print(classification_report(y_test,y_pred))"
   ]
  },
  {
   "cell_type": "code",
   "execution_count": 26,
   "id": "774d47d9",
   "metadata": {
    "ExecuteTime": {
     "end_time": "2021-11-25T17:09:17.015569Z",
     "start_time": "2021-11-25T17:09:16.964729Z"
    }
   },
   "outputs": [
    {
     "data": {
      "text/plain": [
       "array([[ 2076,  3842],\n",
       "       [  550, 32473]], dtype=int64)"
      ]
     },
     "execution_count": 26,
     "metadata": {},
     "output_type": "execute_result"
    }
   ],
   "source": [
    "#Confusion Matrix\n",
    "from sklearn.metrics import confusion_matrix\n",
    "confusion_matrix(y_test,y_pred)"
   ]
  },
  {
   "cell_type": "code",
   "execution_count": 27,
   "id": "62811957",
   "metadata": {
    "ExecuteTime": {
     "end_time": "2021-11-25T17:10:03.387647Z",
     "start_time": "2021-11-25T17:10:03.378637Z"
    }
   },
   "outputs": [],
   "source": [
    "from sklearn.utils.multiclass import unique_labels\n",
    "unique_labels(y_test)\n",
    "#combine these labels with the confusion metrix\n",
    "def plot(y_true,y_pred):\n",
    "    labels = unique_labels(y_test)\n",
    "    column=[f'Predicted {label}' for label in labels]\n",
    "    indexes=[f'Actual {label}' for label in labels]\n",
    "    table = pd.DataFrame(confusion_matrix(y_true,y_pred), \n",
    "                         columns=column, index=indexes)\n",
    "    \n",
    "    return table"
   ]
  },
  {
   "cell_type": "code",
   "execution_count": 28,
   "id": "40bee0ff",
   "metadata": {
    "ExecuteTime": {
     "end_time": "2021-11-25T17:10:32.708993Z",
     "start_time": "2021-11-25T17:10:32.660125Z"
    }
   },
   "outputs": [
    {
     "data": {
      "text/html": [
       "<div>\n",
       "<style scoped>\n",
       "    .dataframe tbody tr th:only-of-type {\n",
       "        vertical-align: middle;\n",
       "    }\n",
       "\n",
       "    .dataframe tbody tr th {\n",
       "        vertical-align: top;\n",
       "    }\n",
       "\n",
       "    .dataframe thead th {\n",
       "        text-align: right;\n",
       "    }\n",
       "</style>\n",
       "<table border=\"1\" class=\"dataframe\">\n",
       "  <thead>\n",
       "    <tr style=\"text-align: right;\">\n",
       "      <th></th>\n",
       "      <th>Predicted 0</th>\n",
       "      <th>Predicted 1</th>\n",
       "    </tr>\n",
       "  </thead>\n",
       "  <tbody>\n",
       "    <tr>\n",
       "      <th>Actual 0</th>\n",
       "      <td>2076</td>\n",
       "      <td>3842</td>\n",
       "    </tr>\n",
       "    <tr>\n",
       "      <th>Actual 1</th>\n",
       "      <td>550</td>\n",
       "      <td>32473</td>\n",
       "    </tr>\n",
       "  </tbody>\n",
       "</table>\n",
       "</div>"
      ],
      "text/plain": [
       "          Predicted 0  Predicted 1\n",
       "Actual 0         2076         3842\n",
       "Actual 1          550        32473"
      ]
     },
     "execution_count": 28,
     "metadata": {},
     "output_type": "execute_result"
    }
   ],
   "source": [
    "plot(y_test, y_pred)"
   ]
  },
  {
   "cell_type": "code",
   "execution_count": 30,
   "id": "ba697804",
   "metadata": {
    "ExecuteTime": {
     "end_time": "2021-11-25T17:14:37.199802Z",
     "start_time": "2021-11-25T17:14:37.192820Z"
    }
   },
   "outputs": [],
   "source": [
    "def plot2(y_true,y_pred):\n",
    "    sns.set(rc={\"figure.figsize\":(8, 4)})\n",
    "    labels = unique_labels(y_test)\n",
    "    column=[f'Predicted {label}' for label in labels]\n",
    "    indexes=[f'Actual {label}' for label in labels]\n",
    "    table = pd.DataFrame(confusion_matrix(y_true,y_pred), \n",
    "                         columns=column, index=indexes)\n",
    "    \n",
    "    return sns.heatmap(table, annot=True, fmt='d', cmap='viridis')"
   ]
  },
  {
   "cell_type": "code",
   "execution_count": 31,
   "id": "b2d67de7",
   "metadata": {
    "ExecuteTime": {
     "end_time": "2021-11-25T17:14:39.066378Z",
     "start_time": "2021-11-25T17:14:38.794941Z"
    }
   },
   "outputs": [
    {
     "data": {
      "text/plain": [
       "<AxesSubplot:>"
      ]
     },
     "execution_count": 31,
     "metadata": {},
     "output_type": "execute_result"
    },
    {
     "data": {
      "image/png": "[encoded data removed]",
      "text/plain": [
       "<Figure size 576x288 with 2 Axes>"
      ]
     },
     "metadata": {},
     "output_type": "display_data"
    }
   ],
   "source": [
    "plot2(y_test, y_pred)"
   ]
  },
  {
   "cell_type": "code",
   "execution_count": 116,
   "id": "5e5736d4",
   "metadata": {
    "ExecuteTime": {
     "end_time": "2021-11-19T08:45:17.935328Z",
     "start_time": "2021-11-19T08:45:17.472552Z"
    },
    "scrolled": true
   },
   "outputs": [
    {
     "data": {
      "image/png": "[encoded data removed]",
      "text/plain": [
       "<Figure size 2304x288 with 1 Axes>"
      ]
     },
     "metadata": {},
     "output_type": "display_data"
    }
   ],
   "source": []
  },
  {
   "cell_type": "code",
   "execution_count": null,
   "id": "140d3a30",
   "metadata": {},
   "outputs": [],
   "source": []
  },
  {
   "cell_type": "markdown",
   "id": "7323bca7",
   "metadata": {},
   "source": [
    "# Balance the dataset\n",
    "### 0 is injured\n",
    "### 1: Not injured"
   ]
  },
  {
   "cell_type": "code",
   "execution_count": null,
   "id": "120dd59b",
   "metadata": {},
   "outputs": [],
   "source": []
  },
  {
   "cell_type": "code",
   "execution_count": 32,
   "id": "33702698",
   "metadata": {
    "ExecuteTime": {
     "end_time": "2021-11-25T17:20:10.394072Z",
     "start_time": "2021-11-25T17:19:49.149412Z"
    }
   },
   "outputs": [
    {
     "name": "stdout",
     "output_type": "stream",
     "text": [
      "Original dataset shape Counter({1: 99152, 0: 17671})\n",
      "Resampled dataset shape Counter({1: 99152, 0: 99152})\n"
     ]
    }
   ],
   "source": [
    "from collections import Counter\n",
    "from sklearn.datasets import make_classification\n",
    "from imblearn.over_sampling import SMOTE \n",
    "print('Original dataset shape %s' % Counter(y_train))\n",
    "\n",
    "sm = SMOTE(random_state=42)\n",
    "X_res, y_res = sm.fit_resample(X_train, y_train)\n",
    "print('Resampled dataset shape %s' % Counter(y_res))"
   ]
  },
  {
   "cell_type": "code",
   "execution_count": 118,
   "id": "e587df01",
   "metadata": {
    "ExecuteTime": {
     "end_time": "2021-11-19T08:47:51.291769Z",
     "start_time": "2021-11-19T08:47:51.204321Z"
    }
   },
   "outputs": [
    {
     "name": "stdout",
     "output_type": "stream",
     "text": [
      "              precision    recall  f1-score   support\n",
      "\n",
      "           0       0.82      0.35      0.49      5941\n",
      "           1       0.90      0.99      0.94     33830\n",
      "\n",
      "    accuracy                           0.89     39771\n",
      "   macro avg       0.86      0.67      0.72     39771\n",
      "weighted avg       0.88      0.89      0.87     39771\n",
      "\n"
     ]
    }
   ],
   "source": [
    "# from sklearn .metrics import classification_report\n",
    "# print(classification_report(y_test,y_pred))"
   ]
  },
  {
   "cell_type": "code",
   "execution_count": 157,
   "id": "bf5df275",
   "metadata": {
    "ExecuteTime": {
     "end_time": "2021-11-19T10:10:59.460331Z",
     "start_time": "2021-11-19T10:10:59.404567Z"
    }
   },
   "outputs": [
    {
     "data": {
      "text/plain": [
       "array([[ 2385,  3556],\n",
       "       [ 1511, 32319]], dtype=int64)"
      ]
     },
     "execution_count": 157,
     "metadata": {},
     "output_type": "execute_result"
    }
   ],
   "source": [
    "#Confusion Matrix\n",
    "# from sklearn.metrics import confusion_matrix\n",
    "# confusion_matrix(y_test,y_pred)"
   ]
  },
  {
   "cell_type": "code",
   "execution_count": 121,
   "id": "a09d4893",
   "metadata": {
    "ExecuteTime": {
     "end_time": "2021-11-19T08:48:41.681138Z",
     "start_time": "2021-11-19T08:48:41.666179Z"
    }
   },
   "outputs": [],
   "source": [
    "# from sklearn.utils.multiclass import unique_labels\n",
    "# unique_labels(y_test)\n",
    "# #combine these labels with the confusion metrix\n",
    "# def plot(y_true,y_pred):\n",
    "#     labels = unique_labels(y_test)\n",
    "#     column=[f'Predicted {label}' for label in labels]\n",
    "#     indexes=[f'Actual {label}' for label in labels]\n",
    "#     table = pd.DataFrame(confusion_matrix(y_true,y_pred), \n",
    "#                          columns=column, index=indexes)\n",
    "    \n",
    "#     return table"
   ]
  },
  {
   "cell_type": "code",
   "execution_count": 123,
   "id": "4219dd88",
   "metadata": {
    "ExecuteTime": {
     "end_time": "2021-11-19T08:48:56.214436Z",
     "start_time": "2021-11-19T08:48:56.162729Z"
    }
   },
   "outputs": [
    {
     "data": {
      "text/html": [
       "<div>\n",
       "<style scoped>\n",
       "    .dataframe tbody tr th:only-of-type {\n",
       "        vertical-align: middle;\n",
       "    }\n",
       "\n",
       "    .dataframe tbody tr th {\n",
       "        vertical-align: top;\n",
       "    }\n",
       "\n",
       "    .dataframe thead th {\n",
       "        text-align: right;\n",
       "    }\n",
       "</style>\n",
       "<table border=\"1\" class=\"dataframe\">\n",
       "  <thead>\n",
       "    <tr style=\"text-align: right;\">\n",
       "      <th></th>\n",
       "      <th>Predicted 0</th>\n",
       "      <th>Predicted 1</th>\n",
       "    </tr>\n",
       "  </thead>\n",
       "  <tbody>\n",
       "    <tr>\n",
       "      <th>Actual 0</th>\n",
       "      <td>2104</td>\n",
       "      <td>3837</td>\n",
       "    </tr>\n",
       "    <tr>\n",
       "      <th>Actual 1</th>\n",
       "      <td>477</td>\n",
       "      <td>33353</td>\n",
       "    </tr>\n",
       "  </tbody>\n",
       "</table>\n",
       "</div>"
      ],
      "text/plain": [
       "          Predicted 0  Predicted 1\n",
       "Actual 0         2104         3837\n",
       "Actual 1          477        33353"
      ]
     },
     "execution_count": 123,
     "metadata": {},
     "output_type": "execute_result"
    }
   ],
   "source": [
    "# plot(y_test, y_pred)"
   ]
  },
  {
   "cell_type": "code",
   "execution_count": 143,
   "id": "602edbe4",
   "metadata": {
    "ExecuteTime": {
     "end_time": "2021-11-19T08:51:10.742178Z",
     "start_time": "2021-11-19T08:51:10.731786Z"
    }
   },
   "outputs": [],
   "source": [
    "#same plot as above but in heatmap\n",
    "\n",
    "# def plot2(y_true,y_pred):\n",
    "#     sns.set(rc={\"figure.figsize\":(8, 4)})\n",
    "#     labels = unique_labels(y_test)\n",
    "#     column=[f'Predicted {label}' for label in labels]\n",
    "#     indexes=[f'Actual {label}' for label in labels]\n",
    "#     table = pd.DataFrame(confusion_matrix(y_true,y_pred), \n",
    "#                          columns=column, index=indexes)\n",
    "    \n",
    "#     return sns.heatmap(table, annot=True, fmt='d', cmap='viridis')"
   ]
  },
  {
   "cell_type": "code",
   "execution_count": 144,
   "id": "292f0cb9",
   "metadata": {
    "ExecuteTime": {
     "end_time": "2021-11-19T08:51:12.025628Z",
     "start_time": "2021-11-19T08:51:11.823798Z"
    },
    "scrolled": true
   },
   "outputs": [
    {
     "data": {
      "text/plain": [
       "<AxesSubplot:>"
      ]
     },
     "execution_count": 144,
     "metadata": {},
     "output_type": "execute_result"
    },
    {
     "data": {
      "image/png": "[encoded data removed]",
      "text/plain": [
       "<Figure size 576x288 with 2 Axes>"
      ]
     },
     "metadata": {},
     "output_type": "display_data"
    }
   ],
   "source": [
    "# plot2(y_test, y_pred)"
   ]
  },
  {
   "cell_type": "code",
   "execution_count": 33,
   "id": "778ca2da",
   "metadata": {
    "ExecuteTime": {
     "end_time": "2021-11-25T17:21:10.765605Z",
     "start_time": "2021-11-25T17:21:10.708756Z"
    },
    "scrolled": false
   },
   "outputs": [
    {
     "data": {
      "text/html": [
       "<div>\n",
       "<style scoped>\n",
       "    .dataframe tbody tr th:only-of-type {\n",
       "        vertical-align: middle;\n",
       "    }\n",
       "\n",
       "    .dataframe tbody tr th {\n",
       "        vertical-align: top;\n",
       "    }\n",
       "\n",
       "    .dataframe thead th {\n",
       "        text-align: right;\n",
       "    }\n",
       "</style>\n",
       "<table border=\"1\" class=\"dataframe\">\n",
       "  <thead>\n",
       "    <tr style=\"text-align: right;\">\n",
       "      <th></th>\n",
       "      <th>person_type</th>\n",
       "      <th>person_age</th>\n",
       "      <th>ejection</th>\n",
       "      <th>position_in_vehicle</th>\n",
       "      <th>safety_equipment</th>\n",
       "      <th>ped_role</th>\n",
       "      <th>person_sex</th>\n",
       "      <th>vehicle_type</th>\n",
       "      <th>vehicle_make</th>\n",
       "      <th>vehicle_year</th>\n",
       "      <th>vehicle_occupants</th>\n",
       "      <th>driver_sex</th>\n",
       "      <th>driver_license_status</th>\n",
       "      <th>pre_crash</th>\n",
       "      <th>point_of_impact</th>\n",
       "      <th>vehicle_damage</th>\n",
       "      <th>contributing_factor_1</th>\n",
       "      <th>contributing_factor_2</th>\n",
       "      <th>borough</th>\n",
       "      <th>zip_code</th>\n",
       "      <th>latitude</th>\n",
       "      <th>longitude</th>\n",
       "      <th>on_street_name</th>\n",
       "      <th>number_of_contributing_vehicles</th>\n",
       "      <th>crash_date_year</th>\n",
       "      <th>crash_date_month</th>\n",
       "      <th>crash_date_day</th>\n",
       "      <th>Time</th>\n",
       "      <th>city_info</th>\n",
       "      <th>population</th>\n",
       "      <th>median_household_income</th>\n",
       "    </tr>\n",
       "  </thead>\n",
       "  <tbody>\n",
       "    <tr>\n",
       "      <th>0</th>\n",
       "      <td>1</td>\n",
       "      <td>43</td>\n",
       "      <td>2</td>\n",
       "      <td>3</td>\n",
       "      <td>10</td>\n",
       "      <td>3</td>\n",
       "      <td>0</td>\n",
       "      <td>109</td>\n",
       "      <td>669</td>\n",
       "      <td>36</td>\n",
       "      <td>21</td>\n",
       "      <td>1</td>\n",
       "      <td>0</td>\n",
       "      <td>4</td>\n",
       "      <td>19</td>\n",
       "      <td>19</td>\n",
       "      <td>50</td>\n",
       "      <td>50</td>\n",
       "      <td>1</td>\n",
       "      <td>134</td>\n",
       "      <td>6248</td>\n",
       "      <td>4747</td>\n",
       "      <td>3942</td>\n",
       "      <td>1</td>\n",
       "      <td>2</td>\n",
       "      <td>4</td>\n",
       "      <td>23</td>\n",
       "      <td>776</td>\n",
       "      <td>7</td>\n",
       "      <td>115</td>\n",
       "      <td>110</td>\n",
       "    </tr>\n",
       "    <tr>\n",
       "      <th>1</th>\n",
       "      <td>1</td>\n",
       "      <td>7</td>\n",
       "      <td>2</td>\n",
       "      <td>0</td>\n",
       "      <td>11</td>\n",
       "      <td>3</td>\n",
       "      <td>0</td>\n",
       "      <td>142</td>\n",
       "      <td>636</td>\n",
       "      <td>77</td>\n",
       "      <td>41</td>\n",
       "      <td>0</td>\n",
       "      <td>3</td>\n",
       "      <td>11</td>\n",
       "      <td>9</td>\n",
       "      <td>9</td>\n",
       "      <td>24</td>\n",
       "      <td>24</td>\n",
       "      <td>1</td>\n",
       "      <td>135</td>\n",
       "      <td>4847</td>\n",
       "      <td>10467</td>\n",
       "      <td>3451</td>\n",
       "      <td>2</td>\n",
       "      <td>2</td>\n",
       "      <td>2</td>\n",
       "      <td>1</td>\n",
       "      <td>916</td>\n",
       "      <td>7</td>\n",
       "      <td>22</td>\n",
       "      <td>11</td>\n",
       "    </tr>\n",
       "    <tr>\n",
       "      <th>2</th>\n",
       "      <td>1</td>\n",
       "      <td>53</td>\n",
       "      <td>2</td>\n",
       "      <td>2</td>\n",
       "      <td>16</td>\n",
       "      <td>0</td>\n",
       "      <td>0</td>\n",
       "      <td>142</td>\n",
       "      <td>636</td>\n",
       "      <td>77</td>\n",
       "      <td>41</td>\n",
       "      <td>0</td>\n",
       "      <td>3</td>\n",
       "      <td>11</td>\n",
       "      <td>9</td>\n",
       "      <td>9</td>\n",
       "      <td>24</td>\n",
       "      <td>24</td>\n",
       "      <td>1</td>\n",
       "      <td>115</td>\n",
       "      <td>4251</td>\n",
       "      <td>4203</td>\n",
       "      <td>2045</td>\n",
       "      <td>2</td>\n",
       "      <td>4</td>\n",
       "      <td>8</td>\n",
       "      <td>23</td>\n",
       "      <td>0</td>\n",
       "      <td>7</td>\n",
       "      <td>153</td>\n",
       "      <td>74</td>\n",
       "    </tr>\n",
       "    <tr>\n",
       "      <th>3</th>\n",
       "      <td>1</td>\n",
       "      <td>22</td>\n",
       "      <td>2</td>\n",
       "      <td>5</td>\n",
       "      <td>10</td>\n",
       "      <td>3</td>\n",
       "      <td>1</td>\n",
       "      <td>142</td>\n",
       "      <td>636</td>\n",
       "      <td>77</td>\n",
       "      <td>41</td>\n",
       "      <td>1</td>\n",
       "      <td>3</td>\n",
       "      <td>11</td>\n",
       "      <td>9</td>\n",
       "      <td>9</td>\n",
       "      <td>24</td>\n",
       "      <td>24</td>\n",
       "      <td>1</td>\n",
       "      <td>104</td>\n",
       "      <td>5630</td>\n",
       "      <td>10385</td>\n",
       "      <td>4720</td>\n",
       "      <td>2</td>\n",
       "      <td>5</td>\n",
       "      <td>0</td>\n",
       "      <td>29</td>\n",
       "      <td>1226</td>\n",
       "      <td>7</td>\n",
       "      <td>178</td>\n",
       "      <td>19</td>\n",
       "    </tr>\n",
       "    <tr>\n",
       "      <th>4</th>\n",
       "      <td>1</td>\n",
       "      <td>29</td>\n",
       "      <td>2</td>\n",
       "      <td>2</td>\n",
       "      <td>11</td>\n",
       "      <td>0</td>\n",
       "      <td>1</td>\n",
       "      <td>142</td>\n",
       "      <td>636</td>\n",
       "      <td>77</td>\n",
       "      <td>41</td>\n",
       "      <td>1</td>\n",
       "      <td>3</td>\n",
       "      <td>11</td>\n",
       "      <td>9</td>\n",
       "      <td>9</td>\n",
       "      <td>24</td>\n",
       "      <td>24</td>\n",
       "      <td>1</td>\n",
       "      <td>132</td>\n",
       "      <td>3436</td>\n",
       "      <td>9339</td>\n",
       "      <td>2111</td>\n",
       "      <td>2</td>\n",
       "      <td>2</td>\n",
       "      <td>0</td>\n",
       "      <td>10</td>\n",
       "      <td>1411</td>\n",
       "      <td>7</td>\n",
       "      <td>179</td>\n",
       "      <td>102</td>\n",
       "    </tr>\n",
       "  </tbody>\n",
       "</table>\n",
       "</div>"
      ],
      "text/plain": [
       "   person_type  person_age  ejection  position_in_vehicle  safety_equipment  \\\n",
       "0            1          43         2                    3                10   \n",
       "1            1           7         2                    0                11   \n",
       "2            1          53         2                    2                16   \n",
       "3            1          22         2                    5                10   \n",
       "4            1          29         2                    2                11   \n",
       "\n",
       "   ped_role  person_sex  vehicle_type  vehicle_make  vehicle_year  \\\n",
       "0         3           0           109           669            36   \n",
       "1         3           0           142           636            77   \n",
       "2         0           0           142           636            77   \n",
       "3         3           1           142           636            77   \n",
       "4         0           1           142           636            77   \n",
       "\n",
       "   vehicle_occupants  driver_sex  driver_license_status  pre_crash  \\\n",
       "0                 21           1                      0          4   \n",
       "1                 41           0                      3         11   \n",
       "2                 41           0                      3         11   \n",
       "3                 41           1                      3         11   \n",
       "4                 41           1                      3         11   \n",
       "\n",
       "   point_of_impact  vehicle_damage  contributing_factor_1  \\\n",
       "0               19              19                     50   \n",
       "1                9               9                     24   \n",
       "2                9               9                     24   \n",
       "3                9               9                     24   \n",
       "4                9               9                     24   \n",
       "\n",
       "   contributing_factor_2  borough  zip_code  latitude  longitude  \\\n",
       "0                     50        1       134      6248       4747   \n",
       "1                     24        1       135      4847      10467   \n",
       "2                     24        1       115      4251       4203   \n",
       "3                     24        1       104      5630      10385   \n",
       "4                     24        1       132      3436       9339   \n",
       "\n",
       "   on_street_name  number_of_contributing_vehicles  crash_date_year  \\\n",
       "0            3942                                1                2   \n",
       "1            3451                                2                2   \n",
       "2            2045                                2                4   \n",
       "3            4720                                2                5   \n",
       "4            2111                                2                2   \n",
       "\n",
       "   crash_date_month  crash_date_day  Time  city_info  population  \\\n",
       "0                 4              23   776          7         115   \n",
       "1                 2               1   916          7          22   \n",
       "2                 8              23     0          7         153   \n",
       "3                 0              29  1226          7         178   \n",
       "4                 0              10  1411          7         179   \n",
       "\n",
       "   median_household_income  \n",
       "0                      110  \n",
       "1                       11  \n",
       "2                       74  \n",
       "3                       19  \n",
       "4                      102  "
      ]
     },
     "execution_count": 33,
     "metadata": {},
     "output_type": "execute_result"
    }
   ],
   "source": [
    "# X_res.head()"
   ]
  },
  {
   "cell_type": "code",
   "execution_count": null,
   "id": "bf989a45",
   "metadata": {},
   "outputs": [],
   "source": []
  },
  {
   "cell_type": "markdown",
   "id": "cb2c174f",
   "metadata": {},
   "source": [
    "# Run the model on the balanced dataset\n"
   ]
  },
  {
   "cell_type": "code",
   "execution_count": 34,
   "id": "a1d0bcc2",
   "metadata": {
    "ExecuteTime": {
     "end_time": "2021-11-25T17:22:44.216435Z",
     "start_time": "2021-11-25T17:21:51.877207Z"
    }
   },
   "outputs": [
    {
     "name": "stdout",
     "output_type": "stream",
     "text": [
      "Accuracy: 0.8726021417015485\n"
     ]
    }
   ],
   "source": [
    "#Train the model using the training sets y_pred=clf.predict(X_test)\n",
    "clf.fit(X_res,y_res)\n",
    "y_pred=clf.predict(X_test)\n",
    "print(\"Accuracy:\",metrics.accuracy_score(y_test, y_pred))"
   ]
  },
  {
   "cell_type": "code",
   "execution_count": 158,
   "id": "7541f787",
   "metadata": {
    "ExecuteTime": {
     "end_time": "2021-11-19T10:12:21.011760Z",
     "start_time": "2021-11-19T10:12:20.964355Z"
    }
   },
   "outputs": [
    {
     "data": {
      "text/plain": [
       "array([[ 2385,  3556],\n",
       "       [ 1511, 32319]], dtype=int64)"
      ]
     },
     "execution_count": 158,
     "metadata": {},
     "output_type": "execute_result"
    }
   ],
   "source": [
    "# confusion_matrix(y_test,y_pred)"
   ]
  },
  {
   "cell_type": "code",
   "execution_count": 35,
   "id": "7d5f75dd",
   "metadata": {
    "ExecuteTime": {
     "end_time": "2021-11-25T17:22:44.274056Z",
     "start_time": "2021-11-25T17:22:44.219427Z"
    },
    "scrolled": true
   },
   "outputs": [
    {
     "name": "stdout",
     "output_type": "stream",
     "text": [
      "              precision    recall  f1-score   support\n",
      "\n",
      "           0       0.63      0.39      0.48      5918\n",
      "           1       0.90      0.96      0.93     33023\n",
      "\n",
      "    accuracy                           0.87     38941\n",
      "   macro avg       0.76      0.67      0.70     38941\n",
      "weighted avg       0.86      0.87      0.86     38941\n",
      "\n"
     ]
    }
   ],
   "source": [
    "print(classification_report(y_test,y_pred))"
   ]
  },
  {
   "cell_type": "code",
   "execution_count": 162,
   "id": "ee1aeb58",
   "metadata": {
    "ExecuteTime": {
     "end_time": "2021-11-19T10:13:38.434955Z",
     "start_time": "2021-11-19T10:13:38.064968Z"
    }
   },
   "outputs": [
    {
     "data": {
      "text/plain": [
       "<AxesSubplot:>"
      ]
     },
     "execution_count": 162,
     "metadata": {},
     "output_type": "execute_result"
    },
    {
     "data": {
      "image/png": "[encoded data removed]",
      "text/plain": [
       "<Figure size 576x288 with 2 Axes>"
      ]
     },
     "metadata": {},
     "output_type": "display_data"
    }
   ],
   "source": [
    "plot2(y_test, y_pred)"
   ]
  },
  {
   "cell_type": "code",
   "execution_count": null,
   "id": "cebc3aa9",
   "metadata": {},
   "outputs": [],
   "source": []
  },
  {
   "cell_type": "code",
   "execution_count": 146,
   "id": "26bd33f1",
   "metadata": {
    "ExecuteTime": {
     "end_time": "2021-11-19T09:48:02.679131Z",
     "start_time": "2021-11-19T09:48:02.588418Z"
    }
   },
   "outputs": [],
   "source": [
    "# # Features:  person_age, longitude, latitude, on_street_name, zip_code, crash_date_day, person_type\n",
    "# X_res=X_res[['person_age', 'person_type',\n",
    "#        'zip_code', 'latitude', 'longitude', 'on_street_name',\n",
    "#         'crash_date_day']]  # Features\n"
   ]
  },
  {
   "cell_type": "code",
   "execution_count": 36,
   "id": "e6dab80b",
   "metadata": {
    "ExecuteTime": {
     "end_time": "2021-11-25T18:44:41.773741Z",
     "start_time": "2021-11-25T18:44:40.695005Z"
    }
   },
   "outputs": [],
   "source": [
    "# Extract feature importances\n",
    "fi = pd.DataFrame({'feature': list(X_train.columns),\n",
    "                   'importance': clf.feature_importances_}).\\\n",
    "                    sort_values('importance', ascending = False)"
   ]
  },
  {
   "cell_type": "code",
   "execution_count": 37,
   "id": "28430667",
   "metadata": {
    "ExecuteTime": {
     "end_time": "2021-11-25T18:48:10.678302Z",
     "start_time": "2021-11-25T18:48:10.631419Z"
    }
   },
   "outputs": [
    {
     "data": {
      "text/html": [
       "<div>\n",
       "<style scoped>\n",
       "    .dataframe tbody tr th:only-of-type {\n",
       "        vertical-align: middle;\n",
       "    }\n",
       "\n",
       "    .dataframe tbody tr th {\n",
       "        vertical-align: top;\n",
       "    }\n",
       "\n",
       "    .dataframe thead th {\n",
       "        text-align: right;\n",
       "    }\n",
       "</style>\n",
       "<table border=\"1\" class=\"dataframe\">\n",
       "  <thead>\n",
       "    <tr style=\"text-align: right;\">\n",
       "      <th></th>\n",
       "      <th>feature</th>\n",
       "      <th>importance</th>\n",
       "    </tr>\n",
       "  </thead>\n",
       "  <tbody>\n",
       "    <tr>\n",
       "      <th>5</th>\n",
       "      <td>ped_role</td>\n",
       "      <td>0.063961</td>\n",
       "    </tr>\n",
       "    <tr>\n",
       "      <th>2</th>\n",
       "      <td>ejection</td>\n",
       "      <td>0.056591</td>\n",
       "    </tr>\n",
       "    <tr>\n",
       "      <th>10</th>\n",
       "      <td>vehicle_occupants</td>\n",
       "      <td>0.053086</td>\n",
       "    </tr>\n",
       "    <tr>\n",
       "      <th>6</th>\n",
       "      <td>person_sex</td>\n",
       "      <td>0.049537</td>\n",
       "    </tr>\n",
       "    <tr>\n",
       "      <th>0</th>\n",
       "      <td>person_type</td>\n",
       "      <td>0.048062</td>\n",
       "    </tr>\n",
       "    <tr>\n",
       "      <th>3</th>\n",
       "      <td>position_in_vehicle</td>\n",
       "      <td>0.046288</td>\n",
       "    </tr>\n",
       "    <tr>\n",
       "      <th>4</th>\n",
       "      <td>safety_equipment</td>\n",
       "      <td>0.045432</td>\n",
       "    </tr>\n",
       "    <tr>\n",
       "      <th>1</th>\n",
       "      <td>person_age</td>\n",
       "      <td>0.042106</td>\n",
       "    </tr>\n",
       "    <tr>\n",
       "      <th>27</th>\n",
       "      <td>Time</td>\n",
       "      <td>0.042043</td>\n",
       "    </tr>\n",
       "    <tr>\n",
       "      <th>21</th>\n",
       "      <td>longitude</td>\n",
       "      <td>0.040547</td>\n",
       "    </tr>\n",
       "    <tr>\n",
       "      <th>20</th>\n",
       "      <td>latitude</td>\n",
       "      <td>0.040022</td>\n",
       "    </tr>\n",
       "    <tr>\n",
       "      <th>23</th>\n",
       "      <td>number_of_contributing_vehicles</td>\n",
       "      <td>0.039743</td>\n",
       "    </tr>\n",
       "    <tr>\n",
       "      <th>22</th>\n",
       "      <td>on_street_name</td>\n",
       "      <td>0.037141</td>\n",
       "    </tr>\n",
       "    <tr>\n",
       "      <th>26</th>\n",
       "      <td>crash_date_day</td>\n",
       "      <td>0.031768</td>\n",
       "    </tr>\n",
       "    <tr>\n",
       "      <th>9</th>\n",
       "      <td>vehicle_year</td>\n",
       "      <td>0.030800</td>\n",
       "    </tr>\n",
       "    <tr>\n",
       "      <th>17</th>\n",
       "      <td>contributing_factor_2</td>\n",
       "      <td>0.030316</td>\n",
       "    </tr>\n",
       "    <tr>\n",
       "      <th>19</th>\n",
       "      <td>zip_code</td>\n",
       "      <td>0.029446</td>\n",
       "    </tr>\n",
       "    <tr>\n",
       "      <th>30</th>\n",
       "      <td>median_household_income</td>\n",
       "      <td>0.028628</td>\n",
       "    </tr>\n",
       "    <tr>\n",
       "      <th>25</th>\n",
       "      <td>crash_date_month</td>\n",
       "      <td>0.027481</td>\n",
       "    </tr>\n",
       "    <tr>\n",
       "      <th>7</th>\n",
       "      <td>vehicle_type</td>\n",
       "      <td>0.026713</td>\n",
       "    </tr>\n",
       "    <tr>\n",
       "      <th>29</th>\n",
       "      <td>population</td>\n",
       "      <td>0.026632</td>\n",
       "    </tr>\n",
       "    <tr>\n",
       "      <th>11</th>\n",
       "      <td>driver_sex</td>\n",
       "      <td>0.025359</td>\n",
       "    </tr>\n",
       "    <tr>\n",
       "      <th>16</th>\n",
       "      <td>contributing_factor_1</td>\n",
       "      <td>0.021451</td>\n",
       "    </tr>\n",
       "    <tr>\n",
       "      <th>14</th>\n",
       "      <td>point_of_impact</td>\n",
       "      <td>0.019486</td>\n",
       "    </tr>\n",
       "    <tr>\n",
       "      <th>8</th>\n",
       "      <td>vehicle_make</td>\n",
       "      <td>0.018841</td>\n",
       "    </tr>\n",
       "    <tr>\n",
       "      <th>15</th>\n",
       "      <td>vehicle_damage</td>\n",
       "      <td>0.018337</td>\n",
       "    </tr>\n",
       "    <tr>\n",
       "      <th>24</th>\n",
       "      <td>crash_date_year</td>\n",
       "      <td>0.017253</td>\n",
       "    </tr>\n",
       "    <tr>\n",
       "      <th>12</th>\n",
       "      <td>driver_license_status</td>\n",
       "      <td>0.014751</td>\n",
       "    </tr>\n",
       "    <tr>\n",
       "      <th>28</th>\n",
       "      <td>city_info</td>\n",
       "      <td>0.012597</td>\n",
       "    </tr>\n",
       "    <tr>\n",
       "      <th>13</th>\n",
       "      <td>pre_crash</td>\n",
       "      <td>0.010214</td>\n",
       "    </tr>\n",
       "    <tr>\n",
       "      <th>18</th>\n",
       "      <td>borough</td>\n",
       "      <td>0.005367</td>\n",
       "    </tr>\n",
       "  </tbody>\n",
       "</table>\n",
       "</div>"
      ],
      "text/plain": [
       "                            feature  importance\n",
       "5                          ped_role    0.063961\n",
       "2                          ejection    0.056591\n",
       "10                vehicle_occupants    0.053086\n",
       "6                        person_sex    0.049537\n",
       "0                       person_type    0.048062\n",
       "3               position_in_vehicle    0.046288\n",
       "4                  safety_equipment    0.045432\n",
       "1                        person_age    0.042106\n",
       "27                             Time    0.042043\n",
       "21                        longitude    0.040547\n",
       "20                         latitude    0.040022\n",
       "23  number_of_contributing_vehicles    0.039743\n",
       "22                   on_street_name    0.037141\n",
       "26                   crash_date_day    0.031768\n",
       "9                      vehicle_year    0.030800\n",
       "17            contributing_factor_2    0.030316\n",
       "19                         zip_code    0.029446\n",
       "30          median_household_income    0.028628\n",
       "25                 crash_date_month    0.027481\n",
       "7                      vehicle_type    0.026713\n",
       "29                       population    0.026632\n",
       "11                       driver_sex    0.025359\n",
       "16            contributing_factor_1    0.021451\n",
       "14                  point_of_impact    0.019486\n",
       "8                      vehicle_make    0.018841\n",
       "15                   vehicle_damage    0.018337\n",
       "24                  crash_date_year    0.017253\n",
       "12            driver_license_status    0.014751\n",
       "28                        city_info    0.012597\n",
       "13                        pre_crash    0.010214\n",
       "18                          borough    0.005367"
      ]
     },
     "execution_count": 37,
     "metadata": {},
     "output_type": "execute_result"
    }
   ],
   "source": [
    "fi.head(40)"
   ]
  },
  {
   "cell_type": "code",
   "execution_count": 39,
   "id": "c852a206",
   "metadata": {
    "ExecuteTime": {
     "end_time": "2021-11-25T18:55:22.151461Z",
     "start_time": "2021-11-25T18:55:21.588322Z"
    }
   },
   "outputs": [
    {
     "data": {
      "image/png": "[encoded data removed]",
      "text/plain": [
       "<Figure size 2304x576 with 1 Axes>"
      ]
     },
     "metadata": {},
     "output_type": "display_data"
    }
   ],
   "source": [
    "# Creating a bar plot\n",
    "sns.barplot(x=fi.feature, y=fi.importance)\n",
    "# Add labels to your\n",
    "#sns.set(rc={\"figure.figsize\":(8, 4)})\n",
    "sns.set(rc={\"figure.figsize\":(40, 8)})\n",
    "\n",
    "plt.xlabel(\"Feature Importance Score\")\n",
    "plt.ylabel(\"Features\")\n",
    "plt.title(\"Visualizing Important Features\")\n",
    "plt.xticks(\n",
    "    rotation=45, horizontalalignment=\"right\", fontweight=\"light\", fontsize=\"x-large\"\n",
    ")\n",
    "plt.show()"
   ]
  },
  {
   "cell_type": "markdown",
   "id": "14da3d75",
   "metadata": {},
   "source": [
    "# Run the model on features below\n",
    "Features:  person_age, longitude, latitude, on_street_name, zip_code, crash_date_day, person_type\n"
   ]
  },
  {
   "cell_type": "code",
   "execution_count": 58,
   "id": "d4d17db4",
   "metadata": {
    "ExecuteTime": {
     "end_time": "2021-11-25T20:12:04.173773Z",
     "start_time": "2021-11-25T20:12:04.119441Z"
    }
   },
   "outputs": [],
   "source": [
    "X_res2=X_res[['person_type', 'person_age', 'ejection',\n",
    "       'position_in_vehicle', 'safety_equipment', 'ped_role', 'person_sex',\n",
    "       'vehicle_type', 'vehicle_year', 'vehicle_occupants',\n",
    "       'driver_sex', \n",
    "       'contributing_factor_1', 'contributing_factor_2',\n",
    "       'zip_code', 'latitude', 'longitude', 'on_street_name',\n",
    "       'number_of_contributing_vehicles', \n",
    "       'crash_date_month', 'crash_date_day', 'Time', 'population',\n",
    "       'median_household_income']] \n",
    "X_test2 = X_test[['person_type', 'person_age', 'ejection',\n",
    "       'position_in_vehicle', 'safety_equipment', 'ped_role', 'person_sex',\n",
    "       'vehicle_type', 'vehicle_year', 'vehicle_occupants',\n",
    "       'driver_sex',\n",
    "       'contributing_factor_1', 'contributing_factor_2',\n",
    "       'zip_code', 'latitude', 'longitude', 'on_street_name',\n",
    "       'number_of_contributing_vehicles', \n",
    "       'crash_date_month', 'crash_date_day', 'Time', 'population',\n",
    "       'median_household_income']] "
   ]
  },
  {
   "cell_type": "code",
   "execution_count": 59,
   "id": "4702523a",
   "metadata": {
    "ExecuteTime": {
     "end_time": "2021-11-25T20:12:49.033814Z",
     "start_time": "2021-11-25T20:12:08.858096Z"
    }
   },
   "outputs": [
    {
     "name": "stdout",
     "output_type": "stream",
     "text": [
      "Accuracy: 0.9670784006574048\n"
     ]
    }
   ],
   "source": [
    "clf.fit(X_res2,y_res)\n",
    "y_pred=clf.predict(X_test2)\n",
    "print(\"Accuracy:\",metrics.accuracy_score(y_test, y_pred))"
   ]
  },
  {
   "cell_type": "code",
   "execution_count": 60,
   "id": "e5a9b87a",
   "metadata": {
    "ExecuteTime": {
     "end_time": "2021-11-25T20:14:38.717442Z",
     "start_time": "2021-11-25T20:14:38.673936Z"
    }
   },
   "outputs": [
    {
     "data": {
      "text/plain": [
       "array([[ 5022,   921],\n",
       "       [  361, 32637]], dtype=int64)"
      ]
     },
     "execution_count": 60,
     "metadata": {},
     "output_type": "execute_result"
    }
   ],
   "source": [
    "confusion_matrix(y_test,y_pred)"
   ]
  },
  {
   "cell_type": "code",
   "execution_count": 61,
   "id": "8fdca5bb",
   "metadata": {
    "ExecuteTime": {
     "end_time": "2021-11-25T20:14:41.215179Z",
     "start_time": "2021-11-25T20:14:41.166948Z"
    }
   },
   "outputs": [
    {
     "name": "stdout",
     "output_type": "stream",
     "text": [
      "              precision    recall  f1-score   support\n",
      "\n",
      "           0       0.93      0.85      0.89      5943\n",
      "           1       0.97      0.99      0.98     32998\n",
      "\n",
      "    accuracy                           0.97     38941\n",
      "   macro avg       0.95      0.92      0.93     38941\n",
      "weighted avg       0.97      0.97      0.97     38941\n",
      "\n"
     ]
    }
   ],
   "source": [
    "print(classification_report(y_test,y_pred))"
   ]
  },
  {
   "cell_type": "code",
   "execution_count": 62,
   "id": "368e2332",
   "metadata": {
    "ExecuteTime": {
     "end_time": "2021-11-25T20:15:55.260567Z",
     "start_time": "2021-11-25T20:15:54.908725Z"
    },
    "scrolled": true
   },
   "outputs": [
    {
     "data": {
      "text/plain": [
       "<AxesSubplot:>"
      ]
     },
     "execution_count": 62,
     "metadata": {},
     "output_type": "execute_result"
    },
    {
     "data": {
      "image/png": "[encoded data removed]",
      "text/plain": [
       "<Figure size 576x288 with 2 Axes>"
      ]
     },
     "metadata": {},
     "output_type": "display_data"
    }
   ],
   "source": [
    "plot2(y_test, y_pred)"
   ]
  },
  {
   "cell_type": "markdown",
   "id": "ed7c308d",
   "metadata": {},
   "source": [
    "# Using lesser features"
   ]
  },
  {
   "cell_type": "code",
   "execution_count": null,
   "id": "66cfc6ee",
   "metadata": {},
   "outputs": [],
   "source": [
    "X_res1=X_res[['person_type', 'person_age', 'ejection',\n",
    "       'position_in_vehicle', 'safety_equipment', 'ped_role', 'person_sex',\n",
    "       'vehicle_type', 'vehicle_make', 'vehicle_year', 'vehicle_occupants',\n",
    "       'driver_sex', 'driver_license_status','point_of_impact',\n",
    "       'vehicle_damage', 'contributing_factor_1', 'contributing_factor_2',\n",
    "       'zip_code', 'latitude', 'longitude', 'on_street_name',\n",
    "       'number_of_contributing_vehicles', \n",
    "       'crash_date_month', 'crash_date_day', 'Time', 'population',\n",
    "       'median_household_income']] \n",
    "X_test1 = X_test[['person_type', 'person_age', 'ejection',\n",
    "       'position_in_vehicle', 'safety_equipment', 'ped_role', 'person_sex',\n",
    "       'vehicle_type', 'vehicle_make', 'vehicle_year', 'vehicle_occupants',\n",
    "       'driver_sex', 'driver_license_status','point_of_impact',\n",
    "       'vehicle_damage', 'contributing_factor_1', 'contributing_factor_2',\n",
    "       'zip_code', 'latitude', 'longitude', 'on_street_name',\n",
    "       'number_of_contributing_vehicles', \n",
    "       'crash_date_month', 'crash_date_day', 'Time', 'population',\n",
    "       'median_household_income']] "
   ]
  }
 ],
 "metadata": {
  "kernelspec": {
   "display_name": "Python 3",
   "language": "python",
   "name": "python3"
  },
  "language_info": {
   "codemirror_mode": {
    "name": "ipython",
    "version": 3
   },
   "file_extension": ".py",
   "mimetype": "text/x-python",
   "name": "python",
   "nbconvert_exporter": "python",
   "pygments_lexer": "ipython3",
   "version": "3.8.8"
  },
  "toc": {
   "base_numbering": 1,
   "nav_menu": {},
   "number_sections": true,
   "sideBar": true,
   "skip_h1_title": false,
   "title_cell": "Table of Contents",
   "title_sidebar": "Contents",
   "toc_cell": false,
   "toc_position": {},
   "toc_section_display": true,
   "toc_window_display": false
  }
 },
 "nbformat": 4,
 "nbformat_minor": 5
}
