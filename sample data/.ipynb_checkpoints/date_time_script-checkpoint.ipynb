{
 "cells": [
  {
   "cell_type": "code",
   "execution_count": 17,
   "id": "f007e65b",
   "metadata": {
    "ExecuteTime": {
     "end_time": "2021-11-19T05:04:49.522735Z",
     "start_time": "2021-11-19T05:04:49.511112Z"
    }
   },
   "outputs": [],
   "source": [
    "import pandas as pd\n",
    "import numpy as np\n",
    "import seaborn as sns\n",
    "import matplotlib.pyplot as plt\n",
    "from matplotlib.pyplot import figure\n",
    "\n",
    "# To see all the columns \n",
    "pd.set_option('display.max_columns', 85)\n",
    "pd.set_option('display.max_rows', 600)\n",
    "\n",
    "from sklearn.ensemble import RandomForestClassifier\n",
    "from sklearn.model_selection import train_test_split"
   ]
  },
  {
   "cell_type": "code",
   "execution_count": 18,
   "id": "add1b7bc",
   "metadata": {
    "ExecuteTime": {
     "end_time": "2021-11-19T05:04:52.135368Z",
     "start_time": "2021-11-19T05:04:51.341740Z"
    }
   },
   "outputs": [],
   "source": [
    "df= pd.read_csv(\"C:\\\\CompletePython\\\\DataScience\\VisionZero\\\\2016\\\\crashes_datetime4.csv\")"
   ]
  },
  {
   "cell_type": "code",
   "execution_count": 19,
   "id": "21f2c7e1",
   "metadata": {
    "ExecuteTime": {
     "end_time": "2021-11-19T05:04:56.559207Z",
     "start_time": "2021-11-19T05:04:56.511043Z"
    },
    "scrolled": true
   },
   "outputs": [
    {
     "data": {
      "text/html": [
       "<div>\n",
       "<style scoped>\n",
       "    .dataframe tbody tr th:only-of-type {\n",
       "        vertical-align: middle;\n",
       "    }\n",
       "\n",
       "    .dataframe tbody tr th {\n",
       "        vertical-align: top;\n",
       "    }\n",
       "\n",
       "    .dataframe thead th {\n",
       "        text-align: right;\n",
       "    }\n",
       "</style>\n",
       "<table border=\"1\" class=\"dataframe\">\n",
       "  <thead>\n",
       "    <tr style=\"text-align: right;\">\n",
       "      <th></th>\n",
       "      <th>Unnamed: 0</th>\n",
       "      <th>person_type</th>\n",
       "      <th>person_injury</th>\n",
       "      <th>person_age</th>\n",
       "      <th>ejection</th>\n",
       "      <th>position_in_vehicle</th>\n",
       "      <th>safety_equipment</th>\n",
       "      <th>ped_role</th>\n",
       "      <th>person_sex</th>\n",
       "      <th>vehicle_type</th>\n",
       "      <th>vehicle_make</th>\n",
       "      <th>vehicle_year</th>\n",
       "      <th>vehicle_occupants</th>\n",
       "      <th>driver_sex</th>\n",
       "      <th>driver_license_status</th>\n",
       "      <th>pre_crash</th>\n",
       "      <th>point_of_impact</th>\n",
       "      <th>vehicle_damage</th>\n",
       "      <th>contributing_factor_1</th>\n",
       "      <th>contributing_factor_2</th>\n",
       "      <th>borough</th>\n",
       "      <th>zip_code</th>\n",
       "      <th>latitude</th>\n",
       "      <th>longitude</th>\n",
       "      <th>on_street_name</th>\n",
       "      <th>collision_id</th>\n",
       "      <th>number_of_contributing_vehicles</th>\n",
       "      <th>crash_date_year</th>\n",
       "      <th>crash_date_month</th>\n",
       "      <th>crash_date_day</th>\n",
       "      <th>hour</th>\n",
       "    </tr>\n",
       "  </thead>\n",
       "  <tbody>\n",
       "    <tr>\n",
       "      <th>0</th>\n",
       "      <td>2</td>\n",
       "      <td>OCCUPANT</td>\n",
       "      <td>NOT INJURED</td>\n",
       "      <td>52.0</td>\n",
       "      <td>NOT EJECTED</td>\n",
       "      <td>DRIVER</td>\n",
       "      <td>LAP BELT &amp; HARNESS</td>\n",
       "      <td>DRIVER</td>\n",
       "      <td>M</td>\n",
       "      <td>UNSPECIFIED</td>\n",
       "      <td>UNSPECIFIED</td>\n",
       "      <td>UNSPECIFIED</td>\n",
       "      <td>UNSPECIFIED</td>\n",
       "      <td>M</td>\n",
       "      <td>UNSPECIFIED</td>\n",
       "      <td>NOT_AVALIBLE</td>\n",
       "      <td>NOT_AVALIBLE</td>\n",
       "      <td>NOT_AVALIBLE</td>\n",
       "      <td>NOT_AVALIBLE</td>\n",
       "      <td>NOT_AVALIBLE</td>\n",
       "      <td>QUEENS</td>\n",
       "      <td>11378.0</td>\n",
       "      <td>40.725560</td>\n",
       "      <td>-73.89849</td>\n",
       "      <td>LONG ISLAND EXPRESSWAY</td>\n",
       "      <td>4230635</td>\n",
       "      <td>2</td>\n",
       "      <td>2019</td>\n",
       "      <td>10</td>\n",
       "      <td>26</td>\n",
       "      <td>16</td>\n",
       "    </tr>\n",
       "    <tr>\n",
       "      <th>1</th>\n",
       "      <td>15</td>\n",
       "      <td>OCCUPANT</td>\n",
       "      <td>NOT INJURED</td>\n",
       "      <td>41.0</td>\n",
       "      <td>NOT EJECTED</td>\n",
       "      <td>DRIVER</td>\n",
       "      <td>LAP BELT</td>\n",
       "      <td>DRIVER</td>\n",
       "      <td>M</td>\n",
       "      <td>UNSPECIFIED</td>\n",
       "      <td>UNSPECIFIED</td>\n",
       "      <td>UNSPECIFIED</td>\n",
       "      <td>UNSPECIFIED</td>\n",
       "      <td>M</td>\n",
       "      <td>UNSPECIFIED</td>\n",
       "      <td>NOT_AVALIBLE</td>\n",
       "      <td>NOT_AVALIBLE</td>\n",
       "      <td>NOT_AVALIBLE</td>\n",
       "      <td>NOT_AVALIBLE</td>\n",
       "      <td>NOT_AVALIBLE</td>\n",
       "      <td>MANHATTAN</td>\n",
       "      <td>10025.0</td>\n",
       "      <td>40.793377</td>\n",
       "      <td>-73.97086</td>\n",
       "      <td>AMSTERDAM AVENUE</td>\n",
       "      <td>4230398</td>\n",
       "      <td>2</td>\n",
       "      <td>2019</td>\n",
       "      <td>10</td>\n",
       "      <td>26</td>\n",
       "      <td>20</td>\n",
       "    </tr>\n",
       "    <tr>\n",
       "      <th>2</th>\n",
       "      <td>17</td>\n",
       "      <td>OCCUPANT</td>\n",
       "      <td>NOT INJURED</td>\n",
       "      <td>35.0</td>\n",
       "      <td>NOT EJECTED</td>\n",
       "      <td>DRIVER</td>\n",
       "      <td>LAP BELT</td>\n",
       "      <td>DRIVER</td>\n",
       "      <td>M</td>\n",
       "      <td>UNSPECIFIED</td>\n",
       "      <td>UNSPECIFIED</td>\n",
       "      <td>UNSPECIFIED</td>\n",
       "      <td>UNSPECIFIED</td>\n",
       "      <td>M</td>\n",
       "      <td>UNSPECIFIED</td>\n",
       "      <td>NOT_AVALIBLE</td>\n",
       "      <td>NOT_AVALIBLE</td>\n",
       "      <td>NOT_AVALIBLE</td>\n",
       "      <td>NOT_AVALIBLE</td>\n",
       "      <td>NOT_AVALIBLE</td>\n",
       "      <td>MANHATTAN</td>\n",
       "      <td>10025.0</td>\n",
       "      <td>40.793377</td>\n",
       "      <td>-73.97086</td>\n",
       "      <td>AMSTERDAM AVENUE</td>\n",
       "      <td>4230398</td>\n",
       "      <td>2</td>\n",
       "      <td>2019</td>\n",
       "      <td>10</td>\n",
       "      <td>26</td>\n",
       "      <td>20</td>\n",
       "    </tr>\n",
       "    <tr>\n",
       "      <th>3</th>\n",
       "      <td>19</td>\n",
       "      <td>OCCUPANT</td>\n",
       "      <td>NOT INJURED</td>\n",
       "      <td>17.0</td>\n",
       "      <td>NOT EJECTED</td>\n",
       "      <td>RIGHT REAR PASSENGER OR MOTORCYCLE SIDECAR PAS...</td>\n",
       "      <td>LAP BELT &amp; HARNESS</td>\n",
       "      <td>PASSENGER</td>\n",
       "      <td>F</td>\n",
       "      <td>UNSPECIFIED</td>\n",
       "      <td>UNSPECIFIED</td>\n",
       "      <td>UNSPECIFIED</td>\n",
       "      <td>UNSPECIFIED</td>\n",
       "      <td>F</td>\n",
       "      <td>UNSPECIFIED</td>\n",
       "      <td>NOT_AVALIBLE</td>\n",
       "      <td>NOT_AVALIBLE</td>\n",
       "      <td>NOT_AVALIBLE</td>\n",
       "      <td>NOT_AVALIBLE</td>\n",
       "      <td>NOT_AVALIBLE</td>\n",
       "      <td>BROOKLYN</td>\n",
       "      <td>11230.0</td>\n",
       "      <td>40.611960</td>\n",
       "      <td>-73.96816</td>\n",
       "      <td>AVENUE O</td>\n",
       "      <td>4230632</td>\n",
       "      <td>2</td>\n",
       "      <td>2019</td>\n",
       "      <td>10</td>\n",
       "      <td>25</td>\n",
       "      <td>1</td>\n",
       "    </tr>\n",
       "    <tr>\n",
       "      <th>4</th>\n",
       "      <td>21</td>\n",
       "      <td>OCCUPANT</td>\n",
       "      <td>INJURED</td>\n",
       "      <td>26.0</td>\n",
       "      <td>NOT EJECTED</td>\n",
       "      <td>FRONT PASSENGER, IF TWO OR MORE PERSONS, INCLU...</td>\n",
       "      <td>LAP BELT &amp; HARNESS</td>\n",
       "      <td>PASSENGER</td>\n",
       "      <td>F</td>\n",
       "      <td>UNSPECIFIED</td>\n",
       "      <td>UNSPECIFIED</td>\n",
       "      <td>UNSPECIFIED</td>\n",
       "      <td>UNSPECIFIED</td>\n",
       "      <td>F</td>\n",
       "      <td>UNSPECIFIED</td>\n",
       "      <td>NOT_AVALIBLE</td>\n",
       "      <td>NOT_AVALIBLE</td>\n",
       "      <td>NOT_AVALIBLE</td>\n",
       "      <td>NOT_AVALIBLE</td>\n",
       "      <td>NOT_AVALIBLE</td>\n",
       "      <td>BROOKLYN</td>\n",
       "      <td>11230.0</td>\n",
       "      <td>40.611960</td>\n",
       "      <td>-73.96816</td>\n",
       "      <td>AVENUE O</td>\n",
       "      <td>4230632</td>\n",
       "      <td>2</td>\n",
       "      <td>2019</td>\n",
       "      <td>10</td>\n",
       "      <td>25</td>\n",
       "      <td>1</td>\n",
       "    </tr>\n",
       "  </tbody>\n",
       "</table>\n",
       "</div>"
      ],
      "text/plain": [
       "   Unnamed: 0 person_type person_injury  person_age     ejection  \\\n",
       "0           2    OCCUPANT   NOT INJURED        52.0  NOT EJECTED   \n",
       "1          15    OCCUPANT   NOT INJURED        41.0  NOT EJECTED   \n",
       "2          17    OCCUPANT   NOT INJURED        35.0  NOT EJECTED   \n",
       "3          19    OCCUPANT   NOT INJURED        17.0  NOT EJECTED   \n",
       "4          21    OCCUPANT       INJURED        26.0  NOT EJECTED   \n",
       "\n",
       "                                 position_in_vehicle    safety_equipment  \\\n",
       "0                                             DRIVER  LAP BELT & HARNESS   \n",
       "1                                             DRIVER            LAP BELT   \n",
       "2                                             DRIVER            LAP BELT   \n",
       "3  RIGHT REAR PASSENGER OR MOTORCYCLE SIDECAR PAS...  LAP BELT & HARNESS   \n",
       "4  FRONT PASSENGER, IF TWO OR MORE PERSONS, INCLU...  LAP BELT & HARNESS   \n",
       "\n",
       "    ped_role person_sex vehicle_type vehicle_make vehicle_year  \\\n",
       "0     DRIVER          M  UNSPECIFIED  UNSPECIFIED  UNSPECIFIED   \n",
       "1     DRIVER          M  UNSPECIFIED  UNSPECIFIED  UNSPECIFIED   \n",
       "2     DRIVER          M  UNSPECIFIED  UNSPECIFIED  UNSPECIFIED   \n",
       "3  PASSENGER          F  UNSPECIFIED  UNSPECIFIED  UNSPECIFIED   \n",
       "4  PASSENGER          F  UNSPECIFIED  UNSPECIFIED  UNSPECIFIED   \n",
       "\n",
       "  vehicle_occupants driver_sex driver_license_status     pre_crash  \\\n",
       "0       UNSPECIFIED          M           UNSPECIFIED  NOT_AVALIBLE   \n",
       "1       UNSPECIFIED          M           UNSPECIFIED  NOT_AVALIBLE   \n",
       "2       UNSPECIFIED          M           UNSPECIFIED  NOT_AVALIBLE   \n",
       "3       UNSPECIFIED          F           UNSPECIFIED  NOT_AVALIBLE   \n",
       "4       UNSPECIFIED          F           UNSPECIFIED  NOT_AVALIBLE   \n",
       "\n",
       "  point_of_impact vehicle_damage contributing_factor_1 contributing_factor_2  \\\n",
       "0    NOT_AVALIBLE   NOT_AVALIBLE          NOT_AVALIBLE          NOT_AVALIBLE   \n",
       "1    NOT_AVALIBLE   NOT_AVALIBLE          NOT_AVALIBLE          NOT_AVALIBLE   \n",
       "2    NOT_AVALIBLE   NOT_AVALIBLE          NOT_AVALIBLE          NOT_AVALIBLE   \n",
       "3    NOT_AVALIBLE   NOT_AVALIBLE          NOT_AVALIBLE          NOT_AVALIBLE   \n",
       "4    NOT_AVALIBLE   NOT_AVALIBLE          NOT_AVALIBLE          NOT_AVALIBLE   \n",
       "\n",
       "     borough  zip_code   latitude  longitude  \\\n",
       "0     QUEENS   11378.0  40.725560  -73.89849   \n",
       "1  MANHATTAN   10025.0  40.793377  -73.97086   \n",
       "2  MANHATTAN   10025.0  40.793377  -73.97086   \n",
       "3   BROOKLYN   11230.0  40.611960  -73.96816   \n",
       "4   BROOKLYN   11230.0  40.611960  -73.96816   \n",
       "\n",
       "                     on_street_name  collision_id  \\\n",
       "0  LONG ISLAND EXPRESSWAY                 4230635   \n",
       "1  AMSTERDAM AVENUE                       4230398   \n",
       "2  AMSTERDAM AVENUE                       4230398   \n",
       "3  AVENUE O                               4230632   \n",
       "4  AVENUE O                               4230632   \n",
       "\n",
       "   number_of_contributing_vehicles  crash_date_year  crash_date_month  \\\n",
       "0                                2             2019                10   \n",
       "1                                2             2019                10   \n",
       "2                                2             2019                10   \n",
       "3                                2             2019                10   \n",
       "4                                2             2019                10   \n",
       "\n",
       "   crash_date_day  hour  \n",
       "0              26    16  \n",
       "1              26    20  \n",
       "2              26    20  \n",
       "3              25     1  \n",
       "4              25     1  "
      ]
     },
     "execution_count": 19,
     "metadata": {},
     "output_type": "execute_result"
    }
   ],
   "source": [
    "df.head()"
   ]
  },
  {
   "cell_type": "code",
   "execution_count": 68,
   "id": "f907a63c",
   "metadata": {
    "ExecuteTime": {
     "end_time": "2021-11-19T08:11:29.482537Z",
     "start_time": "2021-11-19T08:11:29.446642Z"
    }
   },
   "outputs": [
    {
     "data": {
      "text/plain": [
       "NOT INJURED    135069\n",
       "INJURED         24012\n",
       "Name: person_injury, dtype: int64"
      ]
     },
     "execution_count": 68,
     "metadata": {},
     "output_type": "execute_result"
    }
   ],
   "source": [
    "df['person_injury'].value_counts()"
   ]
  },
  {
   "cell_type": "code",
   "execution_count": 78,
   "id": "e55f992e",
   "metadata": {
    "ExecuteTime": {
     "end_time": "2021-11-19T08:36:09.587489Z",
     "start_time": "2021-11-19T08:36:07.023402Z"
    }
   },
   "outputs": [],
   "source": [
    "df1=df.drop(['collision_id','Unnamed: 0'], axis=1)"
   ]
  },
  {
   "cell_type": "code",
   "execution_count": 79,
   "id": "4efc9343",
   "metadata": {
    "ExecuteTime": {
     "end_time": "2021-11-19T08:36:13.502579Z",
     "start_time": "2021-11-19T08:36:13.492568Z"
    }
   },
   "outputs": [],
   "source": [
    "data = df1"
   ]
  },
  {
   "cell_type": "code",
   "execution_count": 80,
   "id": "7acfa17f",
   "metadata": {
    "ExecuteTime": {
     "end_time": "2021-11-19T08:36:17.291710Z",
     "start_time": "2021-11-19T08:36:16.563578Z"
    }
   },
   "outputs": [],
   "source": [
    "from sklearn.preprocessing import LabelEncoder\n",
    "gle = LabelEncoder()\n",
    "data=data.apply(LabelEncoder().fit_transform)"
   ]
  },
  {
   "cell_type": "code",
   "execution_count": 81,
   "id": "464a729c",
   "metadata": {
    "ExecuteTime": {
     "end_time": "2021-11-19T08:36:18.581706Z",
     "start_time": "2021-11-19T08:36:18.557771Z"
    },
    "scrolled": true
   },
   "outputs": [
    {
     "data": {
      "text/html": [
       "<div>\n",
       "<style scoped>\n",
       "    .dataframe tbody tr th:only-of-type {\n",
       "        vertical-align: middle;\n",
       "    }\n",
       "\n",
       "    .dataframe tbody tr th {\n",
       "        vertical-align: top;\n",
       "    }\n",
       "\n",
       "    .dataframe thead th {\n",
       "        text-align: right;\n",
       "    }\n",
       "</style>\n",
       "<table border=\"1\" class=\"dataframe\">\n",
       "  <thead>\n",
       "    <tr style=\"text-align: right;\">\n",
       "      <th></th>\n",
       "      <th>person_type</th>\n",
       "      <th>person_injury</th>\n",
       "      <th>person_age</th>\n",
       "      <th>ejection</th>\n",
       "      <th>position_in_vehicle</th>\n",
       "      <th>safety_equipment</th>\n",
       "      <th>ped_role</th>\n",
       "      <th>person_sex</th>\n",
       "      <th>vehicle_type</th>\n",
       "      <th>vehicle_make</th>\n",
       "      <th>vehicle_year</th>\n",
       "      <th>vehicle_occupants</th>\n",
       "      <th>driver_sex</th>\n",
       "      <th>driver_license_status</th>\n",
       "      <th>pre_crash</th>\n",
       "      <th>point_of_impact</th>\n",
       "      <th>vehicle_damage</th>\n",
       "      <th>contributing_factor_1</th>\n",
       "      <th>contributing_factor_2</th>\n",
       "      <th>borough</th>\n",
       "      <th>zip_code</th>\n",
       "      <th>latitude</th>\n",
       "      <th>longitude</th>\n",
       "      <th>on_street_name</th>\n",
       "      <th>number_of_contributing_vehicles</th>\n",
       "      <th>crash_date_year</th>\n",
       "      <th>crash_date_month</th>\n",
       "      <th>crash_date_day</th>\n",
       "      <th>hour</th>\n",
       "    </tr>\n",
       "  </thead>\n",
       "  <tbody>\n",
       "    <tr>\n",
       "      <th>0</th>\n",
       "      <td>1</td>\n",
       "      <td>1</td>\n",
       "      <td>52</td>\n",
       "      <td>2</td>\n",
       "      <td>2</td>\n",
       "      <td>11</td>\n",
       "      <td>0</td>\n",
       "      <td>1</td>\n",
       "      <td>143</td>\n",
       "      <td>640</td>\n",
       "      <td>77</td>\n",
       "      <td>42</td>\n",
       "      <td>1</td>\n",
       "      <td>3</td>\n",
       "      <td>11</td>\n",
       "      <td>9</td>\n",
       "      <td>9</td>\n",
       "      <td>24</td>\n",
       "      <td>24</td>\n",
       "      <td>3</td>\n",
       "      <td>188</td>\n",
       "      <td>10949</td>\n",
       "      <td>10055</td>\n",
       "      <td>2959</td>\n",
       "      <td>2</td>\n",
       "      <td>3</td>\n",
       "      <td>9</td>\n",
       "      <td>25</td>\n",
       "      <td>16</td>\n",
       "    </tr>\n",
       "    <tr>\n",
       "      <th>1</th>\n",
       "      <td>1</td>\n",
       "      <td>1</td>\n",
       "      <td>41</td>\n",
       "      <td>2</td>\n",
       "      <td>2</td>\n",
       "      <td>10</td>\n",
       "      <td>0</td>\n",
       "      <td>1</td>\n",
       "      <td>143</td>\n",
       "      <td>640</td>\n",
       "      <td>77</td>\n",
       "      <td>42</td>\n",
       "      <td>1</td>\n",
       "      <td>3</td>\n",
       "      <td>11</td>\n",
       "      <td>9</td>\n",
       "      <td>9</td>\n",
       "      <td>24</td>\n",
       "      <td>24</td>\n",
       "      <td>2</td>\n",
       "      <td>26</td>\n",
       "      <td>15714</td>\n",
       "      <td>4594</td>\n",
       "      <td>893</td>\n",
       "      <td>2</td>\n",
       "      <td>3</td>\n",
       "      <td>9</td>\n",
       "      <td>25</td>\n",
       "      <td>20</td>\n",
       "    </tr>\n",
       "    <tr>\n",
       "      <th>2</th>\n",
       "      <td>1</td>\n",
       "      <td>1</td>\n",
       "      <td>35</td>\n",
       "      <td>2</td>\n",
       "      <td>2</td>\n",
       "      <td>10</td>\n",
       "      <td>0</td>\n",
       "      <td>1</td>\n",
       "      <td>143</td>\n",
       "      <td>640</td>\n",
       "      <td>77</td>\n",
       "      <td>42</td>\n",
       "      <td>1</td>\n",
       "      <td>3</td>\n",
       "      <td>11</td>\n",
       "      <td>9</td>\n",
       "      <td>9</td>\n",
       "      <td>24</td>\n",
       "      <td>24</td>\n",
       "      <td>2</td>\n",
       "      <td>26</td>\n",
       "      <td>15714</td>\n",
       "      <td>4594</td>\n",
       "      <td>893</td>\n",
       "      <td>2</td>\n",
       "      <td>3</td>\n",
       "      <td>9</td>\n",
       "      <td>25</td>\n",
       "      <td>20</td>\n",
       "    </tr>\n",
       "    <tr>\n",
       "      <th>3</th>\n",
       "      <td>1</td>\n",
       "      <td>1</td>\n",
       "      <td>17</td>\n",
       "      <td>2</td>\n",
       "      <td>9</td>\n",
       "      <td>11</td>\n",
       "      <td>3</td>\n",
       "      <td>0</td>\n",
       "      <td>143</td>\n",
       "      <td>640</td>\n",
       "      <td>77</td>\n",
       "      <td>42</td>\n",
       "      <td>0</td>\n",
       "      <td>3</td>\n",
       "      <td>11</td>\n",
       "      <td>9</td>\n",
       "      <td>9</td>\n",
       "      <td>24</td>\n",
       "      <td>24</td>\n",
       "      <td>1</td>\n",
       "      <td>152</td>\n",
       "      <td>2186</td>\n",
       "      <td>4742</td>\n",
       "      <td>977</td>\n",
       "      <td>2</td>\n",
       "      <td>3</td>\n",
       "      <td>9</td>\n",
       "      <td>24</td>\n",
       "      <td>1</td>\n",
       "    </tr>\n",
       "    <tr>\n",
       "      <th>4</th>\n",
       "      <td>1</td>\n",
       "      <td>0</td>\n",
       "      <td>26</td>\n",
       "      <td>2</td>\n",
       "      <td>3</td>\n",
       "      <td>11</td>\n",
       "      <td>3</td>\n",
       "      <td>0</td>\n",
       "      <td>143</td>\n",
       "      <td>640</td>\n",
       "      <td>77</td>\n",
       "      <td>42</td>\n",
       "      <td>0</td>\n",
       "      <td>3</td>\n",
       "      <td>11</td>\n",
       "      <td>9</td>\n",
       "      <td>9</td>\n",
       "      <td>24</td>\n",
       "      <td>24</td>\n",
       "      <td>1</td>\n",
       "      <td>152</td>\n",
       "      <td>2186</td>\n",
       "      <td>4742</td>\n",
       "      <td>977</td>\n",
       "      <td>2</td>\n",
       "      <td>3</td>\n",
       "      <td>9</td>\n",
       "      <td>24</td>\n",
       "      <td>1</td>\n",
       "    </tr>\n",
       "  </tbody>\n",
       "</table>\n",
       "</div>"
      ],
      "text/plain": [
       "   person_type  person_injury  person_age  ejection  position_in_vehicle  \\\n",
       "0            1              1          52         2                    2   \n",
       "1            1              1          41         2                    2   \n",
       "2            1              1          35         2                    2   \n",
       "3            1              1          17         2                    9   \n",
       "4            1              0          26         2                    3   \n",
       "\n",
       "   safety_equipment  ped_role  person_sex  vehicle_type  vehicle_make  \\\n",
       "0                11         0           1           143           640   \n",
       "1                10         0           1           143           640   \n",
       "2                10         0           1           143           640   \n",
       "3                11         3           0           143           640   \n",
       "4                11         3           0           143           640   \n",
       "\n",
       "   vehicle_year  vehicle_occupants  driver_sex  driver_license_status  \\\n",
       "0            77                 42           1                      3   \n",
       "1            77                 42           1                      3   \n",
       "2            77                 42           1                      3   \n",
       "3            77                 42           0                      3   \n",
       "4            77                 42           0                      3   \n",
       "\n",
       "   pre_crash  point_of_impact  vehicle_damage  contributing_factor_1  \\\n",
       "0         11                9               9                     24   \n",
       "1         11                9               9                     24   \n",
       "2         11                9               9                     24   \n",
       "3         11                9               9                     24   \n",
       "4         11                9               9                     24   \n",
       "\n",
       "   contributing_factor_2  borough  zip_code  latitude  longitude  \\\n",
       "0                     24        3       188     10949      10055   \n",
       "1                     24        2        26     15714       4594   \n",
       "2                     24        2        26     15714       4594   \n",
       "3                     24        1       152      2186       4742   \n",
       "4                     24        1       152      2186       4742   \n",
       "\n",
       "   on_street_name  number_of_contributing_vehicles  crash_date_year  \\\n",
       "0            2959                                2                3   \n",
       "1             893                                2                3   \n",
       "2             893                                2                3   \n",
       "3             977                                2                3   \n",
       "4             977                                2                3   \n",
       "\n",
       "   crash_date_month  crash_date_day  hour  \n",
       "0                 9              25    16  \n",
       "1                 9              25    20  \n",
       "2                 9              25    20  \n",
       "3                 9              24     1  \n",
       "4                 9              24     1  "
      ]
     },
     "execution_count": 81,
     "metadata": {},
     "output_type": "execute_result"
    }
   ],
   "source": [
    "data.head()"
   ]
  },
  {
   "cell_type": "code",
   "execution_count": 82,
   "id": "5ad918e6",
   "metadata": {
    "ExecuteTime": {
     "end_time": "2021-11-19T08:36:21.915427Z",
     "start_time": "2021-11-19T08:36:21.906488Z"
    }
   },
   "outputs": [
    {
     "data": {
      "text/plain": [
       "(159081, 29)"
      ]
     },
     "execution_count": 82,
     "metadata": {},
     "output_type": "execute_result"
    }
   ],
   "source": [
    "data.shape"
   ]
  },
  {
   "cell_type": "code",
   "execution_count": 89,
   "id": "69e34522",
   "metadata": {
    "ExecuteTime": {
     "end_time": "2021-11-19T08:37:53.924524Z",
     "start_time": "2021-11-19T08:37:53.910585Z"
    }
   },
   "outputs": [],
   "source": [
    "X=data[['person_age', 'person_type','ejection', 'position_in_vehicle', 'safety_equipment', 'ped_role', 'person_sex',\n",
    "        'vehicle_type', 'vehicle_make', 'vehicle_year', 'driver_sex', 'driver_license_status', 'pre_crash',\n",
    "        'point_of_impact', 'vehicle_damage', 'contributing_factor_1', 'contributing_factor_2',\n",
    "       'borough', 'zip_code', 'latitude', 'longitude', 'on_street_name',\n",
    "       'number_of_contributing_vehicles', 'crash_date_year',\n",
    "       'crash_date_month', 'crash_date_day', 'hour']]  # Features\n",
    "\n",
    "y=data['person_injury']  # Labels"
   ]
  },
  {
   "cell_type": "code",
   "execution_count": 90,
   "id": "6cfd3d63",
   "metadata": {
    "ExecuteTime": {
     "end_time": "2021-11-19T08:37:56.785784Z",
     "start_time": "2021-11-19T08:37:56.740863Z"
    }
   },
   "outputs": [],
   "source": [
    "X_train, X_test, y_train, y_test = train_test_split(X, y, test_size=0.25) # 75% training and 25% test"
   ]
  },
  {
   "cell_type": "code",
   "execution_count": 91,
   "id": "708e7703",
   "metadata": {
    "ExecuteTime": {
     "end_time": "2021-11-19T08:38:03.324118Z",
     "start_time": "2021-11-19T08:38:03.316717Z"
    }
   },
   "outputs": [],
   "source": [
    "#Create a Gaussian Classifier\n",
    "clf=RandomForestClassifier(n_estimators=100)"
   ]
  },
  {
   "cell_type": "code",
   "execution_count": 92,
   "id": "75288476",
   "metadata": {
    "ExecuteTime": {
     "end_time": "2021-11-19T08:38:39.838632Z",
     "start_time": "2021-11-19T08:38:12.409587Z"
    }
   },
   "outputs": [],
   "source": [
    "#Train the model using the training sets y_pred=clf.predict(X_test)\n",
    "clf.fit(X_train,y_train)\n",
    "y_pred=clf.predict(X_test)"
   ]
  },
  {
   "cell_type": "code",
   "execution_count": 93,
   "id": "cd66dbf9",
   "metadata": {
    "ExecuteTime": {
     "end_time": "2021-11-19T08:40:03.629897Z",
     "start_time": "2021-11-19T08:40:03.616965Z"
    }
   },
   "outputs": [
    {
     "name": "stdout",
     "output_type": "stream",
     "text": [
      "Accuracy: 0.8915290035452968\n"
     ]
    }
   ],
   "source": [
    "#Import scikit-learn metrics module for accuracy calculation\n",
    "from sklearn import metrics\n",
    "# Model Accuracy, how often is the classifier correct?\n",
    "print(\"Accuracy:\",metrics.accuracy_score(y_test, y_pred))"
   ]
  },
  {
   "cell_type": "code",
   "execution_count": 94,
   "id": "42f84aaa",
   "metadata": {
    "ExecuteTime": {
     "end_time": "2021-11-19T08:40:09.132673Z",
     "start_time": "2021-11-19T08:40:09.084296Z"
    }
   },
   "outputs": [],
   "source": [
    "# Extract feature importances\n",
    "fi = pd.DataFrame({'feature': list(X_train.columns),\n",
    "                   'importance': clf.feature_importances_}).\\\n",
    "                    sort_values('importance', ascending = False)"
   ]
  },
  {
   "cell_type": "code",
   "execution_count": 95,
   "id": "ba5d3e25",
   "metadata": {
    "ExecuteTime": {
     "end_time": "2021-11-19T08:40:12.974995Z",
     "start_time": "2021-11-19T08:40:12.953052Z"
    }
   },
   "outputs": [
    {
     "data": {
      "text/html": [
       "<div>\n",
       "<style scoped>\n",
       "    .dataframe tbody tr th:only-of-type {\n",
       "        vertical-align: middle;\n",
       "    }\n",
       "\n",
       "    .dataframe tbody tr th {\n",
       "        vertical-align: top;\n",
       "    }\n",
       "\n",
       "    .dataframe thead th {\n",
       "        text-align: right;\n",
       "    }\n",
       "</style>\n",
       "<table border=\"1\" class=\"dataframe\">\n",
       "  <thead>\n",
       "    <tr style=\"text-align: right;\">\n",
       "      <th></th>\n",
       "      <th>feature</th>\n",
       "      <th>importance</th>\n",
       "    </tr>\n",
       "  </thead>\n",
       "  <tbody>\n",
       "    <tr>\n",
       "      <th>0</th>\n",
       "      <td>person_age</td>\n",
       "      <td>0.083030</td>\n",
       "    </tr>\n",
       "    <tr>\n",
       "      <th>20</th>\n",
       "      <td>longitude</td>\n",
       "      <td>0.080763</td>\n",
       "    </tr>\n",
       "    <tr>\n",
       "      <th>19</th>\n",
       "      <td>latitude</td>\n",
       "      <td>0.080014</td>\n",
       "    </tr>\n",
       "    <tr>\n",
       "      <th>21</th>\n",
       "      <td>on_street_name</td>\n",
       "      <td>0.073348</td>\n",
       "    </tr>\n",
       "    <tr>\n",
       "      <th>1</th>\n",
       "      <td>person_type</td>\n",
       "      <td>0.062998</td>\n",
       "    </tr>\n",
       "    <tr>\n",
       "      <th>18</th>\n",
       "      <td>zip_code</td>\n",
       "      <td>0.061957</td>\n",
       "    </tr>\n",
       "    <tr>\n",
       "      <th>25</th>\n",
       "      <td>crash_date_day</td>\n",
       "      <td>0.061596</td>\n",
       "    </tr>\n",
       "    <tr>\n",
       "      <th>4</th>\n",
       "      <td>safety_equipment</td>\n",
       "      <td>0.061575</td>\n",
       "    </tr>\n",
       "    <tr>\n",
       "      <th>26</th>\n",
       "      <td>hour</td>\n",
       "      <td>0.059245</td>\n",
       "    </tr>\n",
       "    <tr>\n",
       "      <th>24</th>\n",
       "      <td>crash_date_month</td>\n",
       "      <td>0.047811</td>\n",
       "    </tr>\n",
       "    <tr>\n",
       "      <th>5</th>\n",
       "      <td>ped_role</td>\n",
       "      <td>0.046496</td>\n",
       "    </tr>\n",
       "    <tr>\n",
       "      <th>2</th>\n",
       "      <td>ejection</td>\n",
       "      <td>0.037522</td>\n",
       "    </tr>\n",
       "    <tr>\n",
       "      <th>23</th>\n",
       "      <td>crash_date_year</td>\n",
       "      <td>0.030593</td>\n",
       "    </tr>\n",
       "    <tr>\n",
       "      <th>3</th>\n",
       "      <td>position_in_vehicle</td>\n",
       "      <td>0.029616</td>\n",
       "    </tr>\n",
       "    <tr>\n",
       "      <th>22</th>\n",
       "      <td>number_of_contributing_vehicles</td>\n",
       "      <td>0.025238</td>\n",
       "    </tr>\n",
       "    <tr>\n",
       "      <th>9</th>\n",
       "      <td>vehicle_year</td>\n",
       "      <td>0.024999</td>\n",
       "    </tr>\n",
       "    <tr>\n",
       "      <th>8</th>\n",
       "      <td>vehicle_make</td>\n",
       "      <td>0.023856</td>\n",
       "    </tr>\n",
       "    <tr>\n",
       "      <th>14</th>\n",
       "      <td>vehicle_damage</td>\n",
       "      <td>0.016673</td>\n",
       "    </tr>\n",
       "    <tr>\n",
       "      <th>7</th>\n",
       "      <td>vehicle_type</td>\n",
       "      <td>0.015535</td>\n",
       "    </tr>\n",
       "    <tr>\n",
       "      <th>13</th>\n",
       "      <td>point_of_impact</td>\n",
       "      <td>0.015446</td>\n",
       "    </tr>\n",
       "    <tr>\n",
       "      <th>15</th>\n",
       "      <td>contributing_factor_1</td>\n",
       "      <td>0.012492</td>\n",
       "    </tr>\n",
       "    <tr>\n",
       "      <th>12</th>\n",
       "      <td>pre_crash</td>\n",
       "      <td>0.012096</td>\n",
       "    </tr>\n",
       "  </tbody>\n",
       "</table>\n",
       "</div>"
      ],
      "text/plain": [
       "                            feature  importance\n",
       "0                        person_age    0.083030\n",
       "20                        longitude    0.080763\n",
       "19                         latitude    0.080014\n",
       "21                   on_street_name    0.073348\n",
       "1                       person_type    0.062998\n",
       "18                         zip_code    0.061957\n",
       "25                   crash_date_day    0.061596\n",
       "4                  safety_equipment    0.061575\n",
       "26                             hour    0.059245\n",
       "24                 crash_date_month    0.047811\n",
       "5                          ped_role    0.046496\n",
       "2                          ejection    0.037522\n",
       "23                  crash_date_year    0.030593\n",
       "3               position_in_vehicle    0.029616\n",
       "22  number_of_contributing_vehicles    0.025238\n",
       "9                      vehicle_year    0.024999\n",
       "8                      vehicle_make    0.023856\n",
       "14                   vehicle_damage    0.016673\n",
       "7                      vehicle_type    0.015535\n",
       "13                  point_of_impact    0.015446\n",
       "15            contributing_factor_1    0.012492\n",
       "12                        pre_crash    0.012096"
      ]
     },
     "execution_count": 95,
     "metadata": {},
     "output_type": "execute_result"
    }
   ],
   "source": [
    "fi.head(22)"
   ]
  },
  {
   "cell_type": "code",
   "execution_count": 116,
   "id": "5e5736d4",
   "metadata": {
    "ExecuteTime": {
     "end_time": "2021-11-19T08:45:17.935328Z",
     "start_time": "2021-11-19T08:45:17.472552Z"
    },
    "scrolled": true
   },
   "outputs": [
    {
     "data": {
      "image/png": "[encoded data removed]",
      "text/plain": [
       "<Figure size 2304x288 with 1 Axes>"
      ]
     },
     "metadata": {},
     "output_type": "display_data"
    }
   ],
   "source": [
    "# Creating a bar plot\n",
    "sns.barplot(x=fi.feature, y=fi.importance)\n",
    "# Add labels to your\n",
    "#sns.set(rc={\"figure.figsize\":(8, 4)})\n",
    "sns.set(rc={\"figure.figsize\":(32, 8)})\n",
    "\n",
    "plt.xlabel(\"Feature Importance Score\")\n",
    "plt.ylabel(\"Features\")\n",
    "plt.title(\"Visualizing Important Features\")\n",
    "plt.xticks(\n",
    "    rotation=45, horizontalalignment=\"right\", fontweight=\"light\", fontsize=\"x-large\"\n",
    ")\n",
    "plt.show()"
   ]
  },
  {
   "cell_type": "code",
   "execution_count": null,
   "id": "140d3a30",
   "metadata": {},
   "outputs": [],
   "source": []
  },
  {
   "cell_type": "markdown",
   "id": "7323bca7",
   "metadata": {},
   "source": [
    "# Balance the dataset"
   ]
  },
  {
   "cell_type": "code",
   "execution_count": 147,
   "id": "33702698",
   "metadata": {
    "ExecuteTime": {
     "end_time": "2021-11-19T09:50:30.424176Z",
     "start_time": "2021-11-19T09:50:16.089848Z"
    }
   },
   "outputs": [
    {
     "name": "stdout",
     "output_type": "stream",
     "text": [
      "Original dataset shape Counter({1: 101239, 0: 18071})\n",
      "Resampled dataset shape Counter({1: 101239, 0: 101239})\n"
     ]
    }
   ],
   "source": [
    "from collections import Counter\n",
    "from sklearn.datasets import make_classification\n",
    "from imblearn.over_sampling import SMOTE \n",
    "print('Original dataset shape %s' % Counter(y_train))\n",
    "\n",
    "sm = SMOTE(random_state=42)\n",
    "X_res, y_res = sm.fit_resample(X_train, y_train)\n",
    "print('Resampled dataset shape %s' % Counter(y_res))"
   ]
  },
  {
   "cell_type": "code",
   "execution_count": 118,
   "id": "e587df01",
   "metadata": {
    "ExecuteTime": {
     "end_time": "2021-11-19T08:47:51.291769Z",
     "start_time": "2021-11-19T08:47:51.204321Z"
    }
   },
   "outputs": [
    {
     "name": "stdout",
     "output_type": "stream",
     "text": [
      "              precision    recall  f1-score   support\n",
      "\n",
      "           0       0.82      0.35      0.49      5941\n",
      "           1       0.90      0.99      0.94     33830\n",
      "\n",
      "    accuracy                           0.89     39771\n",
      "   macro avg       0.86      0.67      0.72     39771\n",
      "weighted avg       0.88      0.89      0.87     39771\n",
      "\n"
     ]
    }
   ],
   "source": [
    "from sklearn .metrics import classification_report\n",
    "print(classification_report(y_test,y_pred))"
   ]
  },
  {
   "cell_type": "code",
   "execution_count": 157,
   "id": "bf5df275",
   "metadata": {
    "ExecuteTime": {
     "end_time": "2021-11-19T10:10:59.460331Z",
     "start_time": "2021-11-19T10:10:59.404567Z"
    }
   },
   "outputs": [
    {
     "data": {
      "text/plain": [
       "array([[ 2385,  3556],\n",
       "       [ 1511, 32319]], dtype=int64)"
      ]
     },
     "execution_count": 157,
     "metadata": {},
     "output_type": "execute_result"
    }
   ],
   "source": [
    "#Confusion Matrix\n",
    "# from sklearn.metrics import confusion_matrix\n",
    "# confusion_matrix(y_test,y_pred)"
   ]
  },
  {
   "cell_type": "code",
   "execution_count": 121,
   "id": "a09d4893",
   "metadata": {
    "ExecuteTime": {
     "end_time": "2021-11-19T08:48:41.681138Z",
     "start_time": "2021-11-19T08:48:41.666179Z"
    }
   },
   "outputs": [],
   "source": [
    "from sklearn.utils.multiclass import unique_labels\n",
    "unique_labels(y_test)\n",
    "#combine these labels with the confusion metrix\n",
    "def plot(y_true,y_pred):\n",
    "    labels = unique_labels(y_test)\n",
    "    column=[f'Predicted {label}' for label in labels]\n",
    "    indexes=[f'Actual {label}' for label in labels]\n",
    "    table = pd.DataFrame(confusion_matrix(y_true,y_pred), \n",
    "                         columns=column, index=indexes)\n",
    "    \n",
    "    return table"
   ]
  },
  {
   "cell_type": "code",
   "execution_count": 123,
   "id": "4219dd88",
   "metadata": {
    "ExecuteTime": {
     "end_time": "2021-11-19T08:48:56.214436Z",
     "start_time": "2021-11-19T08:48:56.162729Z"
    }
   },
   "outputs": [
    {
     "data": {
      "text/html": [
       "<div>\n",
       "<style scoped>\n",
       "    .dataframe tbody tr th:only-of-type {\n",
       "        vertical-align: middle;\n",
       "    }\n",
       "\n",
       "    .dataframe tbody tr th {\n",
       "        vertical-align: top;\n",
       "    }\n",
       "\n",
       "    .dataframe thead th {\n",
       "        text-align: right;\n",
       "    }\n",
       "</style>\n",
       "<table border=\"1\" class=\"dataframe\">\n",
       "  <thead>\n",
       "    <tr style=\"text-align: right;\">\n",
       "      <th></th>\n",
       "      <th>Predicted 0</th>\n",
       "      <th>Predicted 1</th>\n",
       "    </tr>\n",
       "  </thead>\n",
       "  <tbody>\n",
       "    <tr>\n",
       "      <th>Actual 0</th>\n",
       "      <td>2104</td>\n",
       "      <td>3837</td>\n",
       "    </tr>\n",
       "    <tr>\n",
       "      <th>Actual 1</th>\n",
       "      <td>477</td>\n",
       "      <td>33353</td>\n",
       "    </tr>\n",
       "  </tbody>\n",
       "</table>\n",
       "</div>"
      ],
      "text/plain": [
       "          Predicted 0  Predicted 1\n",
       "Actual 0         2104         3837\n",
       "Actual 1          477        33353"
      ]
     },
     "execution_count": 123,
     "metadata": {},
     "output_type": "execute_result"
    }
   ],
   "source": [
    "plot(y_test, y_pred)"
   ]
  },
  {
   "cell_type": "code",
   "execution_count": 143,
   "id": "602edbe4",
   "metadata": {
    "ExecuteTime": {
     "end_time": "2021-11-19T08:51:10.742178Z",
     "start_time": "2021-11-19T08:51:10.731786Z"
    }
   },
   "outputs": [],
   "source": [
    "#same plot as above but in heatmap\n",
    "\n",
    "def plot2(y_true,y_pred):\n",
    "    sns.set(rc={\"figure.figsize\":(8, 4)})\n",
    "    labels = unique_labels(y_test)\n",
    "    column=[f'Predicted {label}' for label in labels]\n",
    "    indexes=[f'Actual {label}' for label in labels]\n",
    "    table = pd.DataFrame(confusion_matrix(y_true,y_pred), \n",
    "                         columns=column, index=indexes)\n",
    "    \n",
    "    return sns.heatmap(table, annot=True, fmt='d', cmap='viridis')"
   ]
  },
  {
   "cell_type": "code",
   "execution_count": 144,
   "id": "292f0cb9",
   "metadata": {
    "ExecuteTime": {
     "end_time": "2021-11-19T08:51:12.025628Z",
     "start_time": "2021-11-19T08:51:11.823798Z"
    },
    "scrolled": true
   },
   "outputs": [
    {
     "data": {
      "text/plain": [
       "<AxesSubplot:>"
      ]
     },
     "execution_count": 144,
     "metadata": {},
     "output_type": "execute_result"
    },
    {
     "data": {
      "image/png": "[encoded data removed]",
      "text/plain": [
       "<Figure size 576x288 with 2 Axes>"
      ]
     },
     "metadata": {},
     "output_type": "display_data"
    }
   ],
   "source": [
    "# plot2(y_test, y_pred)"
   ]
  },
  {
   "cell_type": "code",
   "execution_count": 145,
   "id": "778ca2da",
   "metadata": {
    "ExecuteTime": {
     "end_time": "2021-11-19T09:43:55.768600Z",
     "start_time": "2021-11-19T09:43:55.733707Z"
    },
    "scrolled": false
   },
   "outputs": [
    {
     "data": {
      "text/html": [
       "<div>\n",
       "<style scoped>\n",
       "    .dataframe tbody tr th:only-of-type {\n",
       "        vertical-align: middle;\n",
       "    }\n",
       "\n",
       "    .dataframe tbody tr th {\n",
       "        vertical-align: top;\n",
       "    }\n",
       "\n",
       "    .dataframe thead th {\n",
       "        text-align: right;\n",
       "    }\n",
       "</style>\n",
       "<table border=\"1\" class=\"dataframe\">\n",
       "  <thead>\n",
       "    <tr style=\"text-align: right;\">\n",
       "      <th></th>\n",
       "      <th>person_age</th>\n",
       "      <th>person_type</th>\n",
       "      <th>ejection</th>\n",
       "      <th>position_in_vehicle</th>\n",
       "      <th>safety_equipment</th>\n",
       "      <th>ped_role</th>\n",
       "      <th>person_sex</th>\n",
       "      <th>vehicle_type</th>\n",
       "      <th>vehicle_make</th>\n",
       "      <th>vehicle_year</th>\n",
       "      <th>driver_sex</th>\n",
       "      <th>driver_license_status</th>\n",
       "      <th>pre_crash</th>\n",
       "      <th>point_of_impact</th>\n",
       "      <th>vehicle_damage</th>\n",
       "      <th>contributing_factor_1</th>\n",
       "      <th>contributing_factor_2</th>\n",
       "      <th>borough</th>\n",
       "      <th>zip_code</th>\n",
       "      <th>latitude</th>\n",
       "      <th>longitude</th>\n",
       "      <th>on_street_name</th>\n",
       "      <th>number_of_contributing_vehicles</th>\n",
       "      <th>crash_date_year</th>\n",
       "      <th>crash_date_month</th>\n",
       "      <th>crash_date_day</th>\n",
       "      <th>hour</th>\n",
       "    </tr>\n",
       "  </thead>\n",
       "  <tbody>\n",
       "    <tr>\n",
       "      <th>0</th>\n",
       "      <td>42</td>\n",
       "      <td>1</td>\n",
       "      <td>2</td>\n",
       "      <td>2</td>\n",
       "      <td>11</td>\n",
       "      <td>0</td>\n",
       "      <td>1</td>\n",
       "      <td>110</td>\n",
       "      <td>609</td>\n",
       "      <td>48</td>\n",
       "      <td>1</td>\n",
       "      <td>0</td>\n",
       "      <td>4</td>\n",
       "      <td>13</td>\n",
       "      <td>13</td>\n",
       "      <td>9</td>\n",
       "      <td>50</td>\n",
       "      <td>0</td>\n",
       "      <td>96</td>\n",
       "      <td>18482</td>\n",
       "      <td>11880</td>\n",
       "      <td>1314</td>\n",
       "      <td>2</td>\n",
       "      <td>2</td>\n",
       "      <td>5</td>\n",
       "      <td>27</td>\n",
       "      <td>10</td>\n",
       "    </tr>\n",
       "    <tr>\n",
       "      <th>1</th>\n",
       "      <td>25</td>\n",
       "      <td>1</td>\n",
       "      <td>2</td>\n",
       "      <td>5</td>\n",
       "      <td>10</td>\n",
       "      <td>3</td>\n",
       "      <td>1</td>\n",
       "      <td>117</td>\n",
       "      <td>169</td>\n",
       "      <td>39</td>\n",
       "      <td>1</td>\n",
       "      <td>0</td>\n",
       "      <td>5</td>\n",
       "      <td>12</td>\n",
       "      <td>12</td>\n",
       "      <td>15</td>\n",
       "      <td>50</td>\n",
       "      <td>0</td>\n",
       "      <td>101</td>\n",
       "      <td>19370</td>\n",
       "      <td>11286</td>\n",
       "      <td>1007</td>\n",
       "      <td>2</td>\n",
       "      <td>0</td>\n",
       "      <td>11</td>\n",
       "      <td>2</td>\n",
       "      <td>23</td>\n",
       "    </tr>\n",
       "    <tr>\n",
       "      <th>2</th>\n",
       "      <td>0</td>\n",
       "      <td>1</td>\n",
       "      <td>2</td>\n",
       "      <td>3</td>\n",
       "      <td>11</td>\n",
       "      <td>3</td>\n",
       "      <td>0</td>\n",
       "      <td>110</td>\n",
       "      <td>387</td>\n",
       "      <td>38</td>\n",
       "      <td>0</td>\n",
       "      <td>0</td>\n",
       "      <td>1</td>\n",
       "      <td>14</td>\n",
       "      <td>14</td>\n",
       "      <td>5</td>\n",
       "      <td>50</td>\n",
       "      <td>1</td>\n",
       "      <td>156</td>\n",
       "      <td>2522</td>\n",
       "      <td>7202</td>\n",
       "      <td>2820</td>\n",
       "      <td>2</td>\n",
       "      <td>0</td>\n",
       "      <td>7</td>\n",
       "      <td>17</td>\n",
       "      <td>14</td>\n",
       "    </tr>\n",
       "    <tr>\n",
       "      <th>3</th>\n",
       "      <td>24</td>\n",
       "      <td>1</td>\n",
       "      <td>2</td>\n",
       "      <td>2</td>\n",
       "      <td>11</td>\n",
       "      <td>0</td>\n",
       "      <td>1</td>\n",
       "      <td>117</td>\n",
       "      <td>398</td>\n",
       "      <td>33</td>\n",
       "      <td>1</td>\n",
       "      <td>0</td>\n",
       "      <td>4</td>\n",
       "      <td>13</td>\n",
       "      <td>13</td>\n",
       "      <td>50</td>\n",
       "      <td>50</td>\n",
       "      <td>2</td>\n",
       "      <td>12</td>\n",
       "      <td>12277</td>\n",
       "      <td>4496</td>\n",
       "      <td>2278</td>\n",
       "      <td>2</td>\n",
       "      <td>1</td>\n",
       "      <td>2</td>\n",
       "      <td>10</td>\n",
       "      <td>22</td>\n",
       "    </tr>\n",
       "    <tr>\n",
       "      <th>4</th>\n",
       "      <td>57</td>\n",
       "      <td>1</td>\n",
       "      <td>2</td>\n",
       "      <td>9</td>\n",
       "      <td>16</td>\n",
       "      <td>3</td>\n",
       "      <td>0</td>\n",
       "      <td>117</td>\n",
       "      <td>80</td>\n",
       "      <td>49</td>\n",
       "      <td>1</td>\n",
       "      <td>0</td>\n",
       "      <td>5</td>\n",
       "      <td>3</td>\n",
       "      <td>3</td>\n",
       "      <td>15</td>\n",
       "      <td>50</td>\n",
       "      <td>0</td>\n",
       "      <td>92</td>\n",
       "      <td>18872</td>\n",
       "      <td>10547</td>\n",
       "      <td>4275</td>\n",
       "      <td>1</td>\n",
       "      <td>0</td>\n",
       "      <td>10</td>\n",
       "      <td>13</td>\n",
       "      <td>13</td>\n",
       "    </tr>\n",
       "  </tbody>\n",
       "</table>\n",
       "</div>"
      ],
      "text/plain": [
       "   person_age  person_type  ejection  position_in_vehicle  safety_equipment  \\\n",
       "0          42            1         2                    2                11   \n",
       "1          25            1         2                    5                10   \n",
       "2           0            1         2                    3                11   \n",
       "3          24            1         2                    2                11   \n",
       "4          57            1         2                    9                16   \n",
       "\n",
       "   ped_role  person_sex  vehicle_type  vehicle_make  vehicle_year  driver_sex  \\\n",
       "0         0           1           110           609            48           1   \n",
       "1         3           1           117           169            39           1   \n",
       "2         3           0           110           387            38           0   \n",
       "3         0           1           117           398            33           1   \n",
       "4         3           0           117            80            49           1   \n",
       "\n",
       "   driver_license_status  pre_crash  point_of_impact  vehicle_damage  \\\n",
       "0                      0          4               13              13   \n",
       "1                      0          5               12              12   \n",
       "2                      0          1               14              14   \n",
       "3                      0          4               13              13   \n",
       "4                      0          5                3               3   \n",
       "\n",
       "   contributing_factor_1  contributing_factor_2  borough  zip_code  latitude  \\\n",
       "0                      9                     50        0        96     18482   \n",
       "1                     15                     50        0       101     19370   \n",
       "2                      5                     50        1       156      2522   \n",
       "3                     50                     50        2        12     12277   \n",
       "4                     15                     50        0        92     18872   \n",
       "\n",
       "   longitude  on_street_name  number_of_contributing_vehicles  \\\n",
       "0      11880            1314                                2   \n",
       "1      11286            1007                                2   \n",
       "2       7202            2820                                2   \n",
       "3       4496            2278                                2   \n",
       "4      10547            4275                                1   \n",
       "\n",
       "   crash_date_year  crash_date_month  crash_date_day  hour  \n",
       "0                2                 5              27    10  \n",
       "1                0                11               2    23  \n",
       "2                0                 7              17    14  \n",
       "3                1                 2              10    22  \n",
       "4                0                10              13    13  "
      ]
     },
     "execution_count": 145,
     "metadata": {},
     "output_type": "execute_result"
    }
   ],
   "source": [
    "X_res.head()"
   ]
  },
  {
   "cell_type": "code",
   "execution_count": null,
   "id": "bf989a45",
   "metadata": {},
   "outputs": [],
   "source": []
  },
  {
   "cell_type": "markdown",
   "id": "cb2c174f",
   "metadata": {},
   "source": [
    "# Run the model on the balanced dataset\n"
   ]
  },
  {
   "cell_type": "code",
   "execution_count": 150,
   "id": "a1d0bcc2",
   "metadata": {
    "ExecuteTime": {
     "end_time": "2021-11-19T10:04:59.767244Z",
     "start_time": "2021-11-19T10:04:14.679291Z"
    }
   },
   "outputs": [],
   "source": [
    "#Train the model using the training sets y_pred=clf.predict(X_test)\n",
    "clf.fit(X_res,y_res)\n",
    "y_pred=clf.predict(X_test)"
   ]
  },
  {
   "cell_type": "code",
   "execution_count": 156,
   "id": "2d105f8d",
   "metadata": {
    "ExecuteTime": {
     "end_time": "2021-11-19T10:10:04.238832Z",
     "start_time": "2021-11-19T10:10:04.220594Z"
    }
   },
   "outputs": [
    {
     "name": "stdout",
     "output_type": "stream",
     "text": [
      "Accuracy: 0.8725956098664857\n"
     ]
    }
   ],
   "source": [
    "print(\"Accuracy:\",metrics.accuracy_score(y_test, y_pred))"
   ]
  },
  {
   "cell_type": "code",
   "execution_count": 158,
   "id": "7541f787",
   "metadata": {
    "ExecuteTime": {
     "end_time": "2021-11-19T10:12:21.011760Z",
     "start_time": "2021-11-19T10:12:20.964355Z"
    }
   },
   "outputs": [
    {
     "data": {
      "text/plain": [
       "array([[ 2385,  3556],\n",
       "       [ 1511, 32319]], dtype=int64)"
      ]
     },
     "execution_count": 158,
     "metadata": {},
     "output_type": "execute_result"
    }
   ],
   "source": [
    "confusion_matrix(y_test,y_pred)"
   ]
  },
  {
   "cell_type": "code",
   "execution_count": 159,
   "id": "7d5f75dd",
   "metadata": {
    "ExecuteTime": {
     "end_time": "2021-11-19T10:12:23.951133Z",
     "start_time": "2021-11-19T10:12:23.882316Z"
    },
    "scrolled": true
   },
   "outputs": [
    {
     "name": "stdout",
     "output_type": "stream",
     "text": [
      "              precision    recall  f1-score   support\n",
      "\n",
      "           0       0.61      0.40      0.48      5941\n",
      "           1       0.90      0.96      0.93     33830\n",
      "\n",
      "    accuracy                           0.87     39771\n",
      "   macro avg       0.76      0.68      0.71     39771\n",
      "weighted avg       0.86      0.87      0.86     39771\n",
      "\n"
     ]
    }
   ],
   "source": [
    "print(classification_report(y_test,y_pred))"
   ]
  },
  {
   "cell_type": "code",
   "execution_count": 162,
   "id": "ee1aeb58",
   "metadata": {
    "ExecuteTime": {
     "end_time": "2021-11-19T10:13:38.434955Z",
     "start_time": "2021-11-19T10:13:38.064968Z"
    }
   },
   "outputs": [
    {
     "data": {
      "text/plain": [
       "<AxesSubplot:>"
      ]
     },
     "execution_count": 162,
     "metadata": {},
     "output_type": "execute_result"
    },
    {
     "data": {
      "image/png": "[encoded data removed]",
      "text/plain": [
       "<Figure size 576x288 with 2 Axes>"
      ]
     },
     "metadata": {},
     "output_type": "display_data"
    }
   ],
   "source": [
    "plot2(y_test, y_pred)"
   ]
  },
  {
   "cell_type": "code",
   "execution_count": null,
   "id": "cebc3aa9",
   "metadata": {},
   "outputs": [],
   "source": []
  },
  {
   "cell_type": "code",
   "execution_count": 146,
   "id": "26bd33f1",
   "metadata": {
    "ExecuteTime": {
     "end_time": "2021-11-19T09:48:02.679131Z",
     "start_time": "2021-11-19T09:48:02.588418Z"
    }
   },
   "outputs": [],
   "source": [
    "# # Features:  person_age, longitude, latitude, on_street_name, zip_code, crash_date_day, person_type\n",
    "# X_res=X_res[['person_age', 'person_type',\n",
    "#        'zip_code', 'latitude', 'longitude', 'on_street_name',\n",
    "#         'crash_date_day']]  # Features\n"
   ]
  },
  {
   "cell_type": "markdown",
   "id": "14da3d75",
   "metadata": {},
   "source": [
    "# Run the model on features below\n",
    "Features:  person_age, longitude, latitude, on_street_name, zip_code, crash_date_day, person_type\n"
   ]
  },
  {
   "cell_type": "code",
   "execution_count": 167,
   "id": "d4d17db4",
   "metadata": {
    "ExecuteTime": {
     "end_time": "2021-11-19T10:21:24.420768Z",
     "start_time": "2021-11-19T10:21:24.403779Z"
    }
   },
   "outputs": [],
   "source": [
    "X_res1=X_res[['person_age', 'person_type', 'zip_code', 'latitude', 'longitude', 'on_street_name','crash_date_day']] \n",
    "X_test1 = X_test[['person_age', 'person_type','zip_code', 'latitude', 'longitude', 'on_street_name', 'crash_date_day']]"
   ]
  },
  {
   "cell_type": "code",
   "execution_count": 168,
   "id": "4702523a",
   "metadata": {
    "ExecuteTime": {
     "end_time": "2021-11-19T10:22:10.136941Z",
     "start_time": "2021-11-19T10:21:31.566782Z"
    }
   },
   "outputs": [
    {
     "name": "stdout",
     "output_type": "stream",
     "text": [
      "Accuracy: 0.829549168992482\n"
     ]
    }
   ],
   "source": [
    "clf.fit(X_res1,y_res)\n",
    "y_pred=clf.predict(X_test1)\n",
    "print(\"Accuracy:\",metrics.accuracy_score(y_test, y_pred))"
   ]
  },
  {
   "cell_type": "code",
   "execution_count": 170,
   "id": "e5a9b87a",
   "metadata": {
    "ExecuteTime": {
     "end_time": "2021-11-19T10:24:00.256264Z",
     "start_time": "2021-11-19T10:24:00.210377Z"
    }
   },
   "outputs": [
    {
     "data": {
      "text/plain": [
       "array([[ 3033,  2908],\n",
       "       [ 3871, 29959]], dtype=int64)"
      ]
     },
     "execution_count": 170,
     "metadata": {},
     "output_type": "execute_result"
    }
   ],
   "source": [
    "confusion_matrix(y_test,y_pred)"
   ]
  },
  {
   "cell_type": "code",
   "execution_count": 171,
   "id": "8fdca5bb",
   "metadata": {
    "ExecuteTime": {
     "end_time": "2021-11-19T10:25:27.017715Z",
     "start_time": "2021-11-19T10:25:26.956911Z"
    }
   },
   "outputs": [
    {
     "name": "stdout",
     "output_type": "stream",
     "text": [
      "              precision    recall  f1-score   support\n",
      "\n",
      "           0       0.44      0.51      0.47      5941\n",
      "           1       0.91      0.89      0.90     33830\n",
      "\n",
      "    accuracy                           0.83     39771\n",
      "   macro avg       0.68      0.70      0.69     39771\n",
      "weighted avg       0.84      0.83      0.83     39771\n",
      "\n"
     ]
    }
   ],
   "source": [
    "print(classification_report(y_test,y_pred))"
   ]
  },
  {
   "cell_type": "code",
   "execution_count": 172,
   "id": "368e2332",
   "metadata": {
    "ExecuteTime": {
     "end_time": "2021-11-19T10:25:53.093761Z",
     "start_time": "2021-11-19T10:25:52.846393Z"
    },
    "scrolled": true
   },
   "outputs": [
    {
     "data": {
      "text/plain": [
       "<AxesSubplot:>"
      ]
     },
     "execution_count": 172,
     "metadata": {},
     "output_type": "execute_result"
    },
    {
     "data": {
      "image/png": "[encoded data removed]",
      "text/plain": [
       "<Figure size 576x288 with 2 Axes>"
      ]
     },
     "metadata": {},
     "output_type": "display_data"
    }
   ],
   "source": [
    "plot2(y_test, y_pred)"
   ]
  },
  {
   "cell_type": "markdown",
   "id": "ed7c308d",
   "metadata": {},
   "source": [
    "# Using VarainceThreshold to select features"
   ]
  },
  {
   "cell_type": "code",
   "execution_count": 173,
   "id": "3be4298d",
   "metadata": {
    "ExecuteTime": {
     "end_time": "2021-11-19T10:45:56.454416Z",
     "start_time": "2021-11-19T10:45:56.233653Z"
    }
   },
   "outputs": [
    {
     "name": "stdout",
     "output_type": "stream",
     "text": [
      "Original feature shape: (159081, 27)\n",
      "Transformed feature shape: (159081, 27)\n"
     ]
    }
   ],
   "source": [
    "from sklearn.feature_selection import VarianceThreshold\n",
    "selector = VarianceThreshold()\n",
    "print(\"Original feature shape:\", X.shape)\n",
    "new_X = selector.fit_transform(X)\n",
    "print(\"Transformed feature shape:\", new_X.shape)"
   ]
  },
  {
   "cell_type": "markdown",
   "id": "079c108e",
   "metadata": {},
   "source": [
    "# from sklearn.feature_selection import SelectKBest"
   ]
  },
  {
   "cell_type": "code",
   "execution_count": 175,
   "id": "7f7f7110",
   "metadata": {
    "ExecuteTime": {
     "end_time": "2021-11-19T10:47:02.319998Z",
     "start_time": "2021-11-19T10:47:02.184027Z"
    }
   },
   "outputs": [
    {
     "name": "stdout",
     "output_type": "stream",
     "text": [
      "Original feature shape: (159081, 27)\n",
      "Transformed feature shape: (159081, 10)\n"
     ]
    }
   ],
   "source": [
    "from sklearn.feature_selection import SelectKBest\n",
    "selector = SelectKBest()\n",
    "print(\"Original feature shape:\", X.shape)\n",
    "new_X = selector.fit_transform(X, y)\n",
    "print(\"Transformed feature shape:\", new_X.shape)"
   ]
  },
  {
   "cell_type": "code",
   "execution_count": 181,
   "id": "e943a5f7",
   "metadata": {
    "ExecuteTime": {
     "end_time": "2021-11-19T10:49:16.038795Z",
     "start_time": "2021-11-19T10:49:15.850293Z"
    }
   },
   "outputs": [],
   "source": [
    "X_train, X_test, y_train, y_test = train_test_split(new_X, y, test_size=0.25)"
   ]
  },
  {
   "cell_type": "code",
   "execution_count": 184,
   "id": "b0b40cb3",
   "metadata": {
    "ExecuteTime": {
     "end_time": "2021-11-19T10:50:38.602602Z",
     "start_time": "2021-11-19T10:50:37.150889Z"
    }
   },
   "outputs": [
    {
     "name": "stdout",
     "output_type": "stream",
     "text": [
      "Original dataset shape Counter({1: 101337, 0: 17973})\n",
      "Resampled dataset shape Counter({1: 101337, 0: 101337})\n"
     ]
    }
   ],
   "source": [
    "from collections import Counter\n",
    "from sklearn.datasets import make_classification\n",
    "from imblearn.over_sampling import SMOTE \n",
    "print('Original dataset shape %s' % Counter(y_train))\n",
    "\n",
    "sm = SMOTE(random_state=42)\n",
    "X_res2, y_res2 = sm.fit_resample(X_train, y_train)\n",
    "print('Resampled dataset shape %s' % Counter(y_res2))"
   ]
  },
  {
   "cell_type": "code",
   "execution_count": 185,
   "id": "fdd7b03d",
   "metadata": {
    "ExecuteTime": {
     "end_time": "2021-11-19T10:51:22.503005Z",
     "start_time": "2021-11-19T10:51:04.562716Z"
    }
   },
   "outputs": [],
   "source": [
    "clf.fit(X_res2,y_res2)\n",
    "y_pred=clf.predict(X_test)"
   ]
  },
  {
   "cell_type": "code",
   "execution_count": 186,
   "id": "eb6caf5b",
   "metadata": {
    "ExecuteTime": {
     "end_time": "2021-11-19T10:51:31.817995Z",
     "start_time": "2021-11-19T10:51:31.796008Z"
    }
   },
   "outputs": [
    {
     "name": "stdout",
     "output_type": "stream",
     "text": [
      "Accuracy: 0.7501194337582661\n"
     ]
    }
   ],
   "source": [
    "print(\"Accuracy:\",metrics.accuracy_score(y_test, y_pred))"
   ]
  },
  {
   "cell_type": "code",
   "execution_count": 187,
   "id": "57822eab",
   "metadata": {
    "ExecuteTime": {
     "end_time": "2021-11-19T10:51:51.137176Z",
     "start_time": "2021-11-19T10:51:51.105081Z"
    }
   },
   "outputs": [
    {
     "data": {
      "text/plain": [
       "array([[ 3360,  2679],\n",
       "       [ 7259, 26473]], dtype=int64)"
      ]
     },
     "execution_count": 187,
     "metadata": {},
     "output_type": "execute_result"
    }
   ],
   "source": [
    "confusion_matrix(y_test,y_pred)"
   ]
  },
  {
   "cell_type": "code",
   "execution_count": 188,
   "id": "4ccfe74b",
   "metadata": {
    "ExecuteTime": {
     "end_time": "2021-11-19T10:52:10.157923Z",
     "start_time": "2021-11-19T10:52:10.101074Z"
    }
   },
   "outputs": [
    {
     "name": "stdout",
     "output_type": "stream",
     "text": [
      "              precision    recall  f1-score   support\n",
      "\n",
      "           0       0.32      0.56      0.40      6039\n",
      "           1       0.91      0.78      0.84     33732\n",
      "\n",
      "    accuracy                           0.75     39771\n",
      "   macro avg       0.61      0.67      0.62     39771\n",
      "weighted avg       0.82      0.75      0.78     39771\n",
      "\n"
     ]
    }
   ],
   "source": [
    "print(classification_report(y_test,y_pred))"
   ]
  },
  {
   "cell_type": "code",
   "execution_count": 189,
   "id": "603935c3",
   "metadata": {
    "ExecuteTime": {
     "end_time": "2021-11-19T10:52:40.085909Z",
     "start_time": "2021-11-19T10:52:39.877897Z"
    }
   },
   "outputs": [
    {
     "data": {
      "text/plain": [
       "<AxesSubplot:>"
      ]
     },
     "execution_count": 189,
     "metadata": {},
     "output_type": "execute_result"
    },
    {
     "data": {
      "image/png": "[encoded data removed]",
      "text/plain": [
       "<Figure size 576x288 with 2 Axes>"
      ]
     },
     "metadata": {},
     "output_type": "display_data"
    }
   ],
   "source": [
    "plot2(y_test, y_pred)"
   ]
  }
 ],
 "metadata": {
  "kernelspec": {
   "display_name": "Python 3",
   "language": "python",
   "name": "python3"
  },
  "language_info": {
   "codemirror_mode": {
    "name": "ipython",
    "version": 3
   },
   "file_extension": ".py",
   "mimetype": "text/x-python",
   "name": "python",
   "nbconvert_exporter": "python",
   "pygments_lexer": "ipython3",
   "version": "3.8.8"
  },
  "toc": {
   "base_numbering": 1,
   "nav_menu": {},
   "number_sections": true,
   "sideBar": true,
   "skip_h1_title": false,
   "title_cell": "Table of Contents",
   "title_sidebar": "Contents",
   "toc_cell": false,
   "toc_position": {},
   "toc_section_display": true,
   "toc_window_display": false
  }
 },
 "nbformat": 4,
 "nbformat_minor": 5
}
