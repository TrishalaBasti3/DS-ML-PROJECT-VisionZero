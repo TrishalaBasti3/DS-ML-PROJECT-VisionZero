{
 "cells": [
  {
   "cell_type": "code",
   "execution_count": 75,
   "id": "f007e65b",
   "metadata": {
    "ExecuteTime": {
     "end_time": "2021-11-26T07:34:46.673898Z",
     "start_time": "2021-11-26T07:34:46.658942Z"
    }
   },
   "outputs": [],
   "source": [
    "import pandas as pd\n",
    "import numpy as np\n",
    "import seaborn as sns\n",
    "import matplotlib.pyplot as plt\n",
    "from matplotlib.pyplot import figure\n",
    "\n",
    "# To see all the columns \n",
    "pd.set_option('display.max_columns', 85)\n",
    "pd.set_option('display.max_rows', 600)\n",
    "\n",
    "from sklearn.ensemble import RandomForestClassifier\n",
    "from sklearn.model_selection import train_test_split"
   ]
  },
  {
   "cell_type": "code",
   "execution_count": 76,
   "id": "add1b7bc",
   "metadata": {
    "ExecuteTime": {
     "end_time": "2021-11-26T07:34:49.097482Z",
     "start_time": "2021-11-26T07:34:47.955045Z"
    }
   },
   "outputs": [],
   "source": [
    "df= pd.read_csv(\"C:\\\\CompletePython\\\\DataScience\\VisionZero\\\\2016\\\\crashes_datetime7.csv\")"
   ]
  },
  {
   "cell_type": "code",
   "execution_count": 77,
   "id": "f907a63c",
   "metadata": {
    "ExecuteTime": {
     "end_time": "2021-11-26T07:34:49.624246Z",
     "start_time": "2021-11-26T07:34:49.596526Z"
    }
   },
   "outputs": [
    {
     "data": {
      "text/plain": [
       "NOT INJURED    132175\n",
       "INJURED         23589\n",
       "Name: person_injury, dtype: int64"
      ]
     },
     "execution_count": 77,
     "metadata": {},
     "output_type": "execute_result"
    }
   ],
   "source": [
    "df['person_injury'].value_counts()"
   ]
  },
  {
   "cell_type": "code",
   "execution_count": 78,
   "id": "e55f992e",
   "metadata": {
    "ExecuteTime": {
     "end_time": "2021-11-26T07:34:52.243874Z",
     "start_time": "2021-11-26T07:34:52.198928Z"
    }
   },
   "outputs": [],
   "source": [
    "df=df.drop(['collision_id','Unnamed: 0','completedate','Unnamed: 0.1','crash_date_new','collision_id'], axis=1)"
   ]
  },
  {
   "cell_type": "code",
   "execution_count": 79,
   "id": "5a715f4b",
   "metadata": {
    "ExecuteTime": {
     "end_time": "2021-11-26T07:34:53.254710Z",
     "start_time": "2021-11-26T07:34:53.233720Z"
    }
   },
   "outputs": [
    {
     "data": {
      "text/plain": [
       "Index(['person_type', 'person_injury', 'person_age', 'ejection',\n",
       "       'position_in_vehicle', 'safety_equipment', 'ped_role', 'person_sex',\n",
       "       'vehicle_type', 'vehicle_make', 'vehicle_year', 'vehicle_occupants',\n",
       "       'driver_sex', 'driver_license_status', 'pre_crash', 'point_of_impact',\n",
       "       'vehicle_damage', 'contributing_factor_1', 'contributing_factor_2',\n",
       "       'borough', 'zip_code', 'latitude', 'longitude', 'on_street_name',\n",
       "       'number_of_contributing_vehicles', 'crash_date_year',\n",
       "       'crash_date_month', 'crash_date_day', 'Time', 'city_info', 'population',\n",
       "       'median_household_income'],\n",
       "      dtype='object')"
      ]
     },
     "execution_count": 79,
     "metadata": {},
     "output_type": "execute_result"
    }
   ],
   "source": [
    "df.columns"
   ]
  },
  {
   "cell_type": "code",
   "execution_count": 80,
   "id": "4efc9343",
   "metadata": {
    "ExecuteTime": {
     "end_time": "2021-11-26T07:34:56.762263Z",
     "start_time": "2021-11-26T07:34:56.759237Z"
    }
   },
   "outputs": [],
   "source": [
    "data = df"
   ]
  },
  {
   "cell_type": "code",
   "execution_count": 81,
   "id": "7acfa17f",
   "metadata": {
    "ExecuteTime": {
     "end_time": "2021-11-26T07:34:59.677567Z",
     "start_time": "2021-11-26T07:34:58.840137Z"
    }
   },
   "outputs": [],
   "source": [
    "from sklearn.preprocessing import LabelEncoder\n",
    "gle = LabelEncoder()\n",
    "data=data.apply(LabelEncoder().fit_transform)"
   ]
  },
  {
   "cell_type": "code",
   "execution_count": 8,
   "id": "464a729c",
   "metadata": {
    "ExecuteTime": {
     "end_time": "2021-11-25T20:36:55.437607Z",
     "start_time": "2021-11-25T20:36:55.415622Z"
    },
    "scrolled": true
   },
   "outputs": [
    {
     "data": {
      "text/html": [
       "<div>\n",
       "<style scoped>\n",
       "    .dataframe tbody tr th:only-of-type {\n",
       "        vertical-align: middle;\n",
       "    }\n",
       "\n",
       "    .dataframe tbody tr th {\n",
       "        vertical-align: top;\n",
       "    }\n",
       "\n",
       "    .dataframe thead th {\n",
       "        text-align: right;\n",
       "    }\n",
       "</style>\n",
       "<table border=\"1\" class=\"dataframe\">\n",
       "  <thead>\n",
       "    <tr style=\"text-align: right;\">\n",
       "      <th></th>\n",
       "      <th>person_type</th>\n",
       "      <th>person_injury</th>\n",
       "      <th>person_age</th>\n",
       "      <th>ejection</th>\n",
       "      <th>position_in_vehicle</th>\n",
       "      <th>safety_equipment</th>\n",
       "      <th>ped_role</th>\n",
       "      <th>person_sex</th>\n",
       "      <th>vehicle_type</th>\n",
       "      <th>vehicle_make</th>\n",
       "      <th>vehicle_year</th>\n",
       "      <th>vehicle_occupants</th>\n",
       "      <th>driver_sex</th>\n",
       "      <th>driver_license_status</th>\n",
       "      <th>pre_crash</th>\n",
       "      <th>point_of_impact</th>\n",
       "      <th>vehicle_damage</th>\n",
       "      <th>contributing_factor_1</th>\n",
       "      <th>contributing_factor_2</th>\n",
       "      <th>borough</th>\n",
       "      <th>zip_code</th>\n",
       "      <th>latitude</th>\n",
       "      <th>longitude</th>\n",
       "      <th>on_street_name</th>\n",
       "      <th>number_of_contributing_vehicles</th>\n",
       "      <th>crash_date_year</th>\n",
       "      <th>crash_date_month</th>\n",
       "      <th>crash_date_day</th>\n",
       "      <th>Time</th>\n",
       "      <th>city_info</th>\n",
       "      <th>population</th>\n",
       "      <th>median_household_income</th>\n",
       "    </tr>\n",
       "  </thead>\n",
       "  <tbody>\n",
       "    <tr>\n",
       "      <th>0</th>\n",
       "      <td>1</td>\n",
       "      <td>1</td>\n",
       "      <td>52</td>\n",
       "      <td>2</td>\n",
       "      <td>2</td>\n",
       "      <td>11</td>\n",
       "      <td>0</td>\n",
       "      <td>1</td>\n",
       "      <td>142</td>\n",
       "      <td>636</td>\n",
       "      <td>77</td>\n",
       "      <td>41</td>\n",
       "      <td>1</td>\n",
       "      <td>3</td>\n",
       "      <td>11</td>\n",
       "      <td>9</td>\n",
       "      <td>9</td>\n",
       "      <td>24</td>\n",
       "      <td>24</td>\n",
       "      <td>3</td>\n",
       "      <td>157</td>\n",
       "      <td>10799</td>\n",
       "      <td>9908</td>\n",
       "      <td>2955</td>\n",
       "      <td>2</td>\n",
       "      <td>3</td>\n",
       "      <td>9</td>\n",
       "      <td>25</td>\n",
       "      <td>986</td>\n",
       "      <td>29</td>\n",
       "      <td>78</td>\n",
       "      <td>90</td>\n",
       "    </tr>\n",
       "    <tr>\n",
       "      <th>1</th>\n",
       "      <td>1</td>\n",
       "      <td>1</td>\n",
       "      <td>41</td>\n",
       "      <td>2</td>\n",
       "      <td>2</td>\n",
       "      <td>10</td>\n",
       "      <td>0</td>\n",
       "      <td>1</td>\n",
       "      <td>142</td>\n",
       "      <td>636</td>\n",
       "      <td>77</td>\n",
       "      <td>41</td>\n",
       "      <td>1</td>\n",
       "      <td>3</td>\n",
       "      <td>11</td>\n",
       "      <td>9</td>\n",
       "      <td>9</td>\n",
       "      <td>24</td>\n",
       "      <td>24</td>\n",
       "      <td>2</td>\n",
       "      <td>23</td>\n",
       "      <td>15494</td>\n",
       "      <td>4523</td>\n",
       "      <td>892</td>\n",
       "      <td>2</td>\n",
       "      <td>3</td>\n",
       "      <td>9</td>\n",
       "      <td>25</td>\n",
       "      <td>1196</td>\n",
       "      <td>32</td>\n",
       "      <td>181</td>\n",
       "      <td>117</td>\n",
       "    </tr>\n",
       "    <tr>\n",
       "      <th>2</th>\n",
       "      <td>1</td>\n",
       "      <td>1</td>\n",
       "      <td>35</td>\n",
       "      <td>2</td>\n",
       "      <td>2</td>\n",
       "      <td>10</td>\n",
       "      <td>0</td>\n",
       "      <td>1</td>\n",
       "      <td>142</td>\n",
       "      <td>636</td>\n",
       "      <td>77</td>\n",
       "      <td>41</td>\n",
       "      <td>1</td>\n",
       "      <td>3</td>\n",
       "      <td>11</td>\n",
       "      <td>9</td>\n",
       "      <td>9</td>\n",
       "      <td>24</td>\n",
       "      <td>24</td>\n",
       "      <td>2</td>\n",
       "      <td>23</td>\n",
       "      <td>15494</td>\n",
       "      <td>4523</td>\n",
       "      <td>892</td>\n",
       "      <td>2</td>\n",
       "      <td>3</td>\n",
       "      <td>9</td>\n",
       "      <td>25</td>\n",
       "      <td>1196</td>\n",
       "      <td>32</td>\n",
       "      <td>181</td>\n",
       "      <td>117</td>\n",
       "    </tr>\n",
       "  </tbody>\n",
       "</table>\n",
       "</div>"
      ],
      "text/plain": [
       "   person_type  person_injury  person_age  ejection  position_in_vehicle  \\\n",
       "0            1              1          52         2                    2   \n",
       "1            1              1          41         2                    2   \n",
       "2            1              1          35         2                    2   \n",
       "\n",
       "   safety_equipment  ped_role  person_sex  vehicle_type  vehicle_make  \\\n",
       "0                11         0           1           142           636   \n",
       "1                10         0           1           142           636   \n",
       "2                10         0           1           142           636   \n",
       "\n",
       "   vehicle_year  vehicle_occupants  driver_sex  driver_license_status  \\\n",
       "0            77                 41           1                      3   \n",
       "1            77                 41           1                      3   \n",
       "2            77                 41           1                      3   \n",
       "\n",
       "   pre_crash  point_of_impact  vehicle_damage  contributing_factor_1  \\\n",
       "0         11                9               9                     24   \n",
       "1         11                9               9                     24   \n",
       "2         11                9               9                     24   \n",
       "\n",
       "   contributing_factor_2  borough  zip_code  latitude  longitude  \\\n",
       "0                     24        3       157     10799       9908   \n",
       "1                     24        2        23     15494       4523   \n",
       "2                     24        2        23     15494       4523   \n",
       "\n",
       "   on_street_name  number_of_contributing_vehicles  crash_date_year  \\\n",
       "0            2955                                2                3   \n",
       "1             892                                2                3   \n",
       "2             892                                2                3   \n",
       "\n",
       "   crash_date_month  crash_date_day  Time  city_info  population  \\\n",
       "0                 9              25   986         29          78   \n",
       "1                 9              25  1196         32         181   \n",
       "2                 9              25  1196         32         181   \n",
       "\n",
       "   median_household_income  \n",
       "0                       90  \n",
       "1                      117  \n",
       "2                      117  "
      ]
     },
     "execution_count": 8,
     "metadata": {},
     "output_type": "execute_result"
    }
   ],
   "source": [
    "data.head(3)"
   ]
  },
  {
   "cell_type": "code",
   "execution_count": 9,
   "id": "5ad918e6",
   "metadata": {
    "ExecuteTime": {
     "end_time": "2021-11-25T20:36:55.443548Z",
     "start_time": "2021-11-25T20:36:55.439562Z"
    }
   },
   "outputs": [
    {
     "data": {
      "text/plain": [
       "(155764, 32)"
      ]
     },
     "execution_count": 9,
     "metadata": {},
     "output_type": "execute_result"
    }
   ],
   "source": [
    "data.shape"
   ]
  },
  {
   "cell_type": "code",
   "execution_count": 82,
   "id": "69e34522",
   "metadata": {
    "ExecuteTime": {
     "end_time": "2021-11-26T07:35:06.636465Z",
     "start_time": "2021-11-26T07:35:06.611829Z"
    }
   },
   "outputs": [],
   "source": [
    "X=data.drop(columns=['person_injury'])\n",
    "y=data['person_injury']  # Labels"
   ]
  },
  {
   "cell_type": "code",
   "execution_count": 83,
   "id": "6cfd3d63",
   "metadata": {
    "ExecuteTime": {
     "end_time": "2021-11-26T07:35:11.653831Z",
     "start_time": "2021-11-26T07:35:11.596620Z"
    }
   },
   "outputs": [],
   "source": [
    "X_train, X_test, y_train, y_test = train_test_split(X, y, test_size=0.25) # 75% training and 25% test"
   ]
  },
  {
   "cell_type": "markdown",
   "id": "ae3e344d",
   "metadata": {},
   "source": [
    "# Build a model"
   ]
  },
  {
   "cell_type": "code",
   "execution_count": 12,
   "id": "708e7703",
   "metadata": {
    "ExecuteTime": {
     "end_time": "2021-11-25T20:36:55.515499Z",
     "start_time": "2021-11-25T20:36:55.510479Z"
    }
   },
   "outputs": [],
   "source": [
    "#Create a Gaussian Classifier\n",
    "clf=RandomForestClassifier(n_estimators=100)"
   ]
  },
  {
   "cell_type": "code",
   "execution_count": 13,
   "id": "75288476",
   "metadata": {
    "ExecuteTime": {
     "end_time": "2021-11-25T20:37:30.275974Z",
     "start_time": "2021-11-25T20:36:55.516464Z"
    }
   },
   "outputs": [],
   "source": [
    "#Train the model using the training sets y_pred=clf.predict(X_test)\n",
    "clf.fit(X_train,y_train)\n",
    "y_pred=clf.predict(X_test)"
   ]
  },
  {
   "cell_type": "code",
   "execution_count": 14,
   "id": "cd66dbf9",
   "metadata": {
    "ExecuteTime": {
     "end_time": "2021-11-25T20:37:30.290934Z",
     "start_time": "2021-11-25T20:37:30.276971Z"
    }
   },
   "outputs": [
    {
     "name": "stdout",
     "output_type": "stream",
     "text": [
      "Accuracy: 0.8897306181145836\n"
     ]
    }
   ],
   "source": [
    "#Import scikit-learn metrics module for accuracy calculation\n",
    "from sklearn import metrics\n",
    "# Model Accuracy, how often is the classifier correct?b\n",
    "print(\"Accuracy:\",metrics.accuracy_score(y_test, y_pred))"
   ]
  },
  {
   "cell_type": "code",
   "execution_count": 15,
   "id": "76753446",
   "metadata": {
    "ExecuteTime": {
     "end_time": "2021-11-25T20:37:30.344830Z",
     "start_time": "2021-11-25T20:37:30.292930Z"
    }
   },
   "outputs": [
    {
     "name": "stdout",
     "output_type": "stream",
     "text": [
      "              precision    recall  f1-score   support\n",
      "\n",
      "           0       0.81      0.37      0.51      5982\n",
      "           1       0.90      0.98      0.94     32959\n",
      "\n",
      "    accuracy                           0.89     38941\n",
      "   macro avg       0.85      0.68      0.72     38941\n",
      "weighted avg       0.88      0.89      0.87     38941\n",
      "\n"
     ]
    }
   ],
   "source": [
    "from sklearn .metrics import classification_report\n",
    "print(classification_report(y_test,y_pred))"
   ]
  },
  {
   "cell_type": "code",
   "execution_count": 16,
   "id": "774d47d9",
   "metadata": {
    "ExecuteTime": {
     "end_time": "2021-11-25T20:37:30.382290Z",
     "start_time": "2021-11-25T20:37:30.346796Z"
    }
   },
   "outputs": [
    {
     "data": {
      "text/plain": [
       "array([[ 2204,  3778],\n",
       "       [  516, 32443]], dtype=int64)"
      ]
     },
     "execution_count": 16,
     "metadata": {},
     "output_type": "execute_result"
    }
   ],
   "source": [
    "#Confusion Matrix\n",
    "from sklearn.metrics import confusion_matrix\n",
    "confusion_matrix(y_test,y_pred)"
   ]
  },
  {
   "cell_type": "code",
   "execution_count": 17,
   "id": "62811957",
   "metadata": {
    "ExecuteTime": {
     "end_time": "2021-11-25T20:37:30.390244Z",
     "start_time": "2021-11-25T20:37:30.383263Z"
    }
   },
   "outputs": [],
   "source": [
    "from sklearn.utils.multiclass import unique_labels\n",
    "unique_labels(y_test)\n",
    "#combine these labels with the confusion metrix\n",
    "def plot(y_true,y_pred):\n",
    "    labels = unique_labels(y_test)\n",
    "    column=[f'Predicted {label}' for label in labels]\n",
    "    indexes=[f'Actual {label}' for label in labels]\n",
    "    table = pd.DataFrame(confusion_matrix(y_true,y_pred), \n",
    "                         columns=column, index=indexes)\n",
    "    \n",
    "    return table"
   ]
  },
  {
   "cell_type": "code",
   "execution_count": 18,
   "id": "40bee0ff",
   "metadata": {
    "ExecuteTime": {
     "end_time": "2021-11-25T20:37:30.432146Z",
     "start_time": "2021-11-25T20:37:30.394235Z"
    }
   },
   "outputs": [
    {
     "data": {
      "text/html": [
       "<div>\n",
       "<style scoped>\n",
       "    .dataframe tbody tr th:only-of-type {\n",
       "        vertical-align: middle;\n",
       "    }\n",
       "\n",
       "    .dataframe tbody tr th {\n",
       "        vertical-align: top;\n",
       "    }\n",
       "\n",
       "    .dataframe thead th {\n",
       "        text-align: right;\n",
       "    }\n",
       "</style>\n",
       "<table border=\"1\" class=\"dataframe\">\n",
       "  <thead>\n",
       "    <tr style=\"text-align: right;\">\n",
       "      <th></th>\n",
       "      <th>Predicted 0</th>\n",
       "      <th>Predicted 1</th>\n",
       "    </tr>\n",
       "  </thead>\n",
       "  <tbody>\n",
       "    <tr>\n",
       "      <th>Actual 0</th>\n",
       "      <td>2204</td>\n",
       "      <td>3778</td>\n",
       "    </tr>\n",
       "    <tr>\n",
       "      <th>Actual 1</th>\n",
       "      <td>516</td>\n",
       "      <td>32443</td>\n",
       "    </tr>\n",
       "  </tbody>\n",
       "</table>\n",
       "</div>"
      ],
      "text/plain": [
       "          Predicted 0  Predicted 1\n",
       "Actual 0         2204         3778\n",
       "Actual 1          516        32443"
      ]
     },
     "execution_count": 18,
     "metadata": {},
     "output_type": "execute_result"
    }
   ],
   "source": [
    "plot(y_test, y_pred)"
   ]
  },
  {
   "cell_type": "code",
   "execution_count": 19,
   "id": "ba697804",
   "metadata": {
    "ExecuteTime": {
     "end_time": "2021-11-25T20:37:30.439113Z",
     "start_time": "2021-11-25T20:37:30.434126Z"
    }
   },
   "outputs": [],
   "source": [
    "def plot2(y_true,y_pred):\n",
    "    sns.set(rc={\"figure.figsize\":(8, 4)})\n",
    "    labels = unique_labels(y_test)\n",
    "    column=[f'Predicted {label}' for label in labels]\n",
    "    indexes=[f'Actual {label}' for label in labels]\n",
    "    table = pd.DataFrame(confusion_matrix(y_true,y_pred), \n",
    "                         columns=column, index=indexes)\n",
    "    \n",
    "    return sns.heatmap(table, annot=True, fmt='d', cmap='viridis')"
   ]
  },
  {
   "cell_type": "code",
   "execution_count": 20,
   "id": "b2d67de7",
   "metadata": {
    "ExecuteTime": {
     "end_time": "2021-11-25T20:37:30.691587Z",
     "start_time": "2021-11-25T20:37:30.440113Z"
    }
   },
   "outputs": [
    {
     "data": {
      "text/plain": [
       "<AxesSubplot:>"
      ]
     },
     "execution_count": 20,
     "metadata": {},
     "output_type": "execute_result"
    },
    {
     "data": {
      "image/png": "[encoded data removed]",
      "text/plain": [
       "<Figure size 576x288 with 2 Axes>"
      ]
     },
     "metadata": {},
     "output_type": "display_data"
    }
   ],
   "source": [
    "plot2(y_test, y_pred)"
   ]
  },
  {
   "cell_type": "code",
   "execution_count": null,
   "id": "5e5736d4",
   "metadata": {
    "ExecuteTime": {
     "end_time": "2021-11-19T08:45:17.935328Z",
     "start_time": "2021-11-19T08:45:17.472552Z"
    },
    "scrolled": true
   },
   "outputs": [],
   "source": []
  },
  {
   "cell_type": "code",
   "execution_count": null,
   "id": "140d3a30",
   "metadata": {},
   "outputs": [],
   "source": []
  },
  {
   "cell_type": "markdown",
   "id": "7323bca7",
   "metadata": {},
   "source": [
    "# Balance the dataset\n",
    "### 0 is injured\n",
    "### 1: Not injured"
   ]
  },
  {
   "cell_type": "code",
   "execution_count": null,
   "id": "120dd59b",
   "metadata": {},
   "outputs": [],
   "source": []
  },
  {
   "cell_type": "code",
   "execution_count": 84,
   "id": "33702698",
   "metadata": {
    "ExecuteTime": {
     "end_time": "2021-11-26T07:35:33.300416Z",
     "start_time": "2021-11-26T07:35:26.513413Z"
    }
   },
   "outputs": [
    {
     "name": "stdout",
     "output_type": "stream",
     "text": [
      "Original dataset shape Counter({1: 98976, 0: 17847})\n",
      "Resampled dataset shape Counter({1: 98976, 0: 98976})\n"
     ]
    }
   ],
   "source": [
    "from collections import Counter\n",
    "from sklearn.datasets import make_classification\n",
    "from imblearn.over_sampling import SMOTE \n",
    "print('Original dataset shape %s' % Counter(y_train))\n",
    "\n",
    "sm = SMOTE(random_state=42)\n",
    "X_res, y_res = sm.fit_resample(X_train, y_train)\n",
    "print('Resampled dataset shape %s' % Counter(y_res))"
   ]
  },
  {
   "cell_type": "markdown",
   "id": "cb2c174f",
   "metadata": {},
   "source": [
    "# Run the model on the balanced dataset\n"
   ]
  },
  {
   "cell_type": "code",
   "execution_count": 29,
   "id": "a1d0bcc2",
   "metadata": {
    "ExecuteTime": {
     "end_time": "2021-11-25T20:38:40.092586Z",
     "start_time": "2021-11-25T20:37:48.385828Z"
    }
   },
   "outputs": [
    {
     "name": "stdout",
     "output_type": "stream",
     "text": [
      "Accuracy: 0.8743483731799389\n"
     ]
    }
   ],
   "source": [
    "#Train the model using the training sets y_pred=clf.predict(X_test)\n",
    "clf.fit(X_res,y_res)\n",
    "y_pred=clf.predict(X_test)\n",
    "print(\"Accuracy:\",metrics.accuracy_score(y_test, y_pred))"
   ]
  },
  {
   "cell_type": "code",
   "execution_count": 30,
   "id": "7541f787",
   "metadata": {
    "ExecuteTime": {
     "end_time": "2021-11-25T20:38:40.098570Z",
     "start_time": "2021-11-25T20:38:40.094580Z"
    }
   },
   "outputs": [],
   "source": [
    "# confusion_matrix(y_test,y_pred)"
   ]
  },
  {
   "cell_type": "code",
   "execution_count": 31,
   "id": "7d5f75dd",
   "metadata": {
    "ExecuteTime": {
     "end_time": "2021-11-25T20:38:40.177360Z",
     "start_time": "2021-11-25T20:38:40.100564Z"
    },
    "scrolled": true
   },
   "outputs": [
    {
     "name": "stdout",
     "output_type": "stream",
     "text": [
      "              precision    recall  f1-score   support\n",
      "\n",
      "           0       0.64      0.41      0.50      5982\n",
      "           1       0.90      0.96      0.93     32959\n",
      "\n",
      "    accuracy                           0.87     38941\n",
      "   macro avg       0.77      0.69      0.71     38941\n",
      "weighted avg       0.86      0.87      0.86     38941\n",
      "\n"
     ]
    }
   ],
   "source": [
    "print(classification_report(y_test,y_pred))"
   ]
  },
  {
   "cell_type": "code",
   "execution_count": 32,
   "id": "ee1aeb58",
   "metadata": {
    "ExecuteTime": {
     "end_time": "2021-11-25T20:38:40.568779Z",
     "start_time": "2021-11-25T20:38:40.180350Z"
    }
   },
   "outputs": [
    {
     "data": {
      "text/plain": [
       "<AxesSubplot:>"
      ]
     },
     "execution_count": 32,
     "metadata": {},
     "output_type": "execute_result"
    },
    {
     "data": {
      "image/png": "[encoded data removed]",
      "text/plain": [
       "<Figure size 576x288 with 2 Axes>"
      ]
     },
     "metadata": {},
     "output_type": "display_data"
    }
   ],
   "source": [
    "plot2(y_test, y_pred)"
   ]
  },
  {
   "cell_type": "code",
   "execution_count": null,
   "id": "cebc3aa9",
   "metadata": {},
   "outputs": [],
   "source": []
  },
  {
   "cell_type": "code",
   "execution_count": 33,
   "id": "26bd33f1",
   "metadata": {
    "ExecuteTime": {
     "end_time": "2021-11-25T20:38:40.574765Z",
     "start_time": "2021-11-25T20:38:40.570773Z"
    }
   },
   "outputs": [],
   "source": [
    "# # Features:  person_age, longitude, latitude, on_street_name, zip_code, crash_date_day, person_type\n",
    "# X_res=X_res[['person_age', 'person_type',\n",
    "#        'zip_code', 'latitude', 'longitude', 'on_street_name',\n",
    "#         'crash_date_day']]  # Features\n"
   ]
  },
  {
   "cell_type": "code",
   "execution_count": 34,
   "id": "e6dab80b",
   "metadata": {
    "ExecuteTime": {
     "end_time": "2021-11-25T20:38:40.667156Z",
     "start_time": "2021-11-25T20:38:40.577755Z"
    }
   },
   "outputs": [],
   "source": [
    "# Extract feature importances\n",
    "fi = pd.DataFrame({'feature': list(X_train.columns),\n",
    "                   'importance': clf.feature_importances_}).\\\n",
    "                    sort_values('importance', ascending = False)"
   ]
  },
  {
   "cell_type": "code",
   "execution_count": 35,
   "id": "28430667",
   "metadata": {
    "ExecuteTime": {
     "end_time": "2021-11-25T20:38:40.690097Z",
     "start_time": "2021-11-25T20:38:40.669151Z"
    }
   },
   "outputs": [
    {
     "data": {
      "text/html": [
       "<div>\n",
       "<style scoped>\n",
       "    .dataframe tbody tr th:only-of-type {\n",
       "        vertical-align: middle;\n",
       "    }\n",
       "\n",
       "    .dataframe tbody tr th {\n",
       "        vertical-align: top;\n",
       "    }\n",
       "\n",
       "    .dataframe thead th {\n",
       "        text-align: right;\n",
       "    }\n",
       "</style>\n",
       "<table border=\"1\" class=\"dataframe\">\n",
       "  <thead>\n",
       "    <tr style=\"text-align: right;\">\n",
       "      <th></th>\n",
       "      <th>feature</th>\n",
       "      <th>importance</th>\n",
       "    </tr>\n",
       "  </thead>\n",
       "  <tbody>\n",
       "    <tr>\n",
       "      <th>5</th>\n",
       "      <td>ped_role</td>\n",
       "      <td>0.061860</td>\n",
       "    </tr>\n",
       "    <tr>\n",
       "      <th>2</th>\n",
       "      <td>ejection</td>\n",
       "      <td>0.055405</td>\n",
       "    </tr>\n",
       "    <tr>\n",
       "      <th>6</th>\n",
       "      <td>person_sex</td>\n",
       "      <td>0.050143</td>\n",
       "    </tr>\n",
       "    <tr>\n",
       "      <th>10</th>\n",
       "      <td>vehicle_occupants</td>\n",
       "      <td>0.049733</td>\n",
       "    </tr>\n",
       "    <tr>\n",
       "      <th>0</th>\n",
       "      <td>person_type</td>\n",
       "      <td>0.049633</td>\n",
       "    </tr>\n",
       "    <tr>\n",
       "      <th>3</th>\n",
       "      <td>position_in_vehicle</td>\n",
       "      <td>0.044819</td>\n",
       "    </tr>\n",
       "    <tr>\n",
       "      <th>27</th>\n",
       "      <td>Time</td>\n",
       "      <td>0.042979</td>\n",
       "    </tr>\n",
       "    <tr>\n",
       "      <th>1</th>\n",
       "      <td>person_age</td>\n",
       "      <td>0.042232</td>\n",
       "    </tr>\n",
       "    <tr>\n",
       "      <th>21</th>\n",
       "      <td>longitude</td>\n",
       "      <td>0.041600</td>\n",
       "    </tr>\n",
       "    <tr>\n",
       "      <th>20</th>\n",
       "      <td>latitude</td>\n",
       "      <td>0.040729</td>\n",
       "    </tr>\n",
       "    <tr>\n",
       "      <th>4</th>\n",
       "      <td>safety_equipment</td>\n",
       "      <td>0.039927</td>\n",
       "    </tr>\n",
       "    <tr>\n",
       "      <th>23</th>\n",
       "      <td>number_of_contributing_vehicles</td>\n",
       "      <td>0.039828</td>\n",
       "    </tr>\n",
       "    <tr>\n",
       "      <th>17</th>\n",
       "      <td>contributing_factor_2</td>\n",
       "      <td>0.037959</td>\n",
       "    </tr>\n",
       "    <tr>\n",
       "      <th>22</th>\n",
       "      <td>on_street_name</td>\n",
       "      <td>0.037536</td>\n",
       "    </tr>\n",
       "    <tr>\n",
       "      <th>9</th>\n",
       "      <td>vehicle_year</td>\n",
       "      <td>0.033749</td>\n",
       "    </tr>\n",
       "    <tr>\n",
       "      <th>26</th>\n",
       "      <td>crash_date_day</td>\n",
       "      <td>0.031865</td>\n",
       "    </tr>\n",
       "    <tr>\n",
       "      <th>7</th>\n",
       "      <td>vehicle_type</td>\n",
       "      <td>0.030382</td>\n",
       "    </tr>\n",
       "    <tr>\n",
       "      <th>19</th>\n",
       "      <td>zip_code</td>\n",
       "      <td>0.029741</td>\n",
       "    </tr>\n",
       "    <tr>\n",
       "      <th>30</th>\n",
       "      <td>median_household_income</td>\n",
       "      <td>0.027877</td>\n",
       "    </tr>\n",
       "    <tr>\n",
       "      <th>25</th>\n",
       "      <td>crash_date_month</td>\n",
       "      <td>0.026837</td>\n",
       "    </tr>\n",
       "    <tr>\n",
       "      <th>29</th>\n",
       "      <td>population</td>\n",
       "      <td>0.026780</td>\n",
       "    </tr>\n",
       "    <tr>\n",
       "      <th>11</th>\n",
       "      <td>driver_sex</td>\n",
       "      <td>0.024513</td>\n",
       "    </tr>\n",
       "    <tr>\n",
       "      <th>16</th>\n",
       "      <td>contributing_factor_1</td>\n",
       "      <td>0.021857</td>\n",
       "    </tr>\n",
       "    <tr>\n",
       "      <th>14</th>\n",
       "      <td>point_of_impact</td>\n",
       "      <td>0.019582</td>\n",
       "    </tr>\n",
       "    <tr>\n",
       "      <th>8</th>\n",
       "      <td>vehicle_make</td>\n",
       "      <td>0.017924</td>\n",
       "    </tr>\n",
       "    <tr>\n",
       "      <th>24</th>\n",
       "      <td>crash_date_year</td>\n",
       "      <td>0.017585</td>\n",
       "    </tr>\n",
       "    <tr>\n",
       "      <th>15</th>\n",
       "      <td>vehicle_damage</td>\n",
       "      <td>0.016733</td>\n",
       "    </tr>\n",
       "    <tr>\n",
       "      <th>28</th>\n",
       "      <td>city_info</td>\n",
       "      <td>0.012477</td>\n",
       "    </tr>\n",
       "    <tr>\n",
       "      <th>12</th>\n",
       "      <td>driver_license_status</td>\n",
       "      <td>0.011561</td>\n",
       "    </tr>\n",
       "    <tr>\n",
       "      <th>13</th>\n",
       "      <td>pre_crash</td>\n",
       "      <td>0.010954</td>\n",
       "    </tr>\n",
       "    <tr>\n",
       "      <th>18</th>\n",
       "      <td>borough</td>\n",
       "      <td>0.005199</td>\n",
       "    </tr>\n",
       "  </tbody>\n",
       "</table>\n",
       "</div>"
      ],
      "text/plain": [
       "                            feature  importance\n",
       "5                          ped_role    0.061860\n",
       "2                          ejection    0.055405\n",
       "6                        person_sex    0.050143\n",
       "10                vehicle_occupants    0.049733\n",
       "0                       person_type    0.049633\n",
       "3               position_in_vehicle    0.044819\n",
       "27                             Time    0.042979\n",
       "1                        person_age    0.042232\n",
       "21                        longitude    0.041600\n",
       "20                         latitude    0.040729\n",
       "4                  safety_equipment    0.039927\n",
       "23  number_of_contributing_vehicles    0.039828\n",
       "17            contributing_factor_2    0.037959\n",
       "22                   on_street_name    0.037536\n",
       "9                      vehicle_year    0.033749\n",
       "26                   crash_date_day    0.031865\n",
       "7                      vehicle_type    0.030382\n",
       "19                         zip_code    0.029741\n",
       "30          median_household_income    0.027877\n",
       "25                 crash_date_month    0.026837\n",
       "29                       population    0.026780\n",
       "11                       driver_sex    0.024513\n",
       "16            contributing_factor_1    0.021857\n",
       "14                  point_of_impact    0.019582\n",
       "8                      vehicle_make    0.017924\n",
       "24                  crash_date_year    0.017585\n",
       "15                   vehicle_damage    0.016733\n",
       "28                        city_info    0.012477\n",
       "12            driver_license_status    0.011561\n",
       "13                        pre_crash    0.010954\n",
       "18                          borough    0.005199"
      ]
     },
     "execution_count": 35,
     "metadata": {},
     "output_type": "execute_result"
    }
   ],
   "source": [
    "fi.head(40)"
   ]
  },
  {
   "cell_type": "code",
   "execution_count": 129,
   "id": "c852a206",
   "metadata": {
    "ExecuteTime": {
     "end_time": "2021-11-26T09:16:40.702311Z",
     "start_time": "2021-11-26T09:16:40.177576Z"
    }
   },
   "outputs": [
    {
     "data": {
      "image/png": "[encoded data removed]",
      "text/plain": [
       "<Figure size 2304x432 with 1 Axes>"
      ]
     },
     "metadata": {},
     "output_type": "display_data"
    }
   ],
   "source": [
    "# Creating a bar plot\n",
    "sns.barplot(x=fi.feature, y=fi.importance)\n",
    "# Add labels to your\n",
    "#sns.set(rc={\"figure.figsize\":(8, 4)})\n",
    "sns.set(rc={\"figure.figsize\":(20, 6)})\n",
    "\n",
    "plt.xlabel(\"Feature Importance Score\")\n",
    "plt.ylabel(\"Features\")\n",
    "plt.title(\"Visualizing Important Features\")\n",
    "plt.xticks(\n",
    "    rotation=45, horizontalalignment=\"right\", fontweight=\"light\", fontsize=\"x-large\"\n",
    ")\n",
    "plt.show()"
   ]
  },
  {
   "cell_type": "markdown",
   "id": "14da3d75",
   "metadata": {},
   "source": [
    "# Run the model on features below\n",
    "Features:  person_age, longitude, latitude, on_street_name, zip_code, crash_date_day, person_type\n"
   ]
  },
  {
   "cell_type": "code",
   "execution_count": 70,
   "id": "d4d17db4",
   "metadata": {
    "ExecuteTime": {
     "end_time": "2021-11-26T07:33:07.834652Z",
     "start_time": "2021-11-26T07:33:07.742014Z"
    }
   },
   "outputs": [],
   "source": [
    "X_res2=X_res[['person_type', 'person_age', 'ejection',\n",
    "       'position_in_vehicle', 'safety_equipment', 'ped_role', 'person_sex',\n",
    "       'vehicle_type', 'vehicle_year', 'vehicle_occupants',\n",
    "       'driver_sex', \n",
    "       'contributing_factor_1', 'contributing_factor_2',\n",
    "       'zip_code', 'latitude', 'longitude', 'on_street_name',\n",
    "       'number_of_contributing_vehicles', \n",
    "       'crash_date_month', 'crash_date_day', 'Time', 'population',\n",
    "       'median_household_income']] \n",
    "X_test2 = X_test[['person_type', 'person_age', 'ejection',\n",
    "       'position_in_vehicle', 'safety_equipment', 'ped_role', 'person_sex',\n",
    "       'vehicle_type', 'vehicle_year', 'vehicle_occupants',\n",
    "       'driver_sex',\n",
    "       'contributing_factor_1', 'contributing_factor_2',\n",
    "       'zip_code', 'latitude', 'longitude', 'on_street_name',\n",
    "       'number_of_contributing_vehicles', \n",
    "       'crash_date_month', 'crash_date_day', 'Time', 'population',\n",
    "       'median_household_income']] "
   ]
  },
  {
   "cell_type": "code",
   "execution_count": 43,
   "id": "4702523a",
   "metadata": {
    "ExecuteTime": {
     "end_time": "2021-11-25T20:42:04.549609Z",
     "start_time": "2021-11-25T20:41:19.337930Z"
    }
   },
   "outputs": [
    {
     "name": "stdout",
     "output_type": "stream",
     "text": [
      "Accuracy: 0.871215428468709\n"
     ]
    }
   ],
   "source": [
    "clf.fit(X_res3,y_res)\n",
    "y_pred=clf.predict(X_test3)\n",
    "print(\"Accuracy:\",metrics.accuracy_score(y_test, y_pred))"
   ]
  },
  {
   "cell_type": "code",
   "execution_count": 39,
   "id": "e5a9b87a",
   "metadata": {
    "ExecuteTime": {
     "end_time": "2021-11-25T20:39:27.873286Z",
     "start_time": "2021-11-25T20:39:27.842334Z"
    }
   },
   "outputs": [
    {
     "data": {
      "text/plain": [
       "array([[ 2397,  3585],\n",
       "       [ 1389, 31570]], dtype=int64)"
      ]
     },
     "execution_count": 39,
     "metadata": {},
     "output_type": "execute_result"
    }
   ],
   "source": [
    "confusion_matrix(y_test,y_pred)"
   ]
  },
  {
   "cell_type": "code",
   "execution_count": 40,
   "id": "8fdca5bb",
   "metadata": {
    "ExecuteTime": {
     "end_time": "2021-11-25T20:39:27.921124Z",
     "start_time": "2021-11-25T20:39:27.874251Z"
    }
   },
   "outputs": [
    {
     "name": "stdout",
     "output_type": "stream",
     "text": [
      "              precision    recall  f1-score   support\n",
      "\n",
      "           0       0.63      0.40      0.49      5982\n",
      "           1       0.90      0.96      0.93     32959\n",
      "\n",
      "    accuracy                           0.87     38941\n",
      "   macro avg       0.77      0.68      0.71     38941\n",
      "weighted avg       0.86      0.87      0.86     38941\n",
      "\n"
     ]
    }
   ],
   "source": [
    "print(classification_report(y_test,y_pred))"
   ]
  },
  {
   "cell_type": "code",
   "execution_count": 41,
   "id": "368e2332",
   "metadata": {
    "ExecuteTime": {
     "end_time": "2021-11-25T20:39:28.124597Z",
     "start_time": "2021-11-25T20:39:27.922122Z"
    },
    "scrolled": true
   },
   "outputs": [
    {
     "data": {
      "text/plain": [
       "<AxesSubplot:>"
      ]
     },
     "execution_count": 41,
     "metadata": {},
     "output_type": "execute_result"
    },
    {
     "data": {
      "image/png": "[encoded data removed]",
      "text/plain": [
       "<Figure size 576x288 with 2 Axes>"
      ]
     },
     "metadata": {},
     "output_type": "display_data"
    }
   ],
   "source": [
    "plot2(y_test, y_pred)"
   ]
  },
  {
   "cell_type": "markdown",
   "id": "ed7c308d",
   "metadata": {},
   "source": [
    "# Using lesser features with hypertuning parameters"
   ]
  },
  {
   "cell_type": "code",
   "execution_count": 52,
   "id": "593b278e",
   "metadata": {
    "ExecuteTime": {
     "end_time": "2021-11-25T20:51:04.760695Z",
     "start_time": "2021-11-25T20:51:04.751721Z"
    }
   },
   "outputs": [
    {
     "name": "stdout",
     "output_type": "stream",
     "text": [
      "432\n"
     ]
    }
   ],
   "source": [
    "from sklearn.model_selection import GridSearchCV\n",
    "from sklearn.ensemble import RandomForestClassifier\n",
    "from sklearn.model_selection import RandomizedSearchCV\n",
    "rfc = RandomForestClassifier()\n",
    "\n",
    "\n",
    "grid_values = {'bootstrap': [True, False],\n",
    "'max_depth': [10, 20, 30, None],\n",
    "'max_features': ['auto', 'sqrt'],\n",
    "'min_samples_leaf': [1, 2, 4],\n",
    "'min_samples_split': [2, 5, 10],\n",
    "'n_estimators': [200, 400, 600]}\n",
    "num_combinations =1\n",
    "\n",
    "for k in grid_values.keys(): num_combinations *= len(grid_values[k])\n",
    "print(num_combinations)#grid_search_rfc = GridSearchCV(rfc, param_grid = grid_values, scoring = 'precision')"
   ]
  },
  {
   "cell_type": "code",
   "execution_count": 53,
   "id": "df5a72ab",
   "metadata": {
    "ExecuteTime": {
     "end_time": "2021-11-25T20:53:20.798888Z",
     "start_time": "2021-11-25T20:53:20.792902Z"
    }
   },
   "outputs": [],
   "source": [
    "from sklearn.model_selection import RandomizedSearchCV\n",
    "# Use the random grid to search for best hyperparameters\n",
    "# First create the base model to tune\n",
    "rf = RandomForestClassifier()\n",
    "# Random search of parameters, using 3 fold cross validation,\n",
    "# search across 100 different combinations, and use all available cores\n",
    "rf_random = RandomizedSearchCV(estimator = rf, param_distributions = grid_values, n_iter = 40, cv = 3, verbose=2, random_state=42, n_jobs = -1)"
   ]
  },
  {
   "cell_type": "code",
   "execution_count": 54,
   "id": "e628ddca",
   "metadata": {
    "ExecuteTime": {
     "end_time": "2021-11-25T22:07:43.583925Z",
     "start_time": "2021-11-25T20:53:23.313763Z"
    }
   },
   "outputs": [
    {
     "name": "stdout",
     "output_type": "stream",
     "text": [
      "Fitting 3 folds for each of 40 candidates, totalling 120 fits\n"
     ]
    },
    {
     "data": {
      "text/plain": [
       "RandomizedSearchCV(cv=3, estimator=RandomForestClassifier(), n_iter=40,\n",
       "                   n_jobs=-1,\n",
       "                   param_distributions={'bootstrap': [True, False],\n",
       "                                        'max_depth': [10, 20, 30, None],\n",
       "                                        'max_features': ['auto', 'sqrt'],\n",
       "                                        'min_samples_leaf': [1, 2, 4],\n",
       "                                        'min_samples_split': [2, 5, 10],\n",
       "                                        'n_estimators': [200, 400, 600]},\n",
       "                   random_state=42, verbose=2)"
      ]
     },
     "execution_count": 54,
     "metadata": {},
     "output_type": "execute_result"
    }
   ],
   "source": [
    "rf_random.fit(X_res2, y_res)"
   ]
  },
  {
   "cell_type": "code",
   "execution_count": 55,
   "id": "bf2856e4",
   "metadata": {
    "ExecuteTime": {
     "end_time": "2021-11-25T22:07:48.429370Z",
     "start_time": "2021-11-25T22:07:43.583925Z"
    }
   },
   "outputs": [
    {
     "name": "stdout",
     "output_type": "stream",
     "text": [
      "Accuracy: 0.8745024524280322\n"
     ]
    }
   ],
   "source": [
    "y_pred=rf_random.predict(X_test2)\n",
    "print(\"Accuracy:\",metrics.accuracy_score(y_test, y_pred))"
   ]
  },
  {
   "cell_type": "code",
   "execution_count": 57,
   "id": "4d52d3cf",
   "metadata": {
    "ExecuteTime": {
     "end_time": "2021-11-26T02:26:05.664002Z",
     "start_time": "2021-11-26T02:26:05.617599Z"
    }
   },
   "outputs": [
    {
     "name": "stdout",
     "output_type": "stream",
     "text": [
      "              precision    recall  f1-score   support\n",
      "\n",
      "           0       0.65      0.39      0.49      5982\n",
      "           1       0.90      0.96      0.93     32959\n",
      "\n",
      "    accuracy                           0.87     38941\n",
      "   macro avg       0.77      0.68      0.71     38941\n",
      "weighted avg       0.86      0.87      0.86     38941\n",
      "\n"
     ]
    }
   ],
   "source": [
    "print(classification_report(y_test,y_pred))"
   ]
  },
  {
   "cell_type": "code",
   "execution_count": 62,
   "id": "c8e944bb",
   "metadata": {
    "ExecuteTime": {
     "end_time": "2021-11-26T07:15:55.333456Z",
     "start_time": "2021-11-26T07:15:55.236795Z"
    },
    "scrolled": true
   },
   "outputs": [
    {
     "data": {
      "text/plain": [
       "0.6773837953477331"
      ]
     },
     "execution_count": 62,
     "metadata": {},
     "output_type": "execute_result"
    }
   ],
   "source": [
    "from sklearn.metrics import roc_curve, auc\n",
    "false_positive_rate, true_positive_rate, thresholds = roc_curve(y_test, y_pred)\n",
    "roc_auc = auc(false_positive_rate, true_positive_rate)\n",
    "roc_auc"
   ]
  },
  {
   "cell_type": "code",
   "execution_count": 97,
   "id": "0b436c99",
   "metadata": {
    "ExecuteTime": {
     "end_time": "2021-11-26T07:42:22.595764Z",
     "start_time": "2021-11-26T07:42:22.561008Z"
    }
   },
   "outputs": [],
   "source": [
    "X_train3=X_res[['person_type', 'person_age', 'ejection',\n",
    "       'position_in_vehicle', 'safety_equipment', 'ped_role', 'person_sex',\n",
    "       'vehicle_type', 'vehicle_occupants',\n",
    "       'driver_sex', 'driver_license_status','point_of_impact',\n",
    "       'vehicle_damage', 'contributing_factor_1', 'contributing_factor_2',\n",
    "       'zip_code', 'latitude', 'longitude', 'on_street_name',\n",
    "       'number_of_contributing_vehicles', \n",
    "       'crash_date_month', 'crash_date_day', 'Time', 'population',\n",
    "       ]] \n",
    "X_test3 = X_test[['person_type', 'person_age', 'ejection',\n",
    "       'position_in_vehicle', 'safety_equipment', 'ped_role', 'person_sex',\n",
    "       'vehicle_type',  'vehicle_occupants',\n",
    "       'driver_sex', 'driver_license_status','point_of_impact',\n",
    "       'vehicle_damage', 'contributing_factor_1', 'contributing_factor_2',\n",
    "       'zip_code', 'latitude', 'longitude', 'on_street_name',\n",
    "       'number_of_contributing_vehicles', \n",
    "       'crash_date_month', 'crash_date_day', 'Time', 'population',\n",
    "   ]] "
   ]
  },
  {
   "cell_type": "code",
   "execution_count": 98,
   "id": "d141fa8c",
   "metadata": {
    "ExecuteTime": {
     "end_time": "2021-11-26T07:42:30.928992Z",
     "start_time": "2021-11-26T07:42:30.917999Z"
    }
   },
   "outputs": [
    {
     "data": {
      "text/plain": [
       "(197952, 24)"
      ]
     },
     "execution_count": 98,
     "metadata": {},
     "output_type": "execute_result"
    }
   ],
   "source": [
    "X_train3.shape"
   ]
  },
  {
   "cell_type": "code",
   "execution_count": 99,
   "id": "09b436d9",
   "metadata": {
    "ExecuteTime": {
     "end_time": "2021-11-26T07:42:32.676950Z",
     "start_time": "2021-11-26T07:42:32.663004Z"
    }
   },
   "outputs": [
    {
     "data": {
      "text/plain": [
       "(197952,)"
      ]
     },
     "execution_count": 99,
     "metadata": {},
     "output_type": "execute_result"
    }
   ],
   "source": [
    "y_res.shape"
   ]
  },
  {
   "cell_type": "code",
   "execution_count": 100,
   "id": "1c77b5fa",
   "metadata": {
    "ExecuteTime": {
     "end_time": "2021-11-26T07:42:33.722066Z",
     "start_time": "2021-11-26T07:42:33.716081Z"
    }
   },
   "outputs": [
    {
     "data": {
      "text/plain": [
       "(38941, 24)"
      ]
     },
     "execution_count": 100,
     "metadata": {},
     "output_type": "execute_result"
    }
   ],
   "source": [
    "X_test3.shape"
   ]
  },
  {
   "cell_type": "code",
   "execution_count": 101,
   "id": "ba3f2900",
   "metadata": {
    "ExecuteTime": {
     "end_time": "2021-11-26T07:42:35.496477Z",
     "start_time": "2021-11-26T07:42:35.485463Z"
    }
   },
   "outputs": [
    {
     "data": {
      "text/plain": [
       "(38941,)"
      ]
     },
     "execution_count": 101,
     "metadata": {},
     "output_type": "execute_result"
    }
   ],
   "source": [
    "y_test.shape"
   ]
  },
  {
   "cell_type": "markdown",
   "id": "79cad65f",
   "metadata": {},
   "source": [
    "# check overfitting with hypertuning parameters"
   ]
  },
  {
   "cell_type": "code",
   "execution_count": 132,
   "id": "893a8a1c",
   "metadata": {
    "ExecuteTime": {
     "end_time": "2021-11-26T09:31:44.947107Z",
     "start_time": "2021-11-26T09:31:18.226023Z"
    },
    "code_folding": []
   },
   "outputs": [],
   "source": [
    "n_estimators = [1, 2, 4, 8, 16,20,24, 32, 64]\n",
    "# n_estimators = [16, 32]\n",
    "train_results = []\n",
    "test_results = []\n",
    "for estimator in n_estimators:\n",
    "   rf = RandomForestClassifier(n_estimators=estimator, n_jobs=-1)\n",
    "   rf.fit(X_train3, y_res)\n",
    "   train_pred = rf.predict(X_train3)\n",
    "   false_positive_rate, true_positive_rate, thresholds = roc_curve(y_res, train_pred)\n",
    "   roc_auc = auc(false_positive_rate, true_positive_rate)\n",
    "   train_results.append(roc_auc)\n",
    "   y_pred = rf.predict(X_test3)\n",
    "   false_positive_rate, true_positive_rate, thresholds = roc_curve(y_test, y_pred)\n",
    "   roc_auc = auc(false_positive_rate, true_positive_rate)\n",
    "   test_results.append(roc_auc)\n",
    "    \n"
   ]
  },
  {
   "cell_type": "code",
   "execution_count": 113,
   "id": "5f4ebd3b",
   "metadata": {
    "ExecuteTime": {
     "end_time": "2021-11-26T08:05:23.250518Z",
     "start_time": "2021-11-26T08:05:23.239584Z"
    }
   },
   "outputs": [
    {
     "data": {
      "text/plain": [
       "0.6771763718758383"
      ]
     },
     "execution_count": 113,
     "metadata": {},
     "output_type": "execute_result"
    }
   ],
   "source": [
    "false_positive_rate, true_positive_rate, thresholds = roc_curve(y_test, y_pred)\n",
    "roc_auc = auc(false_positive_rate, true_positive_rate)\n",
    "roc_auc"
   ]
  },
  {
   "cell_type": "code",
   "execution_count": 114,
   "id": "8991560f",
   "metadata": {
    "ExecuteTime": {
     "end_time": "2021-11-26T08:05:27.190379Z",
     "start_time": "2021-11-26T08:05:26.960913Z"
    },
    "scrolled": false
   },
   "outputs": [
    {
     "data": {
      "image/png": "[encoded data removed]",
      "text/plain": [
       "<Figure size 576x288 with 1 Axes>"
      ]
     },
     "metadata": {},
     "output_type": "display_data"
    }
   ],
   "source": [
    "from matplotlib.legend_handler import HandlerLine2D\n",
    "line1, = plt.plot(n_estimators, train_results, 'b', label=\"Train AUC\")\n",
    "line2, = plt.plot(n_estimators, test_results, 'r', label=\"Test AUC\")\n",
    "plt.legend(handler_map={line1: HandlerLine2D(numpoints=2)})\n",
    "plt.ylabel(\"AUC score\")\n",
    "plt.xlabel(\"n_estimators\")\n",
    "plt.show()"
   ]
  },
  {
   "cell_type": "code",
   "execution_count": null,
   "id": "054c8ac3",
   "metadata": {},
   "outputs": [],
   "source": []
  },
  {
   "cell_type": "markdown",
   "id": "1a9de0a9",
   "metadata": {},
   "source": [
    "### Observation with n_estimators\n",
    "* n_estimators is good between 5 and 10. Might consider n_estimators = 8\n",
    "* Post that the model is overfitting"
   ]
  },
  {
   "cell_type": "markdown",
   "id": "cbdbe2df",
   "metadata": {},
   "source": [
    "## max_depths"
   ]
  },
  {
   "cell_type": "code",
   "execution_count": 119,
   "id": "85dd55e8",
   "metadata": {
    "ExecuteTime": {
     "end_time": "2021-11-26T08:35:51.731322Z",
     "start_time": "2021-11-26T08:29:38.998905Z"
    }
   },
   "outputs": [
    {
     "data": {
      "text/plain": [
       "0.6747319099314018"
      ]
     },
     "execution_count": 119,
     "metadata": {},
     "output_type": "execute_result"
    }
   ],
   "source": [
    "max_depths = np.linspace(1, 32, 32, endpoint=True)\n",
    "train_results = []\n",
    "test_results = []\n",
    "for max_depth in max_depths:\n",
    "   rf = RandomForestClassifier(max_depth=max_depth, n_jobs=-1)\n",
    "   rf.fit(X_train3, y_res)\n",
    "   train_pred = rf.predict(X_train3)\n",
    "   false_positive_rate, true_positive_rate, thresholds = roc_curve(y_res, train_pred)\n",
    "   roc_auc = auc(false_positive_rate, true_positive_rate)\n",
    "   train_results.append(roc_auc)\n",
    "   y_pred = rf.predict(X_test3)\n",
    "   false_positive_rate, true_positive_rate, thresholds = roc_curve(y_test, y_pred)\n",
    "   roc_auc = auc(false_positive_rate, true_positive_rate)\n",
    "   test_results.append(roc_auc)\n",
    "    \n",
    "false_positive_rate, true_positive_rate, thresholds = roc_curve(y_test, y_pred)\n",
    "roc_auc = auc(false_positive_rate, true_positive_rate)\n",
    "roc_auc"
   ]
  },
  {
   "cell_type": "code",
   "execution_count": 120,
   "id": "45d87582",
   "metadata": {
    "ExecuteTime": {
     "end_time": "2021-11-26T08:36:10.065466Z",
     "start_time": "2021-11-26T08:36:09.865409Z"
    }
   },
   "outputs": [
    {
     "data": {
      "image/png": "[encoded data removed]",
      "text/plain": [
       "<Figure size 576x288 with 1 Axes>"
      ]
     },
     "metadata": {},
     "output_type": "display_data"
    }
   ],
   "source": [
    "from matplotlib.legend_handler import HandlerLine2D\n",
    "line1, = plt.plot(max_depths, train_results, 'b', label=\"Train AUC\")\n",
    "line2, = plt.plot(max_depths, test_results, 'r', label=\"Test AUC\")\n",
    "plt.legend(handler_map={line1: HandlerLine2D(numpoints=2)})\n",
    "plt.ylabel(\"AUC score\")\n",
    "plt.xlabel(\"Tree depth\")\n",
    "plt.show()"
   ]
  },
  {
   "cell_type": "markdown",
   "id": "92b578b5",
   "metadata": {},
   "source": [
    " The max depth can be 8. After that the model starts overfitting"
   ]
  },
  {
   "cell_type": "code",
   "execution_count": 121,
   "id": "cdb03140",
   "metadata": {
    "ExecuteTime": {
     "end_time": "2021-11-26T08:42:48.682593Z",
     "start_time": "2021-11-26T08:42:48.651682Z"
    }
   },
   "outputs": [
    {
     "name": "stdout",
     "output_type": "stream",
     "text": [
      "Accuracy: 0.8757864461621427\n"
     ]
    }
   ],
   "source": [
    "print(\"Accuracy:\",metrics.accuracy_score(y_test, y_pred))"
   ]
  },
  {
   "cell_type": "code",
   "execution_count": 122,
   "id": "d7f456e3",
   "metadata": {
    "ExecuteTime": {
     "end_time": "2021-11-26T08:43:25.767430Z",
     "start_time": "2021-11-26T08:43:25.692868Z"
    }
   },
   "outputs": [
    {
     "name": "stdout",
     "output_type": "stream",
     "text": [
      "              precision    recall  f1-score   support\n",
      "\n",
      "           0       0.63      0.39      0.48      5742\n",
      "           1       0.90      0.96      0.93     33199\n",
      "\n",
      "    accuracy                           0.88     38941\n",
      "   macro avg       0.76      0.67      0.70     38941\n",
      "weighted avg       0.86      0.88      0.86     38941\n",
      "\n"
     ]
    }
   ],
   "source": [
    "print(classification_report(y_test,y_pred))"
   ]
  },
  {
   "cell_type": "code",
   "execution_count": 123,
   "id": "fe54745f",
   "metadata": {
    "ExecuteTime": {
     "end_time": "2021-11-26T08:43:44.152967Z",
     "start_time": "2021-11-26T08:43:43.730316Z"
    },
    "scrolled": true
   },
   "outputs": [
    {
     "data": {
      "text/plain": [
       "<AxesSubplot:>"
      ]
     },
     "execution_count": 123,
     "metadata": {},
     "output_type": "execute_result"
    },
    {
     "data": {
      "image/png": "[encoded data removed]",
      "text/plain": [
       "<Figure size 576x288 with 2 Axes>"
      ]
     },
     "metadata": {},
     "output_type": "display_data"
    }
   ],
   "source": [
    "plot2(y_test, y_pred)"
   ]
  },
  {
   "cell_type": "markdown",
   "id": "ec60a941",
   "metadata": {},
   "source": [
    "# min_samples_split"
   ]
  },
  {
   "cell_type": "code",
   "execution_count": 130,
   "id": "1e9d5a1d",
   "metadata": {
    "ExecuteTime": {
     "end_time": "2021-11-26T09:21:47.957377Z",
     "start_time": "2021-11-26T09:20:49.224366Z"
    }
   },
   "outputs": [
    {
     "data": {
      "text/plain": [
       "0.5"
      ]
     },
     "execution_count": 130,
     "metadata": {},
     "output_type": "execute_result"
    }
   ],
   "source": [
    "min_samples_splits = np.linspace(0.1, 1.0, 10, endpoint=True)\n",
    "train_results = []\n",
    "test_results = []\n",
    "for min_samples_split in min_samples_splits:\n",
    "   rf = RandomForestClassifier(min_samples_split=min_samples_split)\n",
    "   rf.fit(X_train3, y_res)\n",
    "   train_pred = rf.predict(X_train3)\n",
    "   false_positive_rate, true_positive_rate, thresholds = roc_curve(y_res, train_pred)\n",
    "   roc_auc = auc(false_positive_rate, true_positive_rate)\n",
    "   train_results.append(roc_auc)\n",
    "   y_pred = rf.predict(X_test3)\n",
    "   false_positive_rate, true_positive_rate, thresholds = roc_curve(y_test, y_pred)\n",
    "   roc_auc = auc(false_positive_rate, true_positive_rate)\n",
    "   test_results.append(roc_auc)\n",
    "    \n",
    "false_positive_rate, true_positive_rate, thresholds = roc_curve(y_test, y_pred)\n",
    "roc_auc = auc(false_positive_rate, true_positive_rate)\n",
    "roc_auc"
   ]
  },
  {
   "cell_type": "code",
   "execution_count": 131,
   "id": "fdd29bf9",
   "metadata": {
    "ExecuteTime": {
     "end_time": "2021-11-26T09:24:23.532437Z",
     "start_time": "2021-11-26T09:24:23.255055Z"
    },
    "scrolled": true
   },
   "outputs": [
    {
     "data": {
      "image/png": "[encoded data removed]",
      "text/plain": [
       "<Figure size 1440x432 with 1 Axes>"
      ]
     },
     "metadata": {},
     "output_type": "display_data"
    }
   ],
   "source": [
    "from matplotlib.legend_handler import HandlerLine2D\n",
    "line1, = plt.plot(min_samples_splits, train_results, 'b', label=\"Train AUC\")\n",
    "line2, = plt.plot(min_samples_splits, test_results, 'r', label=\"Test AUC\")\n",
    "plt.legend(handler_map={line1: HandlerLine2D(numpoints=2)})\n",
    "plt.ylabel(\"AUC score\")\n",
    "plt.xlabel(\"min samples split\")\n",
    "plt.show()"
   ]
  },
  {
   "cell_type": "markdown",
   "id": "04a647b2",
   "metadata": {},
   "source": [
    "Go with default values for this parameter"
   ]
  },
  {
   "cell_type": "code",
   "execution_count": 139,
   "id": "1c6ca649",
   "metadata": {
    "ExecuteTime": {
     "end_time": "2021-11-26T10:32:09.573007Z",
     "start_time": "2021-11-26T10:32:09.302762Z"
    }
   },
   "outputs": [
    {
     "name": "stdout",
     "output_type": "stream",
     "text": [
      "Probabilities \n",
      " [[0.09375  0.90625 ]\n",
      " [0.21875  0.78125 ]\n",
      " [0.28125  0.71875 ]\n",
      " [0.890625 0.109375]\n",
      " [0.078125 0.921875]\n",
      " [0.09375  0.90625 ]\n",
      " [0.171875 0.828125]\n",
      " [0.171875 0.828125]\n",
      " [0.046875 0.953125]\n",
      " [0.0625   0.9375  ]\n",
      " [0.5      0.5     ]\n",
      " [0.03125  0.96875 ]\n",
      " [0.609375 0.390625]\n",
      " [0.171875 0.828125]\n",
      " [0.484375 0.515625]\n",
      " [0.09375  0.90625 ]\n",
      " [0.359375 0.640625]\n",
      " [0.0625   0.9375  ]\n",
      " [0.28125  0.71875 ]\n",
      " [0.84375  0.15625 ]] \n",
      "\n",
      "Predictions\n",
      " [1 1 1 0 1 1 1 1 1 1 0 1 0 1 1 1 1 1 1 0]\n"
     ]
    }
   ],
   "source": [
    "y_pred_prob = rf.predict_proba(X_test3)\n",
    "# y_pred = rf.predict(X_test3)\n",
    "# y_train_pred = model_rf.predict(X_train)\n",
    "# y_valid_pred = model_rf.predict(X_valid)\n",
    "print(\"Probabilities\",\n",
    "      \"\\n\",\n",
    "      y_pred_prob[:20], \n",
    "      \"\\n\\nPredictions\\n\",\n",
    "      np.array(y_pred[:20]))"
   ]
  }
 ],
 "metadata": {
  "kernelspec": {
   "display_name": "Python 3",
   "language": "python",
   "name": "python3"
  },
  "language_info": {
   "codemirror_mode": {
    "name": "ipython",
    "version": 3
   },
   "file_extension": ".py",
   "mimetype": "text/x-python",
   "name": "python",
   "nbconvert_exporter": "python",
   "pygments_lexer": "ipython3",
   "version": "3.8.8"
  },
  "toc": {
   "base_numbering": 1,
   "nav_menu": {},
   "number_sections": true,
   "sideBar": true,
   "skip_h1_title": false,
   "title_cell": "Table of Contents",
   "title_sidebar": "Contents",
   "toc_cell": false,
   "toc_position": {
    "height": "calc(100% - 180px)",
    "left": "10px",
    "top": "150px",
    "width": "284.444px"
   },
   "toc_section_display": true,
   "toc_window_display": true
  }
 },
 "nbformat": 4,
 "nbformat_minor": 5
}
