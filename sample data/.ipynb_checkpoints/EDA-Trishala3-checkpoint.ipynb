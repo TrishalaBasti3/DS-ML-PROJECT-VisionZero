{
 "cells": [
  {
   "cell_type": "code",
   "execution_count": null,
   "id": "b21e7207",
   "metadata": {
    "ExecuteTime": {
     "end_time": "2021-10-31T19:53:32.118592Z",
     "start_time": "2021-10-31T19:53:16.971576Z"
    }
   },
   "outputs": [],
   "source": [
    "import pandas as pd\n",
    "import numpy as np\n",
    "import seaborn as sns\n",
    "import matplotlib.pyplot as plt\n",
    "from matplotlib.pyplot import figure\n",
    "import pylab"
   ]
  },
  {
   "cell_type": "code",
   "execution_count": null,
   "id": "f34741f4",
   "metadata": {
    "ExecuteTime": {
     "end_time": "2021-10-31T19:53:35.823035Z",
     "start_time": "2021-10-31T19:53:35.816475Z"
    }
   },
   "outputs": [],
   "source": [
    "class color:\n",
    "    PURPLE = '\\033[95m'\n",
    "    CYAN = '\\033[96m'\n",
    "    DARKCYAN = '\\033[36m'\n",
    "    BLUE = '\\033[94m'\n",
    "    GREEN = '\\033[92m'\n",
    "    YELLOW = '\\033[93m'\n",
    "    RED = '\\033[91m'\n",
    "    BOLD = '\\033[1m'\n",
    "    UNDERLINE = '\\033[4m'\n",
    "    END = '\\033[0m'"
   ]
  },
  {
   "cell_type": "code",
   "execution_count": null,
   "id": "59bb7de9",
   "metadata": {
    "ExecuteTime": {
     "end_time": "2021-10-31T19:53:38.046325Z",
     "start_time": "2021-10-31T19:53:38.030414Z"
    }
   },
   "outputs": [],
   "source": [
    "# To see all the columns \n",
    "pd.set_option('display.max_columns', 85)\n",
    "pd.set_option('display.max_rows', 300)"
   ]
  },
  {
   "cell_type": "code",
   "execution_count": null,
   "id": "f9f0d07c",
   "metadata": {
    "ExecuteTime": {
     "end_time": "2021-10-31T19:53:40.431078Z",
     "start_time": "2021-10-31T19:53:39.860690Z"
    }
   },
   "outputs": [],
   "source": [
    "crashes = pd.read_csv(\"C:\\\\CompletePython\\\\DataScience\\VisionZero\\\\2016\\\\crashes.sample.csv\")\n",
    "people = pd.read_csv(\"C:\\\\CompletePython\\\\DataScience\\VisionZero\\\\2016\\\\people.sample.csv\")\n",
    "vehicles= pd.read_csv(\"C:\\\\CompletePython\\\\DataScience\\VisionZero\\\\2016\\\\vehicles.sample.csv\")"
   ]
  },
  {
   "cell_type": "code",
   "execution_count": null,
   "id": "aa526b49",
   "metadata": {
    "ExecuteTime": {
     "end_time": "2021-10-31T19:53:42.014735Z",
     "start_time": "2021-10-31T19:53:41.947273Z"
    }
   },
   "outputs": [],
   "source": [
    "crashes.head(2)"
   ]
  },
  {
   "cell_type": "code",
   "execution_count": null,
   "id": "63c02b9d",
   "metadata": {
    "ExecuteTime": {
     "end_time": "2021-10-31T19:53:43.217038Z",
     "start_time": "2021-10-31T19:53:43.175192Z"
    }
   },
   "outputs": [],
   "source": [
    "people.head(2)"
   ]
  },
  {
   "cell_type": "code",
   "execution_count": null,
   "id": "7515fd2d",
   "metadata": {
    "ExecuteTime": {
     "end_time": "2021-10-31T19:53:45.148202Z",
     "start_time": "2021-10-31T19:53:45.102444Z"
    }
   },
   "outputs": [],
   "source": [
    "vehicles.head(2)"
   ]
  },
  {
   "cell_type": "markdown",
   "id": "7249ffcd",
   "metadata": {},
   "source": [
    "#\n",
    "1. Find the shape of the data\n",
    "2. Find the number of Unique values in each column in the data\n",
    "3. Find the total null value in the data\n",
    "4. Find the null value percentage in each column of the data\n",
    "5. Find the dtype of the data\n",
    "6. Find the min, max and mean of the data.\n",
    "7. Descriptive statistics of each column\n"
   ]
  },
  {
   "cell_type": "code",
   "execution_count": null,
   "id": "b6cabb61",
   "metadata": {
    "ExecuteTime": {
     "end_time": "2021-10-31T17:28:58.652576Z",
     "start_time": "2021-10-31T17:28:58.644598Z"
    }
   },
   "outputs": [],
   "source": [
    "# Function to find the shape of the dataset\n",
    "def df_shape(df):\n",
    "    print(\"Shape of the dataset\")\n",
    "    print (df.shape)\n",
    "    print(\"\\n\")\n",
    "    print(color.CYAN + color.UNDERLINE + color.BOLD + \n",
    "          \"Number of unique values in each column:\" + color.END)\n",
    "    print (df.nunique().sort_values(ascending=False))\n",
    "    print (\"\\n\")\n",
    "    print (color.CYAN + color.UNDERLINE + color.BOLD + \n",
    "           \"Datatypes of each column\" + color.END)\n",
    "    print (df.dtypes)\n",
    "    print(color.CYAN + color.UNDERLINE + color.BOLD +\n",
    "          \"\\nNumber of missing values in each column\"  + color.END )\n",
    "    print(df.isnull().sum().sort_values(ascending=False))\n",
    "    print(color.CYAN + color.UNDERLINE + color.BOLD + \n",
    "          \"\\nPercentage of missing values in each column\" + color.END)\n",
    "    percentage_missing = df.isnull().sum() * 100 / len(df)\n",
    "    print(percentage_missing.sort_values(ascending=False))\n",
    "    "
   ]
  },
  {
   "cell_type": "code",
   "execution_count": null,
   "id": "79ea9525",
   "metadata": {},
   "outputs": [],
   "source": [
    "#type(crashes[\"borough\"])\n",
    "#crashes[\"borough\"].head(3)\n",
    "\n",
    "# For value counts\n",
    "#df[\"column_name\"].value_counts()"
   ]
  },
  {
   "cell_type": "code",
   "execution_count": null,
   "id": "90f6fe3d",
   "metadata": {
    "ExecuteTime": {
     "end_time": "2021-10-31T17:29:04.840781Z",
     "start_time": "2021-10-31T17:29:04.757254Z"
    },
    "code_folding": []
   },
   "outputs": [],
   "source": [
    "#crashes_shape = df_shape(crashes)\n",
    "crashes_data = df_shape(crashes)\n",
    "print (crashes_data)"
   ]
  },
  {
   "cell_type": "code",
   "execution_count": null,
   "id": "0da19e16",
   "metadata": {
    "ExecuteTime": {
     "end_time": "2021-10-31T17:29:09.537549Z",
     "start_time": "2021-10-31T17:29:09.521604Z"
    }
   },
   "outputs": [],
   "source": [
    "crashes_location = crashes[\"location\"].value_counts().sort_values(ascending=False)"
   ]
  },
  {
   "cell_type": "code",
   "execution_count": null,
   "id": "f2d760ae",
   "metadata": {
    "ExecuteTime": {
     "end_time": "2021-10-31T17:29:11.160049Z",
     "start_time": "2021-10-31T17:29:11.154042Z"
    }
   },
   "outputs": [],
   "source": [
    "crashes_location.head(20)"
   ]
  },
  {
   "cell_type": "markdown",
   "id": "12af7efe",
   "metadata": {},
   "source": [
    "# Notes for CRASHES\n",
    "\n",
    "\n",
    "### Observation:\n",
    "6. number_of_persons_injured          int64\n",
    "7. number_of_persons_injured =    number_of_pedestrians_injured + number_of_cyclist_injured + number_of_motorist_injured  \n",
    "8. Similarly for the killed\n",
    "9. Based on (7th and 8th observation), need to make a call on how to handle feature engineering. [NOTNOW]\n",
    "### To do \n",
    "\n",
    "1. number_of_persons_killed is in float64. Convert to int\n",
    "2. zip_code  is in float64. Convert it into Object\n",
    "3. Location is a combination of longitude and latitude. Check and probably can delete the Location column.\n",
    "4. crash_date is in object. Convert to datetime\n",
    "5. crash_time is in object. convert to datetime. \n",
    "10. Find out the total number of pedestrians injured/killed\n",
    "11. Total number of cyclist. injured/killed\n",
    "12. Total number of motorist. injured/killed\n",
    "13. The contribution factors can be grouped as follows referring to the column:\n",
    "    * Natural disaster or weather issue\n",
    "    * Infrastructure issue\n",
    "    * User error (Human Mistake)\n",
    "    * Automobile issue\n",
    "    * \n",
    " 14. Group by contribution factors to the number of injuries and deaths. Create graphs\n",
    " 15. Question to explore: Is the Contributing factor 1; is the primary factor, and 2 as the secondary. and 3 as tertiary. \n",
    " 16. Question to explore \n",
    " 17. Correlation matrix\n",
    " 18. Should we set any column as the index column?\n",
    " 19. Contributing factor 1 is for vehicle 1, factor 2 is for vehicle 2.. and so on. So it talks about the number of vehicles involved and their contributing factors. So The one which are Null, should not be removed. Instead, the below can be done:\n",
    "    * for null values, mention not applicable\n",
    "    * create a new column indicating the number of vehicles involved in the accident. \n",
    " 20. Check whether the sedans are mostly higher in number because they are the ones used as cabs. (Taxi driver) \n",
    " 21. Check the number of missing values of Borough and zip code in the vehicles and people. The null values in these can be imputed using longitude and lattitdue. (https://medium.com/@m.majidpour/extracting-zip-codes-from-longitude-and-latitude-in-pyspark-eafbcfef474c#:~:text=There%20are%20handful%20packages%20in%20Python%20where%20one,API%20each%20time%20a%20request%20is%20being%20submitted.)\n",
    " 22. Impute missing values for cross street name and offstreet name using the zip code, longitude and latitude. Need to explore if this is possible. \n",
    " 23. There can be possibility to drop columns borough, streetnames, location, "
   ]
  },
  {
   "cell_type": "code",
   "execution_count": null,
   "id": "4fc8faad",
   "metadata": {},
   "outputs": [],
   "source": []
  },
  {
   "cell_type": "code",
   "execution_count": null,
   "id": "75d0a7af",
   "metadata": {
    "ExecuteTime": {
     "end_time": "2021-10-31T17:29:18.832813Z",
     "start_time": "2021-10-31T17:29:18.698096Z"
    }
   },
   "outputs": [],
   "source": [
    "people_data = df_shape(people)\n",
    "print (people_data)"
   ]
  },
  {
   "cell_type": "code",
   "execution_count": null,
   "id": "e64fd944",
   "metadata": {
    "ExecuteTime": {
     "end_time": "2021-10-31T17:30:02.941126Z",
     "start_time": "2021-10-31T17:30:02.878014Z"
    }
   },
   "outputs": [],
   "source": [
    "vehicles_data = df_shape(vehicles)\n",
    "print (vehicles_data)"
   ]
  },
  {
   "cell_type": "code",
   "execution_count": null,
   "id": "3e743e23",
   "metadata": {},
   "outputs": [],
   "source": []
  },
  {
   "cell_type": "code",
   "execution_count": null,
   "id": "5df5d2f9",
   "metadata": {},
   "outputs": [],
   "source": []
  },
  {
   "cell_type": "code",
   "execution_count": null,
   "id": "f19cbfad",
   "metadata": {
    "scrolled": true
   },
   "outputs": [],
   "source": [
    "#crashes.loc[0]"
   ]
  },
  {
   "cell_type": "code",
   "execution_count": null,
   "id": "fb99c451",
   "metadata": {
    "scrolled": true
   },
   "outputs": [],
   "source": [
    "#crashes.loc[3000]"
   ]
  },
  {
   "cell_type": "code",
   "execution_count": null,
   "id": "eb57521f",
   "metadata": {},
   "outputs": [],
   "source": [
    "#crashes['contributing_factor_vehicle_1'].value_counts()"
   ]
  },
  {
   "cell_type": "code",
   "execution_count": null,
   "id": "a744ae97",
   "metadata": {
    "scrolled": false
   },
   "outputs": [],
   "source": [
    "crashes['contributing_factor_vehicle_2'].value_counts()"
   ]
  },
  {
   "cell_type": "code",
   "execution_count": null,
   "id": "5a4b7c80",
   "metadata": {},
   "outputs": [],
   "source": [
    "crashes['vehicle_type_code_1'].value_counts()"
   ]
  },
  {
   "cell_type": "code",
   "execution_count": null,
   "id": "8962e7f9",
   "metadata": {
    "scrolled": false
   },
   "outputs": [],
   "source": [
    "crashes['vehicle_type_code_2'].value_counts()"
   ]
  },
  {
   "cell_type": "code",
   "execution_count": null,
   "id": "588f2b0a",
   "metadata": {
    "scrolled": true
   },
   "outputs": [],
   "source": [
    "crashes['number_of_persons_injured'].value_counts()"
   ]
  },
  {
   "cell_type": "code",
   "execution_count": null,
   "id": "9db69826",
   "metadata": {},
   "outputs": [],
   "source": [
    "crashes['number_of_persons_killed'].value_counts()"
   ]
  },
  {
   "cell_type": "code",
   "execution_count": null,
   "id": "20105781",
   "metadata": {},
   "outputs": [],
   "source": [
    "contributingfactorvehicle1_drugs = (crashes[\"contributing_factor_vehicle_1\"] =='Drugs (illegal)')\n",
    "crashes[contributingfactorvehicle1_drugs]"
   ]
  },
  {
   "cell_type": "code",
   "execution_count": null,
   "id": "db091f6a",
   "metadata": {},
   "outputs": [],
   "source": [
    "contributingfactorvehicle1_UnsafeSpeed = (crashes[\"contributing_factor_vehicle_1\"] =='Unsafe Speed')\n",
    "crashes[contributingfactorvehicle1_UnsafeSpeed]"
   ]
  },
  {
   "cell_type": "code",
   "execution_count": null,
   "id": "9749372a",
   "metadata": {
    "scrolled": true
   },
   "outputs": [],
   "source": [
    "crashes[contributingfactorvehicle1_drugs]"
   ]
  },
  {
   "cell_type": "code",
   "execution_count": null,
   "id": "5b63d085",
   "metadata": {
    "scrolled": true
   },
   "outputs": [],
   "source": [
    "crashes['borough'].value_counts()\n"
   ]
  },
  {
   "cell_type": "code",
   "execution_count": null,
   "id": "14d86387",
   "metadata": {
    "scrolled": true
   },
   "outputs": [],
   "source": [
    "filt = (crashes['borough'] == \"BROOKLYN\") & (crashes[\"vehicle_type_code_1\"] == \"Sedan\")\n",
    "crashes.loc[filt, \"contributing_factor_vehicle_1\"]"
   ]
  },
  {
   "cell_type": "code",
   "execution_count": null,
   "id": "87f34b4a",
   "metadata": {
    "scrolled": false
   },
   "outputs": [],
   "source": [
    "crashes.loc[~filt]"
   ]
  },
  {
   "cell_type": "code",
   "execution_count": null,
   "id": "fd3b137c",
   "metadata": {},
   "outputs": [],
   "source": [
    "people[\"person_age\"].min()"
   ]
  },
  {
   "cell_type": "code",
   "execution_count": null,
   "id": "5868f355",
   "metadata": {},
   "outputs": [],
   "source": [
    "people[\"person_age\"].max()"
   ]
  },
  {
   "cell_type": "markdown",
   "id": "88899be9",
   "metadata": {},
   "source": [
    "# Merge Vehicle data with Peoples data\n",
    "* People data is important. We need to merge vehicle with Peoples using vehicleID keeping "
   ]
  },
  {
   "cell_type": "code",
   "execution_count": null,
   "id": "a45efb92",
   "metadata": {
    "ExecuteTime": {
     "end_time": "2021-10-31T17:40:37.556513Z",
     "start_time": "2021-10-31T17:40:37.546496Z"
    }
   },
   "outputs": [],
   "source": [
    "#crashes = crashes.astype({'number_of_persons_killed': np.int})\n",
    "#vehicles = vehicles.astype({'vehicle_id': np.float})\n",
    "people['vehicle_id'] = people['vehicle_id'].astype(object)\n",
    "#people = people.astype({'vehicle_id': })"
   ]
  },
  {
   "cell_type": "code",
   "execution_count": null,
   "id": "a0a125a4",
   "metadata": {
    "ExecuteTime": {
     "end_time": "2021-10-31T17:40:40.735520Z",
     "start_time": "2021-10-31T17:40:40.690721Z"
    }
   },
   "outputs": [],
   "source": [
    "people_vehicles_inner = pd.merge(people, vehicles, how=\"inner\", on=\"vehicle_id\" )"
   ]
  },
  {
   "cell_type": "code",
   "execution_count": null,
   "id": "d878412b",
   "metadata": {
    "ExecuteTime": {
     "end_time": "2021-10-31T17:42:34.058610Z",
     "start_time": "2021-10-31T17:42:34.052627Z"
    }
   },
   "outputs": [],
   "source": [
    "people_vehicles_inner.shape\n"
   ]
  },
  {
   "cell_type": "code",
   "execution_count": null,
   "id": "1be385cc",
   "metadata": {
    "ExecuteTime": {
     "end_time": "2021-10-31T19:57:55.806989Z",
     "start_time": "2021-10-31T19:57:55.763015Z"
    }
   },
   "outputs": [],
   "source": [
    "person_id = people[people[\"collision_id\"]==3425125]\n",
    "person_id"
   ]
  },
  {
   "cell_type": "code",
   "execution_count": null,
   "id": "67a468e4",
   "metadata": {
    "ExecuteTime": {
     "end_time": "2021-10-31T19:58:11.356724Z",
     "start_time": "2021-10-31T19:58:11.300863Z"
    },
    "scrolled": true
   },
   "outputs": [],
   "source": [
    "vehicle_id = vehicles[vehicles[\"collision_id\"]==3425125]\n",
    "vehicle_id"
   ]
  },
  {
   "cell_type": "code",
   "execution_count": null,
   "id": "f0bf142a",
   "metadata": {
    "ExecuteTime": {
     "end_time": "2021-10-31T19:58:09.662785Z",
     "start_time": "2021-10-31T19:58:09.651665Z"
    }
   },
   "outputs": [],
   "source": [
    "crashes = crashes[crashes[\"collision_id\"]==3425125]"
   ]
  },
  {
   "cell_type": "code",
   "execution_count": null,
   "id": "d9b867fe",
   "metadata": {
    "ExecuteTime": {
     "end_time": "2021-10-31T20:00:18.262664Z",
     "start_time": "2021-10-31T20:00:18.232998Z"
    },
    "scrolled": true
   },
   "outputs": [],
   "source": [
    "person_id = people[people[\"collision_id\"]==4407638]\n",
    "person_id"
   ]
  },
  {
   "cell_type": "code",
   "execution_count": null,
   "id": "dc5da507",
   "metadata": {
    "ExecuteTime": {
     "end_time": "2021-10-31T20:00:28.642699Z",
     "start_time": "2021-10-31T20:00:28.603611Z"
    }
   },
   "outputs": [],
   "source": [
    "vehicle_id2 = vehicles[vehicles[\"collision_id\"]==4407638]\n",
    "vehicle_id"
   ]
  },
  {
   "cell_type": "code",
   "execution_count": null,
   "id": "67627585",
   "metadata": {
    "ExecuteTime": {
     "end_time": "2021-10-31T20:00:29.772624Z",
     "start_time": "2021-10-31T20:00:29.745582Z"
    }
   },
   "outputs": [],
   "source": [
    "crashes_id2 = crashes[crashes[\"collision_id\"]==4407638]\n",
    "crashes_id"
   ]
  }
 ],
 "metadata": {
  "kernelspec": {
   "display_name": "Python 3",
   "language": "python",
   "name": "python3"
  },
  "language_info": {
   "codemirror_mode": {
    "name": "ipython",
    "version": 3
   },
   "file_extension": ".py",
   "mimetype": "text/x-python",
   "name": "python",
   "nbconvert_exporter": "python",
   "pygments_lexer": "ipython3",
   "version": "3.8.8"
  },
  "toc": {
   "base_numbering": 1,
   "nav_menu": {},
   "number_sections": true,
   "sideBar": true,
   "skip_h1_title": false,
   "title_cell": "Table of Contents",
   "title_sidebar": "Contents",
   "toc_cell": false,
   "toc_position": {
    "height": "calc(100% - 180px)",
    "left": "10px",
    "top": "150px",
    "width": "256px"
   },
   "toc_section_display": true,
   "toc_window_display": false
  }
 },
 "nbformat": 4,
 "nbformat_minor": 5
}
