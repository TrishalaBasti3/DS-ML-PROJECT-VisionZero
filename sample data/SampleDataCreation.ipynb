{
 "cells": [
  {
   "cell_type": "code",
   "execution_count": 1,
   "id": "d9886594",
   "metadata": {},
   "outputs": [],
   "source": [
    "\n",
    "import pandas as pd\n",
    "import numpy as np\n",
    "import seaborn as sns\n",
    "import matplotlib.pyplot as plt\n",
    "from matplotlib.pyplot import figure\n",
    "\n",
    "import pylab\n"
   ]
  },
  {
   "cell_type": "code",
   "execution_count": 2,
   "id": "1d3a03a4",
   "metadata": {},
   "outputs": [],
   "source": [
    "# read as object to avoid that pandas does any smart type conversion\n",
    "# because want to store sample data in exactly the same format as original data\n",
    "crashes = pd.read_csv(\"C:\\\\CompletePython\\\\DataScience\\VisionZero\\\\sample data\\\\crashes.sample.csv\",dtype=object)\n",
    "# people = pd.read_csv(\"C:/Users/arikm/Desktop/sample data/people.sample.csv\" , dtype=object)\n",
    "# vehicles= pd.read_csv(\"C:/Users/arikm/Desktop/sample data/vehicles.sample.csv\",dtype=object)\n",
    "#dtype=objectb"
   ]
  },
  {
   "cell_type": "code",
   "execution_count": 3,
   "id": "3a35e035",
   "metadata": {},
   "outputs": [],
   "source": [
    "people = pd.read_csv(\"C:\\\\CompletePython\\\\DataScience\\VisionZero\\\\sample data\\\\people.sample.csv\" , dtype=object)\n",
    "vehicles= pd.read_csv(\"C:\\\\CompletePython\\\\DataScience\\VisionZero\\\\sample data\\\\vehicles.sample.csv\",dtype=object)"
   ]
  },
  {
   "cell_type": "code",
   "execution_count": 4,
   "id": "7b2a57cb",
   "metadata": {},
   "outputs": [],
   "source": [
    "\n",
    "# keep only crashes from April 2016\n",
    "dates_parsed = pd.to_datetime(crashes[\"crash_date\"])\n",
    "crashes = crashes[dates_parsed >= pd.to_datetime(\"2016-04-01\")]"
   ]
  },
  {
   "cell_type": "code",
   "execution_count": 5,
   "id": "09ac4c40",
   "metadata": {},
   "outputs": [],
   "source": [
    "# get 10% sample of crashes\n",
    "in_sample = np.random.rand(len(crashes)) < 0.1\n",
    "crashes_sample = crashes[in_sample]"
   ]
  },
  {
   "cell_type": "code",
   "execution_count": 6,
   "id": "06c660d3",
   "metadata": {},
   "outputs": [],
   "source": [
    "# get associated vehicles and people\n",
    "included_collision_ids = set(crashes_sample[\"collision_id\"])\n",
    "vehicles_sample = vehicles[vehicles[\"collision_id\"].apply(lambda r: r in included_collision_ids)]\n",
    "people_sample = people[people[\"collision_id\"].apply(lambda r: r in included_collision_ids)]"
   ]
  },
  {
   "cell_type": "code",
   "execution_count": 7,
   "id": "17e1e3fc",
   "metadata": {},
   "outputs": [],
   "source": [
    "# store\n",
    "crashes_sample.to_csv(\"C:\\\\CompletePython\\\\DataScience\\VisionZero\\\\2016\\\\crashes.sample.csv\", index=False)\n",
    "vehicles_sample.to_csv(\"C:\\\\CompletePython\\\\DataScience\\VisionZero\\\\2016\\\\vehicles.sample.csv\", index=False)\n",
    "people_sample.to_csv(\"C:\\\\CompletePython\\\\DataScience\\VisionZero\\\\2016\\\\people.sample.csv\", index=False)"
   ]
  }
 ],
 "metadata": {
  "kernelspec": {
   "display_name": "Python 3",
   "language": "python",
   "name": "python3"
  },
  "language_info": {
   "codemirror_mode": {
    "name": "ipython",
    "version": 3
   },
   "file_extension": ".py",
   "mimetype": "text/x-python",
   "name": "python",
   "nbconvert_exporter": "python",
   "pygments_lexer": "ipython3",
   "version": "3.8.8"
  },
  "toc": {
   "base_numbering": 1,
   "nav_menu": {},
   "number_sections": true,
   "sideBar": true,
   "skip_h1_title": false,
   "title_cell": "Table of Contents",
   "title_sidebar": "Contents",
   "toc_cell": false,
   "toc_position": {},
   "toc_section_display": true,
   "toc_window_display": false
  }
 },
 "nbformat": 4,
 "nbformat_minor": 5
}
