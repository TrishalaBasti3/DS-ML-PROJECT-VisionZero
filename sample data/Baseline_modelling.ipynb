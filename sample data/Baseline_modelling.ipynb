{
 "cells": [
  {
   "cell_type": "code",
   "execution_count": 1,
   "id": "52093cf8",
   "metadata": {
    "ExecuteTime": {
     "end_time": "2021-11-28T16:42:35.003494Z",
     "start_time": "2021-11-28T16:42:33.305152Z"
    }
   },
   "outputs": [],
   "source": [
    "import pandas as pd\n",
    "import numpy as np\n",
    "import seaborn as sns\n",
    "import matplotlib.pyplot as plt\n",
    "from matplotlib.pyplot import figure\n",
    "\n",
    "# To see all the columns \n",
    "pd.set_option('display.max_columns', 85)\n",
    "pd.set_option('display.max_rows', 100)"
   ]
  },
  {
   "cell_type": "code",
   "execution_count": 2,
   "id": "3da299b8",
   "metadata": {
    "ExecuteTime": {
     "end_time": "2021-11-28T16:42:46.880028Z",
     "start_time": "2021-11-28T16:42:45.880395Z"
    }
   },
   "outputs": [],
   "source": [
    "df= pd.read_csv(\"C:\\\\CompletePython\\\\DataScience\\VisionZero\\\\2016\\\\crashes_datetime7.csv\")"
   ]
  },
  {
   "cell_type": "code",
   "execution_count": 3,
   "id": "120d197d",
   "metadata": {
    "ExecuteTime": {
     "end_time": "2021-11-28T16:54:05.224232Z",
     "start_time": "2021-11-28T16:54:05.209273Z"
    }
   },
   "outputs": [
    {
     "data": {
      "text/plain": [
       "Index(['Unnamed: 0', 'Unnamed: 0.1', 'crash_date_new', 'person_type',\n",
       "       'person_injury', 'person_age', 'ejection', 'position_in_vehicle',\n",
       "       'safety_equipment', 'ped_role', 'person_sex', 'vehicle_type',\n",
       "       'vehicle_make', 'vehicle_year', 'vehicle_occupants', 'driver_sex',\n",
       "       'driver_license_status', 'pre_crash', 'point_of_impact',\n",
       "       'vehicle_damage', 'contributing_factor_1', 'contributing_factor_2',\n",
       "       'borough', 'zip_code', 'latitude', 'longitude', 'on_street_name',\n",
       "       'collision_id', 'number_of_contributing_vehicles', 'crash_date_year',\n",
       "       'crash_date_month', 'crash_date_day', 'Time', 'completedate',\n",
       "       'city_info', 'population', 'median_household_income'],\n",
       "      dtype='object')"
      ]
     },
     "execution_count": 3,
     "metadata": {},
     "output_type": "execute_result"
    }
   ],
   "source": [
    "df.columns"
   ]
  },
  {
   "cell_type": "code",
   "execution_count": 4,
   "id": "40b57fc6",
   "metadata": {
    "ExecuteTime": {
     "end_time": "2021-11-28T16:54:22.847824Z",
     "start_time": "2021-11-28T16:54:22.795079Z"
    }
   },
   "outputs": [],
   "source": [
    "df=df.drop(['collision_id','Unnamed: 0','completedate','Unnamed: 0.1','crash_date_new','collision_id'], axis=1)"
   ]
  },
  {
   "cell_type": "code",
   "execution_count": 5,
   "id": "4e7bd9ba",
   "metadata": {
    "ExecuteTime": {
     "end_time": "2021-11-28T16:54:45.388908Z",
     "start_time": "2021-11-28T16:54:45.360013Z"
    }
   },
   "outputs": [
    {
     "data": {
      "text/html": [
       "<div>\n",
       "<style scoped>\n",
       "    .dataframe tbody tr th:only-of-type {\n",
       "        vertical-align: middle;\n",
       "    }\n",
       "\n",
       "    .dataframe tbody tr th {\n",
       "        vertical-align: top;\n",
       "    }\n",
       "\n",
       "    .dataframe thead th {\n",
       "        text-align: right;\n",
       "    }\n",
       "</style>\n",
       "<table border=\"1\" class=\"dataframe\">\n",
       "  <thead>\n",
       "    <tr style=\"text-align: right;\">\n",
       "      <th></th>\n",
       "      <th>person_type</th>\n",
       "      <th>person_injury</th>\n",
       "      <th>person_age</th>\n",
       "      <th>ejection</th>\n",
       "      <th>position_in_vehicle</th>\n",
       "      <th>safety_equipment</th>\n",
       "      <th>ped_role</th>\n",
       "      <th>person_sex</th>\n",
       "      <th>vehicle_type</th>\n",
       "      <th>vehicle_make</th>\n",
       "      <th>vehicle_year</th>\n",
       "      <th>vehicle_occupants</th>\n",
       "      <th>driver_sex</th>\n",
       "      <th>driver_license_status</th>\n",
       "      <th>pre_crash</th>\n",
       "      <th>point_of_impact</th>\n",
       "      <th>vehicle_damage</th>\n",
       "      <th>contributing_factor_1</th>\n",
       "      <th>contributing_factor_2</th>\n",
       "      <th>borough</th>\n",
       "      <th>zip_code</th>\n",
       "      <th>latitude</th>\n",
       "      <th>longitude</th>\n",
       "      <th>on_street_name</th>\n",
       "      <th>number_of_contributing_vehicles</th>\n",
       "      <th>crash_date_year</th>\n",
       "      <th>crash_date_month</th>\n",
       "      <th>crash_date_day</th>\n",
       "      <th>Time</th>\n",
       "      <th>city_info</th>\n",
       "      <th>population</th>\n",
       "      <th>median_household_income</th>\n",
       "    </tr>\n",
       "  </thead>\n",
       "  <tbody>\n",
       "    <tr>\n",
       "      <th>0</th>\n",
       "      <td>OCCUPANT</td>\n",
       "      <td>NOT INJURED</td>\n",
       "      <td>52.0</td>\n",
       "      <td>NOT EJECTED</td>\n",
       "      <td>DRIVER</td>\n",
       "      <td>LAP BELT &amp; HARNESS</td>\n",
       "      <td>DRIVER</td>\n",
       "      <td>M</td>\n",
       "      <td>UNSPECIFIED</td>\n",
       "      <td>UNSPECIFIED</td>\n",
       "      <td>UNSPECIFIED</td>\n",
       "      <td>UNSPECIFIED</td>\n",
       "      <td>M</td>\n",
       "      <td>UNSPECIFIED</td>\n",
       "      <td>NOT_AVALIBLE</td>\n",
       "      <td>NOT_AVALIBLE</td>\n",
       "      <td>NOT_AVALIBLE</td>\n",
       "      <td>NOT_AVALIBLE</td>\n",
       "      <td>NOT_AVALIBLE</td>\n",
       "      <td>QUEENS</td>\n",
       "      <td>11378</td>\n",
       "      <td>40.725560</td>\n",
       "      <td>-73.89849</td>\n",
       "      <td>LONG ISLAND EXPRESSWAY</td>\n",
       "      <td>2</td>\n",
       "      <td>2019</td>\n",
       "      <td>10</td>\n",
       "      <td>26</td>\n",
       "      <td>16:30:00</td>\n",
       "      <td>Maspeth</td>\n",
       "      <td>34981.0</td>\n",
       "      <td>57474.0</td>\n",
       "    </tr>\n",
       "    <tr>\n",
       "      <th>1</th>\n",
       "      <td>OCCUPANT</td>\n",
       "      <td>NOT INJURED</td>\n",
       "      <td>41.0</td>\n",
       "      <td>NOT EJECTED</td>\n",
       "      <td>DRIVER</td>\n",
       "      <td>LAP BELT</td>\n",
       "      <td>DRIVER</td>\n",
       "      <td>M</td>\n",
       "      <td>UNSPECIFIED</td>\n",
       "      <td>UNSPECIFIED</td>\n",
       "      <td>UNSPECIFIED</td>\n",
       "      <td>UNSPECIFIED</td>\n",
       "      <td>M</td>\n",
       "      <td>UNSPECIFIED</td>\n",
       "      <td>NOT_AVALIBLE</td>\n",
       "      <td>NOT_AVALIBLE</td>\n",
       "      <td>NOT_AVALIBLE</td>\n",
       "      <td>NOT_AVALIBLE</td>\n",
       "      <td>NOT_AVALIBLE</td>\n",
       "      <td>MANHATTAN</td>\n",
       "      <td>10025</td>\n",
       "      <td>40.793377</td>\n",
       "      <td>-73.97086</td>\n",
       "      <td>AMSTERDAM AVENUE</td>\n",
       "      <td>2</td>\n",
       "      <td>2019</td>\n",
       "      <td>10</td>\n",
       "      <td>26</td>\n",
       "      <td>20:00:00</td>\n",
       "      <td>New York</td>\n",
       "      <td>94600.0</td>\n",
       "      <td>68516.0</td>\n",
       "    </tr>\n",
       "  </tbody>\n",
       "</table>\n",
       "</div>"
      ],
      "text/plain": [
       "  person_type person_injury  person_age     ejection position_in_vehicle  \\\n",
       "0    OCCUPANT   NOT INJURED        52.0  NOT EJECTED              DRIVER   \n",
       "1    OCCUPANT   NOT INJURED        41.0  NOT EJECTED              DRIVER   \n",
       "\n",
       "     safety_equipment ped_role person_sex vehicle_type vehicle_make  \\\n",
       "0  LAP BELT & HARNESS   DRIVER          M  UNSPECIFIED  UNSPECIFIED   \n",
       "1            LAP BELT   DRIVER          M  UNSPECIFIED  UNSPECIFIED   \n",
       "\n",
       "  vehicle_year vehicle_occupants driver_sex driver_license_status  \\\n",
       "0  UNSPECIFIED       UNSPECIFIED          M           UNSPECIFIED   \n",
       "1  UNSPECIFIED       UNSPECIFIED          M           UNSPECIFIED   \n",
       "\n",
       "      pre_crash point_of_impact vehicle_damage contributing_factor_1  \\\n",
       "0  NOT_AVALIBLE    NOT_AVALIBLE   NOT_AVALIBLE          NOT_AVALIBLE   \n",
       "1  NOT_AVALIBLE    NOT_AVALIBLE   NOT_AVALIBLE          NOT_AVALIBLE   \n",
       "\n",
       "  contributing_factor_2    borough  zip_code   latitude  longitude  \\\n",
       "0          NOT_AVALIBLE     QUEENS     11378  40.725560  -73.89849   \n",
       "1          NOT_AVALIBLE  MANHATTAN     10025  40.793377  -73.97086   \n",
       "\n",
       "                     on_street_name  number_of_contributing_vehicles  \\\n",
       "0  LONG ISLAND EXPRESSWAY                                          2   \n",
       "1  AMSTERDAM AVENUE                                                2   \n",
       "\n",
       "   crash_date_year  crash_date_month  crash_date_day      Time city_info  \\\n",
       "0             2019                10              26  16:30:00   Maspeth   \n",
       "1             2019                10              26  20:00:00  New York   \n",
       "\n",
       "   population  median_household_income  \n",
       "0     34981.0                  57474.0  \n",
       "1     94600.0                  68516.0  "
      ]
     },
     "execution_count": 5,
     "metadata": {},
     "output_type": "execute_result"
    }
   ],
   "source": [
    "df.head(2)"
   ]
  },
  {
   "cell_type": "code",
   "execution_count": null,
   "id": "7cc501e4",
   "metadata": {},
   "outputs": [],
   "source": []
  }
 ],
 "metadata": {
  "kernelspec": {
   "display_name": "Python 3",
   "language": "python",
   "name": "python3"
  },
  "language_info": {
   "codemirror_mode": {
    "name": "ipython",
    "version": 3
   },
   "file_extension": ".py",
   "mimetype": "text/x-python",
   "name": "python",
   "nbconvert_exporter": "python",
   "pygments_lexer": "ipython3",
   "version": "3.8.8"
  },
  "toc": {
   "base_numbering": 1,
   "nav_menu": {},
   "number_sections": true,
   "sideBar": true,
   "skip_h1_title": false,
   "title_cell": "Table of Contents",
   "title_sidebar": "Contents",
   "toc_cell": false,
   "toc_position": {},
   "toc_section_display": true,
   "toc_window_display": false
  }
 },
 "nbformat": 4,
 "nbformat_minor": 5
}
