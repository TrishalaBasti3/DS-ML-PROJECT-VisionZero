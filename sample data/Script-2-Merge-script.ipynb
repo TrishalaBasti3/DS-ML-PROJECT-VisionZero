{
 "cells": [
  {
   "cell_type": "code",
   "execution_count": 1,
   "id": "b21e7207",
   "metadata": {
    "ExecuteTime": {
     "end_time": "2021-11-11T03:29:37.302624Z",
     "start_time": "2021-11-11T03:29:36.457052Z"
    }
   },
   "outputs": [],
   "source": [
    "import pandas as pd\n",
    "import numpy as np\n"
   ]
  },
  {
   "cell_type": "code",
   "execution_count": 2,
   "id": "f9f0d07c",
   "metadata": {
    "ExecuteTime": {
     "end_time": "2021-11-11T03:29:39.513316Z",
     "start_time": "2021-11-11T03:29:37.304619Z"
    }
   },
   "outputs": [],
   "source": [
    "crashes = pd.read_csv(\"C:\\\\CompletePython\\\\DataScience\\VisionZero\\\\2016\\\\crashes-full.sample.csv\")\n",
    "people = pd.read_csv(\"C:\\\\CompletePython\\\\DataScience\\VisionZero\\\\2016\\\\people-full.sample.csv\")\n",
    "vehicles= pd.read_csv(\"C:\\\\CompletePython\\\\DataScience\\VisionZero\\\\2016\\\\vehicles-full.sample.csv\")"
   ]
  },
  {
   "cell_type": "markdown",
   "id": "88ccd89b",
   "metadata": {},
   "source": [
    "### Transform the contributing factors columns to \"number_of_contributing_factors\""
   ]
  },
  {
   "cell_type": "code",
   "execution_count": 3,
   "id": "936a7477",
   "metadata": {
    "ExecuteTime": {
     "end_time": "2021-11-11T03:29:39.682801Z",
     "start_time": "2021-11-11T03:29:39.515310Z"
    }
   },
   "outputs": [
    {
     "data": {
      "text/html": [
       "<div>\n",
       "<style scoped>\n",
       "    .dataframe tbody tr th:only-of-type {\n",
       "        vertical-align: middle;\n",
       "    }\n",
       "\n",
       "    .dataframe tbody tr th {\n",
       "        vertical-align: top;\n",
       "    }\n",
       "\n",
       "    .dataframe thead th {\n",
       "        text-align: right;\n",
       "    }\n",
       "</style>\n",
       "<table border=\"1\" class=\"dataframe\">\n",
       "  <thead>\n",
       "    <tr style=\"text-align: right;\">\n",
       "      <th></th>\n",
       "      <th>crash_date</th>\n",
       "      <th>crash_time</th>\n",
       "      <th>borough</th>\n",
       "      <th>zip_code</th>\n",
       "      <th>latitude</th>\n",
       "      <th>longitude</th>\n",
       "      <th>location</th>\n",
       "      <th>on_street_name</th>\n",
       "      <th>cross_street_name</th>\n",
       "      <th>off_street_name</th>\n",
       "      <th>...</th>\n",
       "      <th>contributing_factor_vehicle_3</th>\n",
       "      <th>contributing_factor_vehicle_4</th>\n",
       "      <th>contributing_factor_vehicle_5</th>\n",
       "      <th>collision_id</th>\n",
       "      <th>vehicle_type_code_1</th>\n",
       "      <th>vehicle_type_code_2</th>\n",
       "      <th>vehicle_type_code_3</th>\n",
       "      <th>vehicle_type_code_4</th>\n",
       "      <th>vehicle_type_code_5</th>\n",
       "      <th>number_of_contributing_vehicles</th>\n",
       "    </tr>\n",
       "  </thead>\n",
       "  <tbody>\n",
       "    <tr>\n",
       "      <th>0</th>\n",
       "      <td>2019-05-21</td>\n",
       "      <td>22:50</td>\n",
       "      <td>BROOKLYN</td>\n",
       "      <td>11201.0</td>\n",
       "      <td>40.697540</td>\n",
       "      <td>-73.98312</td>\n",
       "      <td>(40.69754, -73.98312)</td>\n",
       "      <td>GOLD STREET</td>\n",
       "      <td>CONCORD STREET</td>\n",
       "      <td>NaN</td>\n",
       "      <td>...</td>\n",
       "      <td>NaN</td>\n",
       "      <td>NaN</td>\n",
       "      <td>NaN</td>\n",
       "      <td>4136992</td>\n",
       "      <td>�MBU</td>\n",
       "      <td>Taxi</td>\n",
       "      <td>NaN</td>\n",
       "      <td>NaN</td>\n",
       "      <td>NaN</td>\n",
       "      <td>2</td>\n",
       "    </tr>\n",
       "    <tr>\n",
       "      <th>1</th>\n",
       "      <td>2021-04-14</td>\n",
       "      <td>14:40</td>\n",
       "      <td>NaN</td>\n",
       "      <td>NaN</td>\n",
       "      <td>40.698807</td>\n",
       "      <td>-73.91837</td>\n",
       "      <td>(40.698807, -73.91837)</td>\n",
       "      <td>MYRTLE AVENUE</td>\n",
       "      <td>NaN</td>\n",
       "      <td>NaN</td>\n",
       "      <td>...</td>\n",
       "      <td>NaN</td>\n",
       "      <td>NaN</td>\n",
       "      <td>NaN</td>\n",
       "      <td>4407461</td>\n",
       "      <td>Box Truck</td>\n",
       "      <td>Sedan</td>\n",
       "      <td>NaN</td>\n",
       "      <td>NaN</td>\n",
       "      <td>NaN</td>\n",
       "      <td>2</td>\n",
       "    </tr>\n",
       "    <tr>\n",
       "      <th>2</th>\n",
       "      <td>2021-04-15</td>\n",
       "      <td>17:20</td>\n",
       "      <td>BROOKLYN</td>\n",
       "      <td>11236.0</td>\n",
       "      <td>40.650402</td>\n",
       "      <td>-73.89422</td>\n",
       "      <td>(40.650402, -73.89422)</td>\n",
       "      <td>GLENWOOD ROAD</td>\n",
       "      <td>EAST 108 STREET</td>\n",
       "      <td>NaN</td>\n",
       "      <td>...</td>\n",
       "      <td>NaN</td>\n",
       "      <td>NaN</td>\n",
       "      <td>NaN</td>\n",
       "      <td>4407638</td>\n",
       "      <td>Sedan</td>\n",
       "      <td>Van</td>\n",
       "      <td>NaN</td>\n",
       "      <td>NaN</td>\n",
       "      <td>NaN</td>\n",
       "      <td>2</td>\n",
       "    </tr>\n",
       "  </tbody>\n",
       "</table>\n",
       "<p>3 rows × 30 columns</p>\n",
       "</div>"
      ],
      "text/plain": [
       "   crash_date crash_time   borough  zip_code   latitude  longitude  \\\n",
       "0  2019-05-21      22:50  BROOKLYN   11201.0  40.697540  -73.98312   \n",
       "1  2021-04-14      14:40       NaN       NaN  40.698807  -73.91837   \n",
       "2  2021-04-15      17:20  BROOKLYN   11236.0  40.650402  -73.89422   \n",
       "\n",
       "                 location on_street_name cross_street_name off_street_name  \\\n",
       "0   (40.69754, -73.98312)    GOLD STREET    CONCORD STREET             NaN   \n",
       "1  (40.698807, -73.91837)  MYRTLE AVENUE               NaN             NaN   \n",
       "2  (40.650402, -73.89422)  GLENWOOD ROAD   EAST 108 STREET             NaN   \n",
       "\n",
       "   ...  contributing_factor_vehicle_3  contributing_factor_vehicle_4  \\\n",
       "0  ...                            NaN                            NaN   \n",
       "1  ...                            NaN                            NaN   \n",
       "2  ...                            NaN                            NaN   \n",
       "\n",
       "   contributing_factor_vehicle_5  collision_id  vehicle_type_code_1  \\\n",
       "0                            NaN       4136992                 �MBU   \n",
       "1                            NaN       4407461            Box Truck   \n",
       "2                            NaN       4407638                Sedan   \n",
       "\n",
       "   vehicle_type_code_2  vehicle_type_code_3  vehicle_type_code_4  \\\n",
       "0                 Taxi                  NaN                  NaN   \n",
       "1                Sedan                  NaN                  NaN   \n",
       "2                  Van                  NaN                  NaN   \n",
       "\n",
       "  vehicle_type_code_5 number_of_contributing_vehicles  \n",
       "0                 NaN                               2  \n",
       "1                 NaN                               2  \n",
       "2                 NaN                               2  \n",
       "\n",
       "[3 rows x 30 columns]"
      ]
     },
     "execution_count": 3,
     "metadata": {},
     "output_type": "execute_result"
    }
   ],
   "source": [
    "conditions = [\n",
    "    (crashes['contributing_factor_vehicle_1'].isna()) & \n",
    "    (crashes['contributing_factor_vehicle_2'].isna()) &\n",
    "    (crashes['contributing_factor_vehicle_3'].isna()) & \n",
    "    (crashes['contributing_factor_vehicle_4'].isna()) &\n",
    "    (crashes['contributing_factor_vehicle_5'].isna()),\n",
    "    \n",
    "    (crashes['contributing_factor_vehicle_1'].notna()) & \n",
    "    (crashes['contributing_factor_vehicle_2'].isna()) &\n",
    "    (crashes['contributing_factor_vehicle_3'].isna()) & \n",
    "    (crashes['contributing_factor_vehicle_4'].isna()) &\n",
    "    (crashes['contributing_factor_vehicle_5'].isna()),\n",
    "    \n",
    "    (crashes['contributing_factor_vehicle_1'].notna()) & \n",
    "    (crashes['contributing_factor_vehicle_2'].notna()) &\n",
    "    (crashes['contributing_factor_vehicle_3'].isna()) & \n",
    "    (crashes['contributing_factor_vehicle_4'].isna()) &\n",
    "    (crashes['contributing_factor_vehicle_5'].isna()),\n",
    "    \n",
    "    (crashes['contributing_factor_vehicle_1'].notna()) & \n",
    "    (crashes['contributing_factor_vehicle_2'].notna()) &\n",
    "    (crashes['contributing_factor_vehicle_3'].notna()) & \n",
    "    (crashes['contributing_factor_vehicle_4'].isna()) &\n",
    "    (crashes['contributing_factor_vehicle_5'].isna()),\n",
    "    \n",
    "    (crashes['contributing_factor_vehicle_1'].notna()) & \n",
    "    (crashes['contributing_factor_vehicle_2'].notna()) &\n",
    "    (crashes['contributing_factor_vehicle_3'].notna()) & \n",
    "    (crashes['contributing_factor_vehicle_4'].notna()) &\n",
    "    (crashes['contributing_factor_vehicle_5'].isna()),\n",
    "    \n",
    "    (crashes['contributing_factor_vehicle_1'].notna()) & \n",
    "    (crashes['contributing_factor_vehicle_2'].notna()) &\n",
    "    (crashes['contributing_factor_vehicle_3'].notna()) & \n",
    "    (crashes['contributing_factor_vehicle_4'].notna()) &\n",
    "    (crashes['contributing_factor_vehicle_5'].notna())]\n",
    "    \n",
    "    \n",
    "\n",
    "choices = [0,1,2,3,4,5]\n",
    "\n",
    "# Add new column based on conditions and choices:\n",
    "crashes['number_of_contributing_vehicles'] = np.select(conditions, choices)\n",
    "crashes.head(3)"
   ]
  },
  {
   "cell_type": "markdown",
   "id": "84fcd132",
   "metadata": {},
   "source": [
    "###  Removing the columns which might not be helpful for target variable. "
   ]
  },
  {
   "cell_type": "code",
   "execution_count": 4,
   "id": "9f798cb3",
   "metadata": {
    "ExecuteTime": {
     "end_time": "2021-11-11T03:29:39.698120Z",
     "start_time": "2021-11-11T03:29:39.684129Z"
    }
   },
   "outputs": [],
   "source": [
    "crashes_transform = crashes[['borough', 'zip_code', 'latitude', 'longitude', 'on_street_name',\n",
    "       'collision_id','number_of_contributing_vehicles',]]"
   ]
  },
  {
   "cell_type": "code",
   "execution_count": 5,
   "id": "11e55886",
   "metadata": {
    "ExecuteTime": {
     "end_time": "2021-11-11T03:29:39.728013Z",
     "start_time": "2021-11-11T03:29:39.699092Z"
    }
   },
   "outputs": [
    {
     "data": {
      "text/html": [
       "<div>\n",
       "<style scoped>\n",
       "    .dataframe tbody tr th:only-of-type {\n",
       "        vertical-align: middle;\n",
       "    }\n",
       "\n",
       "    .dataframe tbody tr th {\n",
       "        vertical-align: top;\n",
       "    }\n",
       "\n",
       "    .dataframe thead th {\n",
       "        text-align: right;\n",
       "    }\n",
       "</style>\n",
       "<table border=\"1\" class=\"dataframe\">\n",
       "  <thead>\n",
       "    <tr style=\"text-align: right;\">\n",
       "      <th></th>\n",
       "      <th>borough</th>\n",
       "      <th>zip_code</th>\n",
       "      <th>latitude</th>\n",
       "      <th>longitude</th>\n",
       "      <th>on_street_name</th>\n",
       "      <th>collision_id</th>\n",
       "      <th>number_of_contributing_vehicles</th>\n",
       "      <th>number_of_persons_injured</th>\n",
       "      <th>number_of_persons_killed</th>\n",
       "      <th>number_of_pedestrians_injured</th>\n",
       "      <th>number_of_pedestrians_killed</th>\n",
       "      <th>number_of_cyclist_injured</th>\n",
       "      <th>number_of_cyclist_killed</th>\n",
       "      <th>number_of_motorist_injured</th>\n",
       "      <th>number_of_motorist_killed</th>\n",
       "    </tr>\n",
       "  </thead>\n",
       "  <tbody>\n",
       "    <tr>\n",
       "      <th>0</th>\n",
       "      <td>BROOKLYN</td>\n",
       "      <td>11201.0</td>\n",
       "      <td>40.697540</td>\n",
       "      <td>-73.983120</td>\n",
       "      <td>GOLD STREET</td>\n",
       "      <td>4136992</td>\n",
       "      <td>2</td>\n",
       "      <td>0.0</td>\n",
       "      <td>0.0</td>\n",
       "      <td>0</td>\n",
       "      <td>0</td>\n",
       "      <td>0</td>\n",
       "      <td>0</td>\n",
       "      <td>0</td>\n",
       "      <td>0</td>\n",
       "    </tr>\n",
       "    <tr>\n",
       "      <th>1</th>\n",
       "      <td>NaN</td>\n",
       "      <td>NaN</td>\n",
       "      <td>40.698807</td>\n",
       "      <td>-73.918370</td>\n",
       "      <td>MYRTLE AVENUE</td>\n",
       "      <td>4407461</td>\n",
       "      <td>2</td>\n",
       "      <td>0.0</td>\n",
       "      <td>0.0</td>\n",
       "      <td>0</td>\n",
       "      <td>0</td>\n",
       "      <td>0</td>\n",
       "      <td>0</td>\n",
       "      <td>0</td>\n",
       "      <td>0</td>\n",
       "    </tr>\n",
       "    <tr>\n",
       "      <th>2</th>\n",
       "      <td>BROOKLYN</td>\n",
       "      <td>11236.0</td>\n",
       "      <td>40.650402</td>\n",
       "      <td>-73.894220</td>\n",
       "      <td>GLENWOOD ROAD</td>\n",
       "      <td>4407638</td>\n",
       "      <td>2</td>\n",
       "      <td>1.0</td>\n",
       "      <td>0.0</td>\n",
       "      <td>0</td>\n",
       "      <td>0</td>\n",
       "      <td>0</td>\n",
       "      <td>0</td>\n",
       "      <td>1</td>\n",
       "      <td>0</td>\n",
       "    </tr>\n",
       "    <tr>\n",
       "      <th>3</th>\n",
       "      <td>BROOKLYN</td>\n",
       "      <td>11221.0</td>\n",
       "      <td>40.686928</td>\n",
       "      <td>-73.920815</td>\n",
       "      <td>NaN</td>\n",
       "      <td>4408224</td>\n",
       "      <td>2</td>\n",
       "      <td>0.0</td>\n",
       "      <td>0.0</td>\n",
       "      <td>0</td>\n",
       "      <td>0</td>\n",
       "      <td>0</td>\n",
       "      <td>0</td>\n",
       "      <td>0</td>\n",
       "      <td>0</td>\n",
       "    </tr>\n",
       "    <tr>\n",
       "      <th>4</th>\n",
       "      <td>BROOKLYN</td>\n",
       "      <td>11220.0</td>\n",
       "      <td>40.633976</td>\n",
       "      <td>-74.022110</td>\n",
       "      <td>NaN</td>\n",
       "      <td>4407821</td>\n",
       "      <td>2</td>\n",
       "      <td>1.0</td>\n",
       "      <td>0.0</td>\n",
       "      <td>0</td>\n",
       "      <td>0</td>\n",
       "      <td>0</td>\n",
       "      <td>0</td>\n",
       "      <td>1</td>\n",
       "      <td>0</td>\n",
       "    </tr>\n",
       "  </tbody>\n",
       "</table>\n",
       "</div>"
      ],
      "text/plain": [
       "    borough  zip_code   latitude  longitude on_street_name  collision_id  \\\n",
       "0  BROOKLYN   11201.0  40.697540 -73.983120    GOLD STREET       4136992   \n",
       "1       NaN       NaN  40.698807 -73.918370  MYRTLE AVENUE       4407461   \n",
       "2  BROOKLYN   11236.0  40.650402 -73.894220  GLENWOOD ROAD       4407638   \n",
       "3  BROOKLYN   11221.0  40.686928 -73.920815            NaN       4408224   \n",
       "4  BROOKLYN   11220.0  40.633976 -74.022110            NaN       4407821   \n",
       "\n",
       "   number_of_contributing_vehicles  number_of_persons_injured  \\\n",
       "0                                2                        0.0   \n",
       "1                                2                        0.0   \n",
       "2                                2                        1.0   \n",
       "3                                2                        0.0   \n",
       "4                                2                        1.0   \n",
       "\n",
       "   number_of_persons_killed  number_of_pedestrians_injured  \\\n",
       "0                       0.0                              0   \n",
       "1                       0.0                              0   \n",
       "2                       0.0                              0   \n",
       "3                       0.0                              0   \n",
       "4                       0.0                              0   \n",
       "\n",
       "   number_of_pedestrians_killed  number_of_cyclist_injured  \\\n",
       "0                             0                          0   \n",
       "1                             0                          0   \n",
       "2                             0                          0   \n",
       "3                             0                          0   \n",
       "4                             0                          0   \n",
       "\n",
       "   number_of_cyclist_killed  number_of_motorist_injured  \\\n",
       "0                         0                           0   \n",
       "1                         0                           0   \n",
       "2                         0                           1   \n",
       "3                         0                           0   \n",
       "4                         0                           1   \n",
       "\n",
       "   number_of_motorist_killed  \n",
       "0                          0  \n",
       "1                          0  \n",
       "2                          0  \n",
       "3                          0  \n",
       "4                          0  "
      ]
     },
     "execution_count": 5,
     "metadata": {},
     "output_type": "execute_result"
    }
   ],
   "source": [
    "crashes_transform.head(5)"
   ]
  },
  {
   "cell_type": "markdown",
   "id": "2619104b",
   "metadata": {},
   "source": [
    "### Feature selection "
   ]
  },
  {
   "cell_type": "code",
   "execution_count": 6,
   "id": "f2faf41e",
   "metadata": {
    "ExecuteTime": {
     "end_time": "2021-11-11T03:29:39.791389Z",
     "start_time": "2021-11-11T03:29:39.729011Z"
    }
   },
   "outputs": [],
   "source": [
    "# feature selection \n",
    "people_transform = people[[ 'collision_id', 'crash_date', 'crash_time', 'person_id',\n",
    "       'person_type', 'person_injury', 'vehicle_id', 'person_age', 'ejection',\n",
    "       'emotional_status', 'bodily_injury', 'position_in_vehicle',\n",
    "       'safety_equipment', 'complaint',\n",
    "       'ped_role','person_sex']]"
   ]
  },
  {
   "cell_type": "markdown",
   "id": "d80d4bb6",
   "metadata": {},
   "source": [
    "### Removing the columns which might not be helpful for target variable"
   ]
  },
  {
   "cell_type": "code",
   "execution_count": 7,
   "id": "e3e1f04b",
   "metadata": {
    "ExecuteTime": {
     "end_time": "2021-11-11T03:29:39.821313Z",
     "start_time": "2021-11-11T03:29:39.800408Z"
    }
   },
   "outputs": [],
   "source": [
    "vehicles_transform = vehicles[[ 'unique_id', 'collision_id',  'vehicle_type', 'vehicle_make', \n",
    "       'vehicle_year', 'vehicle_occupants', 'driver_sex', 'driver_license_status', 'pre_crash',\n",
    "        'point_of_impact', 'vehicle_damage',  'public_property_damage', 'contributing_factor_1',\n",
    "       'contributing_factor_2']]"
   ]
  },
  {
   "cell_type": "code",
   "execution_count": null,
   "id": "e13d232a",
   "metadata": {},
   "outputs": [],
   "source": []
  },
  {
   "cell_type": "markdown",
   "id": "d00df548",
   "metadata": {},
   "source": [
    "# Merge Vehicle data with Peoples data\n",
    "* People data is important. We need to merge vehicle with Peoples using vehicleID keeping "
   ]
  },
  {
   "cell_type": "markdown",
   "id": "21aae8fd",
   "metadata": {},
   "source": [
    "## Merge person and vehicle"
   ]
  },
  {
   "cell_type": "code",
   "execution_count": 8,
   "id": "87e34d80",
   "metadata": {
    "ExecuteTime": {
     "end_time": "2021-11-11T03:29:40.361525Z",
     "start_time": "2021-11-11T03:29:39.822311Z"
    }
   },
   "outputs": [],
   "source": [
    "#Merge person and vehicle \n",
    "people_vehicles = pd.merge(people_transform, vehicles_transform, how=\"left\", left_on=['vehicle_id'], right_on=['unique_id'] )"
   ]
  },
  {
   "cell_type": "markdown",
   "id": "f405a58e",
   "metadata": {
    "ExecuteTime": {
     "end_time": "2021-11-05T08:48:21.233628Z",
     "start_time": "2021-11-05T08:48:21.226649Z"
    }
   },
   "source": [
    "### vehicle with people with vehicel_ID"
   ]
  },
  {
   "cell_type": "code",
   "execution_count": 9,
   "id": "9fca6a1c",
   "metadata": {
    "ExecuteTime": {
     "end_time": "2021-11-11T03:29:40.612965Z",
     "start_time": "2021-11-11T03:29:40.363523Z"
    }
   },
   "outputs": [
    {
     "data": {
      "text/html": [
       "<div>\n",
       "<style scoped>\n",
       "    .dataframe tbody tr th:only-of-type {\n",
       "        vertical-align: middle;\n",
       "    }\n",
       "\n",
       "    .dataframe tbody tr th {\n",
       "        vertical-align: top;\n",
       "    }\n",
       "\n",
       "    .dataframe thead th {\n",
       "        text-align: right;\n",
       "    }\n",
       "</style>\n",
       "<table border=\"1\" class=\"dataframe\">\n",
       "  <thead>\n",
       "    <tr style=\"text-align: right;\">\n",
       "      <th></th>\n",
       "      <th>collision_id_x</th>\n",
       "      <th>crash_date</th>\n",
       "      <th>crash_time</th>\n",
       "      <th>person_id</th>\n",
       "      <th>person_type</th>\n",
       "      <th>person_injury</th>\n",
       "      <th>vehicle_id</th>\n",
       "      <th>person_age</th>\n",
       "      <th>ejection</th>\n",
       "      <th>emotional_status</th>\n",
       "      <th>...</th>\n",
       "      <th>vehicle_year</th>\n",
       "      <th>vehicle_occupants</th>\n",
       "      <th>driver_sex</th>\n",
       "      <th>driver_license_status</th>\n",
       "      <th>pre_crash</th>\n",
       "      <th>point_of_impact</th>\n",
       "      <th>vehicle_damage</th>\n",
       "      <th>public_property_damage</th>\n",
       "      <th>contributing_factor_1</th>\n",
       "      <th>contributing_factor_2</th>\n",
       "    </tr>\n",
       "  </thead>\n",
       "  <tbody>\n",
       "    <tr>\n",
       "      <th>0</th>\n",
       "      <td>4230635</td>\n",
       "      <td>2019-10-26</td>\n",
       "      <td>16:30</td>\n",
       "      <td>72df0ffc-1065-40d9-b535-34a54171cb13</td>\n",
       "      <td>Occupant</td>\n",
       "      <td>Unspecified</td>\n",
       "      <td>19144141.0</td>\n",
       "      <td>NaN</td>\n",
       "      <td>NaN</td>\n",
       "      <td>NaN</td>\n",
       "      <td>...</td>\n",
       "      <td>NaN</td>\n",
       "      <td>NaN</td>\n",
       "      <td>NaN</td>\n",
       "      <td>NaN</td>\n",
       "      <td>NaN</td>\n",
       "      <td>NaN</td>\n",
       "      <td>NaN</td>\n",
       "      <td>NaN</td>\n",
       "      <td>NaN</td>\n",
       "      <td>NaN</td>\n",
       "    </tr>\n",
       "    <tr>\n",
       "      <th>1</th>\n",
       "      <td>4230635</td>\n",
       "      <td>2019-10-26</td>\n",
       "      <td>16:30</td>\n",
       "      <td>95c1fcb0-c97a-4f33-a037-6d456b3a738d</td>\n",
       "      <td>Occupant</td>\n",
       "      <td>Unspecified</td>\n",
       "      <td>19144140.0</td>\n",
       "      <td>52.0</td>\n",
       "      <td>NaN</td>\n",
       "      <td>NaN</td>\n",
       "      <td>...</td>\n",
       "      <td>NaN</td>\n",
       "      <td>NaN</td>\n",
       "      <td>NaN</td>\n",
       "      <td>NaN</td>\n",
       "      <td>NaN</td>\n",
       "      <td>NaN</td>\n",
       "      <td>NaN</td>\n",
       "      <td>NaN</td>\n",
       "      <td>NaN</td>\n",
       "      <td>NaN</td>\n",
       "    </tr>\n",
       "    <tr>\n",
       "      <th>2</th>\n",
       "      <td>4230699</td>\n",
       "      <td>2019-10-23</td>\n",
       "      <td>15:00</td>\n",
       "      <td>e424f8bc-6766-4689-ab5b-8970062489f4</td>\n",
       "      <td>Occupant</td>\n",
       "      <td>Unspecified</td>\n",
       "      <td>19143794.0</td>\n",
       "      <td>38.0</td>\n",
       "      <td>Not Ejected</td>\n",
       "      <td>Does Not Apply</td>\n",
       "      <td>...</td>\n",
       "      <td>NaN</td>\n",
       "      <td>NaN</td>\n",
       "      <td>NaN</td>\n",
       "      <td>NaN</td>\n",
       "      <td>NaN</td>\n",
       "      <td>NaN</td>\n",
       "      <td>NaN</td>\n",
       "      <td>NaN</td>\n",
       "      <td>NaN</td>\n",
       "      <td>NaN</td>\n",
       "    </tr>\n",
       "    <tr>\n",
       "      <th>3</th>\n",
       "      <td>4229612</td>\n",
       "      <td>2019-10-26</td>\n",
       "      <td>12:06</td>\n",
       "      <td>a5a94fe8-9b1c-4d44-9278-30e9468750b0</td>\n",
       "      <td>Occupant</td>\n",
       "      <td>Unspecified</td>\n",
       "      <td>19140847.0</td>\n",
       "      <td>33.0</td>\n",
       "      <td>Not Ejected</td>\n",
       "      <td>Does Not Apply</td>\n",
       "      <td>...</td>\n",
       "      <td>NaN</td>\n",
       "      <td>NaN</td>\n",
       "      <td>NaN</td>\n",
       "      <td>NaN</td>\n",
       "      <td>NaN</td>\n",
       "      <td>NaN</td>\n",
       "      <td>NaN</td>\n",
       "      <td>NaN</td>\n",
       "      <td>NaN</td>\n",
       "      <td>NaN</td>\n",
       "    </tr>\n",
       "    <tr>\n",
       "      <th>4</th>\n",
       "      <td>4230939</td>\n",
       "      <td>2019-10-26</td>\n",
       "      <td>22:45</td>\n",
       "      <td>828e0e58-2e15-4ddf-8a6c-33e5d61f649f</td>\n",
       "      <td>Occupant</td>\n",
       "      <td>Unspecified</td>\n",
       "      <td>19143469.0</td>\n",
       "      <td>36.0</td>\n",
       "      <td>Not Ejected</td>\n",
       "      <td>Does Not Apply</td>\n",
       "      <td>...</td>\n",
       "      <td>NaN</td>\n",
       "      <td>NaN</td>\n",
       "      <td>NaN</td>\n",
       "      <td>NaN</td>\n",
       "      <td>NaN</td>\n",
       "      <td>NaN</td>\n",
       "      <td>NaN</td>\n",
       "      <td>NaN</td>\n",
       "      <td>NaN</td>\n",
       "      <td>NaN</td>\n",
       "    </tr>\n",
       "  </tbody>\n",
       "</table>\n",
       "<p>5 rows × 30 columns</p>\n",
       "</div>"
      ],
      "text/plain": [
       "   collision_id_x  crash_date crash_time  \\\n",
       "0         4230635  2019-10-26      16:30   \n",
       "1         4230635  2019-10-26      16:30   \n",
       "2         4230699  2019-10-23      15:00   \n",
       "3         4229612  2019-10-26      12:06   \n",
       "4         4230939  2019-10-26      22:45   \n",
       "\n",
       "                              person_id person_type person_injury  vehicle_id  \\\n",
       "0  72df0ffc-1065-40d9-b535-34a54171cb13    Occupant   Unspecified  19144141.0   \n",
       "1  95c1fcb0-c97a-4f33-a037-6d456b3a738d    Occupant   Unspecified  19144140.0   \n",
       "2  e424f8bc-6766-4689-ab5b-8970062489f4    Occupant   Unspecified  19143794.0   \n",
       "3  a5a94fe8-9b1c-4d44-9278-30e9468750b0    Occupant   Unspecified  19140847.0   \n",
       "4  828e0e58-2e15-4ddf-8a6c-33e5d61f649f    Occupant   Unspecified  19143469.0   \n",
       "\n",
       "   person_age     ejection emotional_status  ... vehicle_year  \\\n",
       "0         NaN          NaN              NaN  ...          NaN   \n",
       "1        52.0          NaN              NaN  ...          NaN   \n",
       "2        38.0  Not Ejected   Does Not Apply  ...          NaN   \n",
       "3        33.0  Not Ejected   Does Not Apply  ...          NaN   \n",
       "4        36.0  Not Ejected   Does Not Apply  ...          NaN   \n",
       "\n",
       "  vehicle_occupants driver_sex driver_license_status pre_crash  \\\n",
       "0               NaN        NaN                   NaN       NaN   \n",
       "1               NaN        NaN                   NaN       NaN   \n",
       "2               NaN        NaN                   NaN       NaN   \n",
       "3               NaN        NaN                   NaN       NaN   \n",
       "4               NaN        NaN                   NaN       NaN   \n",
       "\n",
       "  point_of_impact  vehicle_damage  public_property_damage  \\\n",
       "0             NaN             NaN                     NaN   \n",
       "1             NaN             NaN                     NaN   \n",
       "2             NaN             NaN                     NaN   \n",
       "3             NaN             NaN                     NaN   \n",
       "4             NaN             NaN                     NaN   \n",
       "\n",
       "  contributing_factor_1 contributing_factor_2  \n",
       "0                   NaN                   NaN  \n",
       "1                   NaN                   NaN  \n",
       "2                   NaN                   NaN  \n",
       "3                   NaN                   NaN  \n",
       "4                   NaN                   NaN  \n",
       "\n",
       "[5 rows x 30 columns]"
      ]
     },
     "execution_count": 9,
     "metadata": {},
     "output_type": "execute_result"
    }
   ],
   "source": [
    "vehicle_with_people=people_vehicles[people_vehicles[\"vehicle_id\"].notna()]\n",
    "vehicle_with_people.head(5)"
   ]
  },
  {
   "cell_type": "markdown",
   "id": "dbdbd5f4",
   "metadata": {},
   "source": [
    "### vehicle with people without vehicel_ID"
   ]
  },
  {
   "cell_type": "code",
   "execution_count": 10,
   "id": "ddcd8f52",
   "metadata": {
    "ExecuteTime": {
     "end_time": "2021-11-11T03:29:40.644879Z",
     "start_time": "2021-11-11T03:29:40.614914Z"
    }
   },
   "outputs": [],
   "source": [
    "people_without_vehicleID=people_vehicles[people_vehicles[\"vehicle_id\"].isna()]"
   ]
  },
  {
   "cell_type": "markdown",
   "id": "d960ec3e",
   "metadata": {},
   "source": [
    "## Merge people_vehicles and crashes"
   ]
  },
  {
   "cell_type": "markdown",
   "id": "b5c27823",
   "metadata": {},
   "source": [
    "### Merge crashes with people witthout vehicleID"
   ]
  },
  {
   "cell_type": "code",
   "execution_count": 11,
   "id": "ee9ba833",
   "metadata": {
    "ExecuteTime": {
     "end_time": "2021-11-11T03:29:40.849322Z",
     "start_time": "2021-11-11T03:29:40.646830Z"
    }
   },
   "outputs": [
    {
     "data": {
      "text/plain": [
       "(107393, 45)"
      ]
     },
     "execution_count": 11,
     "metadata": {},
     "output_type": "execute_result"
    }
   ],
   "source": [
    "crashes_without_vehicleID = pd.merge(people_without_vehicleID, crashes_transform, \n",
    "                                      how=\"right\", left_on=['collision_id_x'], right_on=['collision_id'])\n",
    "crashes_without_vehicleID.shape"
   ]
  },
  {
   "cell_type": "code",
   "execution_count": 12,
   "id": "3fcbfd14",
   "metadata": {
    "ExecuteTime": {
     "end_time": "2021-11-11T03:29:40.864285Z",
     "start_time": "2021-11-11T03:29:40.850284Z"
    }
   },
   "outputs": [],
   "source": [
    "### Merge crashes with people with vehicleID"
   ]
  },
  {
   "cell_type": "code",
   "execution_count": 13,
   "id": "f10c7234",
   "metadata": {
    "ExecuteTime": {
     "end_time": "2021-11-11T03:29:41.840665Z",
     "start_time": "2021-11-11T03:29:40.866242Z"
    }
   },
   "outputs": [],
   "source": [
    "crashes_with_vehicleID = pd.merge(vehicle_with_people, crashes_transform, \n",
    "                                  how=\"outer\", left_on=['collision_id_x'], right_on=['collision_id'])"
   ]
  },
  {
   "cell_type": "code",
   "execution_count": null,
   "id": "0234370d",
   "metadata": {},
   "outputs": [],
   "source": []
  },
  {
   "cell_type": "code",
   "execution_count": 14,
   "id": "35b9f63d",
   "metadata": {
    "ExecuteTime": {
     "end_time": "2021-11-11T03:29:41.856636Z",
     "start_time": "2021-11-11T03:29:41.841662Z"
    }
   },
   "outputs": [],
   "source": [
    "df = crashes_with_vehicleID"
   ]
  },
  {
   "cell_type": "code",
   "execution_count": 15,
   "id": "b8ba7dad",
   "metadata": {
    "ExecuteTime": {
     "end_time": "2021-11-11T03:29:42.423287Z",
     "start_time": "2021-11-11T03:29:41.857618Z"
    }
   },
   "outputs": [],
   "source": [
    "df = df.append(crashes_without_vehicleID)"
   ]
  },
  {
   "cell_type": "markdown",
   "id": "0d0c99ce",
   "metadata": {},
   "source": [
    "# Dataset finally merged and feature selecting only the required ones. "
   ]
  },
  {
   "cell_type": "code",
   "execution_count": 16,
   "id": "a1326978",
   "metadata": {
    "ExecuteTime": {
     "end_time": "2021-11-11T03:29:43.116437Z",
     "start_time": "2021-11-11T03:29:42.427285Z"
    }
   },
   "outputs": [],
   "source": [
    "crash_people_vehicle = df[['crash_date', 'crash_time','person_type', 'person_injury', \n",
    "                           'person_age', 'ejection', 'emotional_status', \n",
    "                           'bodily_injury', 'position_in_vehicle', 'safety_equipment', \n",
    "                           'complaint', 'ped_role', 'person_sex', 'vehicle_type',\n",
    "                           'vehicle_make', 'vehicle_year', 'vehicle_occupants', 'driver_sex',\n",
    "                           'driver_license_status', 'pre_crash', 'point_of_impact', \n",
    "                           'vehicle_damage',  'contributing_factor_1', \n",
    "                           'contributing_factor_2', 'borough', 'zip_code','latitude', 'longitude',\n",
    "                           'on_street_name', 'collision_id', 'number_of_contributing_vehicle']]"
   ]
  },
  {
   "cell_type": "code",
   "execution_count": 17,
   "id": "4d260f49",
   "metadata": {
    "ExecuteTime": {
     "end_time": "2021-11-11T03:29:50.359910Z",
     "start_time": "2021-11-11T03:29:43.118432Z"
    }
   },
   "outputs": [],
   "source": [
    "crash_people_vehicle.to_csv(\"C:\\\\CompletePython\\\\DataScience\\VisionZero\\\\2016\\\\full.csv\",header=True)"
   ]
  },
  {
   "cell_type": "code",
   "execution_count": 18,
   "id": "d2a63957",
   "metadata": {
    "ExecuteTime": {
     "end_time": "2021-11-11T03:29:50.375872Z",
     "start_time": "2021-11-11T03:29:50.364907Z"
    }
   },
   "outputs": [],
   "source": [
    "#crash_people_vehicle_transform.to_excel(\"C:\\\\CompletePython\\\\DataScience\\VisionZero\\\\2016\\\\crash_people_vehicle_transform.xlsx\" ,header=True)"
   ]
  }
 ],
 "metadata": {
  "kernelspec": {
   "display_name": "Python 3",
   "language": "python",
   "name": "python3"
  },
  "language_info": {
   "codemirror_mode": {
    "name": "ipython",
    "version": 3
   },
   "file_extension": ".py",
   "mimetype": "text/x-python",
   "name": "python",
   "nbconvert_exporter": "python",
   "pygments_lexer": "ipython3",
   "version": "3.8.8"
  },
  "toc": {
   "base_numbering": 1,
   "nav_menu": {},
   "number_sections": true,
   "sideBar": true,
   "skip_h1_title": false,
   "title_cell": "Table of Contents",
   "title_sidebar": "Contents",
   "toc_cell": false,
   "toc_position": {
    "height": "calc(100% - 180px)",
    "left": "10px",
    "top": "150px",
    "width": "256px"
   },
   "toc_section_display": true,
   "toc_window_display": true
  }
 },
 "nbformat": 4,
 "nbformat_minor": 5
}
