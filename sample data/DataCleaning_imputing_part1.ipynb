{
 "cells": [
  {
   "cell_type": "markdown",
   "id": "ea6cbfb8",
   "metadata": {},
   "source": [
    "# Import libraries"
   ]
  },
  {
   "cell_type": "code",
   "execution_count": 1,
   "id": "52d24f5b",
   "metadata": {
    "ExecuteTime": {
     "end_time": "2021-11-16T15:11:13.082763Z",
     "start_time": "2021-11-16T15:11:10.966091Z"
    }
   },
   "outputs": [],
   "source": [
    "import pandas as pd\n",
    "import numpy as np\n",
    "import seaborn as sns\n",
    "import matplotlib.pyplot as plt\n",
    "from matplotlib.pyplot import figure\n",
    "\n",
    "# Import libaries for handling location related information\n",
    "# import geopy\n",
    "# import geopandas as gpd\n",
    "# from geopy.geocoders import Nominatim\n",
    "# from geopy.extra.rate_limiter import RateLimiter\n",
    "\n",
    "# import plotly_express as px\n",
    "# from shapely.geometry import point\n",
    "# from geopandas import GeoDataFrame\n",
    "# import pylab\n",
    "\n",
    "# from uszipcode import SearchEngine\n",
    "\n",
    "# To see all the columns \n",
    "pd.set_option('display.max_columns', 85)\n",
    "pd.set_option('display.max_rows', 600)"
   ]
  },
  {
   "cell_type": "code",
   "execution_count": 2,
   "id": "f3482456",
   "metadata": {
    "ExecuteTime": {
     "end_time": "2021-11-16T15:11:18.202267Z",
     "start_time": "2021-11-16T15:11:15.759010Z"
    }
   },
   "outputs": [],
   "source": [
    "crashes = pd.read_csv(\"C://CompletePython//DataScience/VisionZero//2016/full_with_NaN.csv\", low_memory=False)"
   ]
  },
  {
   "cell_type": "code",
   "execution_count": 3,
   "id": "e07db1a8",
   "metadata": {
    "ExecuteTime": {
     "end_time": "2021-11-16T15:11:18.922231Z",
     "start_time": "2021-11-16T15:11:18.906874Z"
    }
   },
   "outputs": [
    {
     "data": {
      "text/plain": [
       "(518491, 32)"
      ]
     },
     "execution_count": 3,
     "metadata": {},
     "output_type": "execute_result"
    }
   ],
   "source": [
    "crashes.shape"
   ]
  },
  {
   "cell_type": "code",
   "execution_count": 4,
   "id": "89f8a427",
   "metadata": {
    "ExecuteTime": {
     "end_time": "2021-11-16T15:11:20.561134Z",
     "start_time": "2021-11-16T15:11:20.545967Z"
    }
   },
   "outputs": [
    {
     "data": {
      "text/plain": [
       "Index(['Unnamed: 0', 'crash_date', 'crash_time', 'person_type',\n",
       "       'person_injury', 'person_age', 'ejection', 'emotional_status',\n",
       "       'bodily_injury', 'position_in_vehicle', 'safety_equipment', 'complaint',\n",
       "       'ped_role', 'person_sex', 'vehicle_type', 'vehicle_make',\n",
       "       'vehicle_year', 'vehicle_occupants', 'driver_sex',\n",
       "       'driver_license_status', 'pre_crash', 'point_of_impact',\n",
       "       'vehicle_damage', 'contributing_factor_1', 'contributing_factor_2',\n",
       "       'borough', 'zip_code', 'latitude', 'longitude', 'on_street_name',\n",
       "       'collision_id', 'number_of_contributing_vehicles'],\n",
       "      dtype='object')"
      ]
     },
     "execution_count": 4,
     "metadata": {},
     "output_type": "execute_result"
    }
   ],
   "source": [
    "crashes.columns"
   ]
  },
  {
   "cell_type": "code",
   "execution_count": 5,
   "id": "e31409dc",
   "metadata": {
    "ExecuteTime": {
     "end_time": "2021-11-16T15:11:23.044201Z",
     "start_time": "2021-11-16T15:11:22.027667Z"
    }
   },
   "outputs": [
    {
     "data": {
      "text/plain": [
       "Unnamed: 0                         411098\n",
       "collision_id                       104878\n",
       "latitude                            34581\n",
       "longitude                           27380\n",
       "on_street_name                       5952\n",
       "crash_date                           2012\n",
       "crash_time                           1439\n",
       "vehicle_make                         1231\n",
       "vehicle_type                          309\n",
       "person_age                            288\n",
       "zip_code                              212\n",
       "vehicle_year                          100\n",
       "contributing_factor_1                  55\n",
       "contributing_factor_2                  55\n",
       "vehicle_occupants                      47\n",
       "complaint                              21\n",
       "vehicle_damage                         19\n",
       "pre_crash                              19\n",
       "point_of_impact                        19\n",
       "safety_equipment                       17\n",
       "bodily_injury                          14\n",
       "position_in_vehicle                    11\n",
       "ped_role                               10\n",
       "emotional_status                        8\n",
       "ejection                                6\n",
       "number_of_contributing_vehicles         6\n",
       "borough                                 5\n",
       "person_type                             4\n",
       "person_sex                              3\n",
       "driver_license_status                   3\n",
       "driver_sex                              3\n",
       "person_injury                           3\n",
       "dtype: int64"
      ]
     },
     "execution_count": 5,
     "metadata": {},
     "output_type": "execute_result"
    }
   ],
   "source": [
    "crashes.nunique().sort_values(ascending=False)"
   ]
  },
  {
   "cell_type": "code",
   "execution_count": 6,
   "id": "eb6cbc76",
   "metadata": {
    "ExecuteTime": {
     "end_time": "2021-11-16T15:11:25.382557Z",
     "start_time": "2021-11-16T15:11:25.349645Z"
    }
   },
   "outputs": [
    {
     "data": {
      "text/plain": [
       "array(['Registrant', 'Driver', 'Passenger', 'Owner', 'Policy Holder',\n",
       "       'Witness', 'Other', 'Pedestrian', nan, 'Notified Person',\n",
       "       'In-Line Skater'], dtype=object)"
      ]
     },
     "execution_count": 6,
     "metadata": {},
     "output_type": "execute_result"
    }
   ],
   "source": [
    "# Read unique values of ped_role\n",
    "crashes['ped_role'].unique()"
   ]
  },
  {
   "cell_type": "code",
   "execution_count": 7,
   "id": "0e8a9ef4",
   "metadata": {
    "ExecuteTime": {
     "end_time": "2021-11-16T15:11:28.047942Z",
     "start_time": "2021-11-16T15:11:27.338986Z"
    }
   },
   "outputs": [
    {
     "data": {
      "text/plain": [
       "array(['Driver', 'Passenger', 'Other', 'Pedestrian', nan,\n",
       "       'In-Line Skater'], dtype=object)"
      ]
     },
     "execution_count": 7,
     "metadata": {},
     "output_type": "execute_result"
    }
   ],
   "source": [
    "# Drop always unspecified rows information for columns under ped_role\n",
    "list_ped_role_drop = ['Registrant', 'Owner', 'Policy Holder',\n",
    "       'Witness','Notified Person']\n",
    "for each in list_ped_role_drop:\n",
    "    crashes.drop(crashes.loc[crashes['ped_role']==each].index, inplace=True)\n",
    "crashes['ped_role'].unique()"
   ]
  },
  {
   "cell_type": "code",
   "execution_count": 8,
   "id": "06d7308b",
   "metadata": {
    "ExecuteTime": {
     "end_time": "2021-11-16T15:11:29.689594Z",
     "start_time": "2021-11-16T15:11:29.676661Z"
    }
   },
   "outputs": [
    {
     "data": {
      "text/plain": [
       "(327401, 32)"
      ]
     },
     "execution_count": 8,
     "metadata": {},
     "output_type": "execute_result"
    }
   ],
   "source": [
    "crashes.shape"
   ]
  },
  {
   "cell_type": "code",
   "execution_count": 10,
   "id": "1c3e4810",
   "metadata": {
    "ExecuteTime": {
     "end_time": "2021-11-16T15:11:45.468451Z",
     "start_time": "2021-11-16T15:11:45.160439Z"
    }
   },
   "outputs": [],
   "source": [
    "crashes = crashes.fillna({'ejection':\"unspecified\",\n",
    "      'emotional_status':\"unspecified\",'bodily_injury':\"unspecified\", 'position_in_vehicle':\"unspecified\",\n",
    "        'safety_equipment':\"unspecified\", 'complaint':\"unspecified\", 'person_sex':\"unspecified\",\n",
    "                                                              'vehicle_type': 'unspecified','vehicle_make':'unspecified',\n",
    "                                           'vehicle_year':'unspecified','vehicle_occupants':'unspecified',\n",
    "                                           'driver_sex':'unspecified', 'driver_license_status':'unspecified',\n",
    "                                            'pre_crash': 'not_available', 'point_of_impact':'not_available',\n",
    "                                            'vehicle_damage':'not_available', 'contributing_factor_1':'not_applicable',\n",
    "                                            'contributing_factor_2':'not_applicable'\n",
    "                                                             })"
   ]
  },
  {
   "cell_type": "code",
   "execution_count": 12,
   "id": "d12ef66f",
   "metadata": {
    "ExecuteTime": {
     "end_time": "2021-11-16T15:12:44.772257Z",
     "start_time": "2021-11-16T15:12:39.952777Z"
    }
   },
   "outputs": [],
   "source": [
    "crashes= crashes[(crashes.person_age<110) & (crashes.person_age>=0)] "
   ]
  },
  {
   "cell_type": "code",
   "execution_count": 14,
   "id": "bc37aab3",
   "metadata": {
    "ExecuteTime": {
     "end_time": "2021-11-16T15:13:34.038963Z",
     "start_time": "2021-11-16T15:13:33.998614Z"
    }
   },
   "outputs": [
    {
     "name": "stderr",
     "output_type": "stream",
     "text": [
      "C:\\Users\\Admin\\anaconda3\\lib\\site-packages\\pandas\\core\\series.py:4463: SettingWithCopyWarning: \n",
      "A value is trying to be set on a copy of a slice from a DataFrame\n",
      "\n",
      "See the caveats in the documentation: https://pandas.pydata.org/pandas-docs/stable/user_guide/indexing.html#returning-a-view-versus-a-copy\n",
      "  return super().fillna(\n"
     ]
    },
    {
     "data": {
      "text/html": [
       "<div>\n",
       "<style scoped>\n",
       "    .dataframe tbody tr th:only-of-type {\n",
       "        vertical-align: middle;\n",
       "    }\n",
       "\n",
       "    .dataframe tbody tr th {\n",
       "        vertical-align: top;\n",
       "    }\n",
       "\n",
       "    .dataframe thead th {\n",
       "        text-align: right;\n",
       "    }\n",
       "</style>\n",
       "<table border=\"1\" class=\"dataframe\">\n",
       "  <thead>\n",
       "    <tr style=\"text-align: right;\">\n",
       "      <th></th>\n",
       "      <th>Unnamed: 0</th>\n",
       "      <th>crash_date</th>\n",
       "      <th>crash_time</th>\n",
       "      <th>person_type</th>\n",
       "      <th>person_injury</th>\n",
       "      <th>person_age</th>\n",
       "      <th>ejection</th>\n",
       "      <th>emotional_status</th>\n",
       "      <th>bodily_injury</th>\n",
       "      <th>position_in_vehicle</th>\n",
       "      <th>safety_equipment</th>\n",
       "      <th>complaint</th>\n",
       "      <th>ped_role</th>\n",
       "      <th>person_sex</th>\n",
       "      <th>vehicle_type</th>\n",
       "      <th>vehicle_make</th>\n",
       "      <th>vehicle_year</th>\n",
       "      <th>vehicle_occupants</th>\n",
       "      <th>driver_sex</th>\n",
       "      <th>driver_license_status</th>\n",
       "      <th>pre_crash</th>\n",
       "      <th>point_of_impact</th>\n",
       "      <th>vehicle_damage</th>\n",
       "      <th>contributing_factor_1</th>\n",
       "      <th>contributing_factor_2</th>\n",
       "      <th>borough</th>\n",
       "      <th>zip_code</th>\n",
       "      <th>latitude</th>\n",
       "      <th>longitude</th>\n",
       "      <th>on_street_name</th>\n",
       "      <th>collision_id</th>\n",
       "      <th>number_of_contributing_vehicles</th>\n",
       "    </tr>\n",
       "  </thead>\n",
       "  <tbody>\n",
       "    <tr>\n",
       "      <th>2</th>\n",
       "      <td>2</td>\n",
       "      <td>2019-10-26</td>\n",
       "      <td>16:30</td>\n",
       "      <td>Occupant</td>\n",
       "      <td>Unspecified</td>\n",
       "      <td>52.0</td>\n",
       "      <td>Not Ejected</td>\n",
       "      <td>Does Not Apply</td>\n",
       "      <td>Does Not Apply</td>\n",
       "      <td>Driver</td>\n",
       "      <td>Lap Belt &amp; Harness</td>\n",
       "      <td>Does Not Apply</td>\n",
       "      <td>Driver</td>\n",
       "      <td>M</td>\n",
       "      <td>unspecified</td>\n",
       "      <td>unspecified</td>\n",
       "      <td>unspecified</td>\n",
       "      <td>unspecified</td>\n",
       "      <td>unspecified</td>\n",
       "      <td>unspecified</td>\n",
       "      <td>not_available</td>\n",
       "      <td>not_available</td>\n",
       "      <td>not_available</td>\n",
       "      <td>not_applicable</td>\n",
       "      <td>not_applicable</td>\n",
       "      <td>NaN</td>\n",
       "      <td>NaN</td>\n",
       "      <td>40.725560</td>\n",
       "      <td>-73.89849</td>\n",
       "      <td>LONG ISLAND EXPRESSWAY</td>\n",
       "      <td>4230635</td>\n",
       "      <td>2</td>\n",
       "    </tr>\n",
       "    <tr>\n",
       "      <th>3</th>\n",
       "      <td>3</td>\n",
       "      <td>2019-10-23</td>\n",
       "      <td>15:00</td>\n",
       "      <td>Occupant</td>\n",
       "      <td>Unspecified</td>\n",
       "      <td>38.0</td>\n",
       "      <td>Not Ejected</td>\n",
       "      <td>Does Not Apply</td>\n",
       "      <td>Does Not Apply</td>\n",
       "      <td>Unknown</td>\n",
       "      <td>Unknown</td>\n",
       "      <td>Does Not Apply</td>\n",
       "      <td>Driver</td>\n",
       "      <td>M</td>\n",
       "      <td>unspecified</td>\n",
       "      <td>unspecified</td>\n",
       "      <td>unspecified</td>\n",
       "      <td>unspecified</td>\n",
       "      <td>unspecified</td>\n",
       "      <td>unspecified</td>\n",
       "      <td>not_available</td>\n",
       "      <td>not_available</td>\n",
       "      <td>not_available</td>\n",
       "      <td>not_applicable</td>\n",
       "      <td>not_applicable</td>\n",
       "      <td>QUEENS</td>\n",
       "      <td>11369.0</td>\n",
       "      <td>40.762394</td>\n",
       "      <td>-73.87322</td>\n",
       "      <td>NaN</td>\n",
       "      <td>4230699</td>\n",
       "      <td>3</td>\n",
       "    </tr>\n",
       "  </tbody>\n",
       "</table>\n",
       "</div>"
      ],
      "text/plain": [
       "   Unnamed: 0  crash_date crash_time person_type person_injury  person_age  \\\n",
       "2           2  2019-10-26      16:30    Occupant   Unspecified        52.0   \n",
       "3           3  2019-10-23      15:00    Occupant   Unspecified        38.0   \n",
       "\n",
       "      ejection emotional_status   bodily_injury position_in_vehicle  \\\n",
       "2  Not Ejected   Does Not Apply  Does Not Apply              Driver   \n",
       "3  Not Ejected   Does Not Apply  Does Not Apply             Unknown   \n",
       "\n",
       "     safety_equipment       complaint ped_role person_sex vehicle_type  \\\n",
       "2  Lap Belt & Harness  Does Not Apply   Driver          M  unspecified   \n",
       "3             Unknown  Does Not Apply   Driver          M  unspecified   \n",
       "\n",
       "  vehicle_make vehicle_year vehicle_occupants   driver_sex  \\\n",
       "2  unspecified  unspecified       unspecified  unspecified   \n",
       "3  unspecified  unspecified       unspecified  unspecified   \n",
       "\n",
       "  driver_license_status      pre_crash point_of_impact vehicle_damage  \\\n",
       "2           unspecified  not_available   not_available  not_available   \n",
       "3           unspecified  not_available   not_available  not_available   \n",
       "\n",
       "  contributing_factor_1 contributing_factor_2 borough  zip_code   latitude  \\\n",
       "2        not_applicable        not_applicable     NaN       NaN  40.725560   \n",
       "3        not_applicable        not_applicable  QUEENS   11369.0  40.762394   \n",
       "\n",
       "   longitude                    on_street_name  collision_id  \\\n",
       "2  -73.89849  LONG ISLAND EXPRESSWAY                 4230635   \n",
       "3  -73.87322                               NaN       4230699   \n",
       "\n",
       "   number_of_contributing_vehicles  \n",
       "2                                2  \n",
       "3                                3  "
      ]
     },
     "execution_count": 14,
     "metadata": {},
     "output_type": "execute_result"
    }
   ],
   "source": [
    "crashes[\"person_age\"].fillna(value=crashes[\"person_age\"].mean(), inplace=True)\n",
    "crashes.head(2)"
   ]
  }
 ],
 "metadata": {
  "kernelspec": {
   "display_name": "Python 3",
   "language": "python",
   "name": "python3"
  },
  "language_info": {
   "codemirror_mode": {
    "name": "ipython",
    "version": 3
   },
   "file_extension": ".py",
   "mimetype": "text/x-python",
   "name": "python",
   "nbconvert_exporter": "python",
   "pygments_lexer": "ipython3",
   "version": "3.8.8"
  },
  "toc": {
   "base_numbering": 1,
   "nav_menu": {},
   "number_sections": true,
   "sideBar": true,
   "skip_h1_title": false,
   "title_cell": "Table of Contents",
   "title_sidebar": "Contents",
   "toc_cell": false,
   "toc_position": {},
   "toc_section_display": true,
   "toc_window_display": false
  }
 },
 "nbformat": 4,
 "nbformat_minor": 5
}
